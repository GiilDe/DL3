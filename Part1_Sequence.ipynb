{
  "cells": [
    {
      "cell_type": "markdown",
      "metadata": {
        "pycharm": {}
      },
      "source": [
        "$$\n",
        "\\newcommand{\\mat}[1]{\\boldsymbol {#1}}\n",
        "\\newcommand{\\mattr}[1]{\\boldsymbol {#1}^\\top}\n",
        "\\newcommand{\\matinv}[1]{\\boldsymbol {#1}^{-1}}\n",
        "\\newcommand{\\vec}[1]{\\boldsymbol {#1}}\n",
        "\\newcommand{\\vectr}[1]{\\boldsymbol {#1}^\\top}\n",
        "\\newcommand{\\rvar}[1]{\\mathrm {#1}}\n",
        "\\newcommand{\\rvec}[1]{\\boldsymbol{\\mathrm{#1}}}\n",
        "\\newcommand{\\diag}{\\mathop{\\mathrm {diag}}}\n",
        "\\newcommand{\\set}[1]{\\mathbb {#1}}\n",
        "\\newcommand{\\norm}[1]{\\left\\lVert#1\\right\\rVert}\n",
        "\\newcommand{\\pderiv}[2]{\\frac{\\partial #1}{\\partial #2}}\n",
        "\\newcommand{\\bb}[1]{\\boldsymbol{#1}}\n",
        "$$\n",
        "# Part 1: Sequence Models\n",
        "\u003ca id\u003dpart1\u003e\u003c/a\u003e"
      ]
    },
    {
      "cell_type": "markdown",
      "metadata": {
        "pycharm": {}
      },
      "source": [
        "In this part we will learn about working with text sequences using recurrent neural networks.\n",
        "We\u0027ll go from a raw text file all the way to a fully trained GRU-RNN model and generate works of art!"
      ]
    },
    {
      "cell_type": "code",
      "execution_count": 9,
      "metadata": {
        "pycharm": {
          "is_executing": false
        }
      },
      "outputs": [
        {
          "name": "stdout",
          "text": [
            "The autoreload extension is already loaded. To reload it, use:",
            "\n",
            "  %reload_ext",
            " ",
            "autoreload",
            "\n",
            "Using device:",
            " ",
            "cuda",
            "\n"
          ],
          "output_type": "stream"
        }
      ],
      "source": [
        "import unittest\n",
        "import os\n",
        "import sys\n",
        "import pathlib\n",
        "import urllib\n",
        "import shutil\n",
        "import re\n",
        "\n",
        "import numpy as np\n",
        "import torch\n",
        "import matplotlib.pyplot as plt\n",
        "\n",
        "%load_ext autoreload\n",
        "%autoreload 2\n",
        "\n",
        "test \u003d unittest.TestCase()\n",
        "plt.rcParams.update({\u0027font.size\u0027: 12})\n",
        "device \u003d torch.device(\u0027cuda\u0027 if torch.cuda.is_available() else \u0027cpu\u0027)\n",
        "print(\u0027Using device:\u0027, device)"
      ]
    },
    {
      "cell_type": "markdown",
      "metadata": {
        "pycharm": {}
      },
      "source": [
        "## Text generation with a char-level RNN\n",
        "\u003ca id\u003dpart1_1\u003e\u003c/a\u003e"
      ]
    },
    {
      "cell_type": "markdown",
      "metadata": {
        "pycharm": {}
      },
      "source": [
        "### Obtaining the corpus\n",
        "\u003ca id\u003dpart1_2\u003e\u003c/a\u003e"
      ]
    },
    {
      "cell_type": "markdown",
      "metadata": {
        "pycharm": {}
      },
      "source": [
        "Let\u0027s begin by downloading a corpus containing all the works of William Shakespeare.\n",
        "Since he was very prolific, this corpus is fairly large and will provide us with enough data for\n",
        "obtaining impressive results."
      ]
    },
    {
      "cell_type": "code",
      "execution_count": 10,
      "metadata": {
        "pycharm": {
          "is_executing": false
        }
      },
      "outputs": [
        {
          "name": "stdout",
          "text": [
            "Corpus file C:\\Users\\דידי\\.pytorch-datasets\\shakespeare.txt exists, skipping download.",
            "\n"
          ],
          "output_type": "stream"
        }
      ],
      "source": [
        "CORPUS_URL \u003d \u0027https://github.com/cedricdeboom/character-level-rnn-datasets/raw/master/datasets/shakespeare.txt\u0027\n",
        "DATA_DIR \u003d pathlib.Path.home().joinpath(\u0027.pytorch-datasets\u0027)\n",
        "\n",
        "def download_corpus(out_path\u003dDATA_DIR, url\u003dCORPUS_URL, force\u003dFalse):\n",
        "    pathlib.Path(out_path).mkdir(exist_ok\u003dTrue)\n",
        "    out_filename \u003d os.path.join(out_path, os.path.basename(url))\n",
        "    \n",
        "    if os.path.isfile(out_filename) and not force:\n",
        "        print(f\u0027Corpus file {out_filename} exists, skipping download.\u0027)\n",
        "    else:\n",
        "        print(f\u0027Downloading {url}...\u0027)\n",
        "        with urllib.request.urlopen(url) as response, open(out_filename, \u0027wb\u0027) as out_file:\n",
        "            shutil.copyfileobj(response, out_file)\n",
        "        print(f\u0027Saved to {out_filename}.\u0027)\n",
        "    return out_filename\n",
        "    \n",
        "corpus_path \u003d download_corpus()"
      ]
    },
    {
      "cell_type": "markdown",
      "metadata": {
        "pycharm": {}
      },
      "source": [
        "Load the text into memory and print a snippet:"
      ]
    },
    {
      "cell_type": "code",
      "execution_count": 11,
      "metadata": {
        "pycharm": {
          "is_executing": false
        }
      },
      "outputs": [
        {
          "name": "stdout",
          "text": [
            "Corpus length: 6347705 chars",
            "\n",
            "\n\nALLS WELL THAT ENDS WELL\n\nby William Shakespeare\n\nDramatis Personae\n\n  KING OF FRANCE\n  THE DUKE OF FLORENCE\n  BERTRAM, Count of Rousillon\n  LAFEU, an old lord\n  PAROLLES, a follower of Bertram\n  TWO FRENCH LORDS, serving with Bertram\n\n  STEWARD, Servant to the Countess of Rousillon\n  LAVACHE, a clown and Servant to the Countess of Rousillon\n  A PAGE, Servant to the Countess of Rousillon\n\n  COUNTESS OF ROUSILLON, mother to Bertram\n  HELENA, a gentlewoman protected by the Countess\n  A WIDOW OF FLORENCE.\n  DIANA, daughter to the Widow\n\n  VIOLENTA, neighbour and friend to the Widow\n  MARIANA, neighbour and friend to the Widow\n\n  Lords, Officers, Soldiers, etc., French and Florentine  \n\nSCENE:\nRousillon; Paris; Florence; Marseilles\n\nACT I. SCENE 1.\nRousillon. The COUNT\u0027S palace\n\nEnter BERTRAM, the COUNTESS OF ROUSILLON, HELENA, and LAFEU, all in black\n\n  COUNTESS. In delivering my son from me, I bury a second husband.\n  BERTRAM. And I in going, madam, weep o\u0027er my father\u0027s death anew;\n    but I must attend his Majesty\u0027s command, to whom I am now in\n    ward, evermore in subjection.\n  LAFEU. You shall find of the King a husband, madam; you, sir, a\n    father. He that so generally is at all times good must of\n  ",
            "\n"
          ],
          "output_type": "stream"
        }
      ],
      "source": [
        "with open(corpus_path, \u0027r\u0027) as f:\n",
        "    corpus \u003d f.read()\n",
        "\n",
        "print(f\u0027Corpus length: {len(corpus)} chars\u0027)\n",
        "print(corpus[7:1234])"
      ]
    },
    {
      "cell_type": "markdown",
      "metadata": {
        "pycharm": {}
      },
      "source": [
        "### Data Preprocessing\n",
        "\u003ca id\u003dpart1_3\u003e\u003c/a\u003e"
      ]
    },
    {
      "cell_type": "markdown",
      "metadata": {
        "pycharm": {}
      },
      "source": [
        "The first thing we\u0027ll need is to map from each unique character in the corpus to an index that will represent it in our learning process.\n",
        "\n",
        "**TODO**: Implement the `char_maps()` function in the `hw3/charnn.py` module."
      ]
    },
    {
      "cell_type": "code",
      "execution_count": 12,
      "metadata": {
        "pycharm": {
          "is_executing": false
        }
      },
      "outputs": [
        {
          "name": "stdout",
          "text": [
            "{\u0027\\n\u0027: 0, \u0027 \u0027: 1, \u0027!\u0027: 2, \u0027\"\u0027: 3, \u0027$\u0027: 4, \u0027\u0026\u0027: 5, \"\u0027\": 6, \u0027(\u0027: 7, \u0027)\u0027: 8, \u0027,\u0027: 9, \u0027-\u0027: 10, \u0027.\u0027: 11, \u00270\u0027: 12, \u00271\u0027: 13, \u00272\u0027: 14, \u00273\u0027: 15, \u00274\u0027: 16, \u00275\u0027: 17, \u00276\u0027: 18, \u00277\u0027: 19, \u00278\u0027: 20, \u00279\u0027: 21, \u0027:\u0027: 22, \u0027;\u0027: 23, \u0027\u003c\u0027: 24, \u0027?\u0027: 25, \u0027A\u0027: 26, \u0027B\u0027: 27, \u0027C\u0027: 28, \u0027D\u0027: 29, \u0027E\u0027: 30, \u0027F\u0027: 31, \u0027G\u0027: 32, \u0027H\u0027: 33, \u0027I\u0027: 34, \u0027J\u0027: 35, \u0027K\u0027: 36, \u0027L\u0027: 37, \u0027M\u0027: 38, \u0027N\u0027: 39, \u0027O\u0027: 40, \u0027P\u0027: 41, \u0027Q\u0027: 42, \u0027R\u0027: 43, \u0027S\u0027: 44, \u0027T\u0027: 45, \u0027U\u0027: 46, \u0027V\u0027: 47, \u0027W\u0027: 48, \u0027X\u0027: 49, \u0027Y\u0027: 50, \u0027Z\u0027: 51, \u0027[\u0027: 52, \u0027]\u0027: 53, \u0027_\u0027: 54, \u0027a\u0027: 55, \u0027b\u0027: 56, \u0027c\u0027: 57, \u0027d\u0027: 58, \u0027e\u0027: 59, \u0027f\u0027: 60, \u0027g\u0027: 61, \u0027h\u0027: 62, \u0027i\u0027: 63, \u0027j\u0027: 64, \u0027k\u0027: 65, \u0027l\u0027: 66, \u0027m\u0027: 67, \u0027n\u0027: 68, \u0027o\u0027: 69, \u0027p\u0027: 70, \u0027q\u0027: 71, \u0027r\u0027: 72, \u0027s\u0027: 73, \u0027t\u0027: 74, \u0027u\u0027: 75, \u0027v\u0027: 76, \u0027w\u0027: 77, \u0027x\u0027: 78, \u0027y\u0027: 79, \u0027z\u0027: 80, \u0027}\u0027: 81, \u0027»\u0027: 82, \u0027¿\u0027: 83, \u0027ן\u0027: 84}",
            "\n"
          ],
          "output_type": "stream"
        }
      ],
      "source": [
        "import hw3.charnn as charnn\n",
        "\n",
        "char_to_idx, idx_to_char \u003d charnn.char_maps(corpus)\n",
        "print(char_to_idx)\n",
        "\n",
        "test.assertEqual(len(char_to_idx), len(idx_to_char))\n",
        "test.assertSequenceEqual(list(char_to_idx.keys()), list(idx_to_char.values()))\n",
        "test.assertSequenceEqual(list(char_to_idx.values()), list(idx_to_char.keys()))"
      ]
    },
    {
      "cell_type": "markdown",
      "metadata": {
        "pycharm": {}
      },
      "source": [
        "Seems we have some strange characters in the corpus that are very rare and are probably due to mistakes.\n",
        "To reduce the length of each tensor we\u0027ll need to later represent our chars, it\u0027s best to remove them.\n",
        "\n",
        "**TODO**: Implement the `remove_chars()` function in the `hw3/charnn.py` module."
      ]
    },
    {
      "cell_type": "code",
      "execution_count": 13,
      "metadata": {
        "pycharm": {
          "is_executing": false
        }
      },
      "outputs": [
        {
          "name": "stdout",
          "text": [
            "Removed 33 chars",
            "\n"
          ],
          "output_type": "stream"
        }
      ],
      "source": [
        "corpus, n_removed \u003d charnn.remove_chars(corpus, [\u0027}\u0027,\u0027$\u0027,\u0027_\u0027,\u0027\u003c\u0027,\u0027\\ufeff\u0027])\n",
        "print(f\u0027Removed {n_removed} chars\u0027)\n",
        "\n",
        "# After removing the chars, re-create the mappings\n",
        "char_to_idx, idx_to_char \u003d charnn.char_maps(corpus)"
      ]
    },
    {
      "cell_type": "markdown",
      "metadata": {
        "pycharm": {}
      },
      "source": [
        "The next thing we need is an **embedding** of the chracters.\n",
        "An embedding is a representation of each token from the sequence as a tensor.\n",
        "For a char-level RNN, our tokens will be chars and we can thus use the simplest possible embedding: encode each char as a **one-hot** tensor. In other words, each char will be represented\n",
        "as a tensor whos length is the total number of unique chars (`V`) which contains all zeros except at the index\n",
        "corresponding to that specific char.\n",
        "\n",
        "**TODO**: Implement the functions `chars_to_onehot()` and `onehot_to_chars()` in the `hw3/charnn.py` module."
      ]
    },
    {
      "cell_type": "code",
      "execution_count": 14,
      "metadata": {
        "pycharm": {
          "is_executing": false
        }
      },
      "outputs": [
        {
          "name": "stdout",
          "text": [
            "st brine a maiden can season her praise in.\n",
            "\n",
            "tensor([[0, 0, 0, 0, 0, 0, 0, 0, 0, 0, 0, 0, 0, 0, 0, 0, 0, 0, 0, 0, 0, 0, 0, 0,\n         0, 0, 0, 0, 0, 0, 0, 0, 0, 0, 0, 0, 0, 0, 0, 0, 0, 0, 0, 0, 0, 0, 0, 0,\n         0, 0, 0, 0, 0, 0, 0, 0, 0, 0, 0, 0, 0, 0, 0, 0, 0, 0, 0, 0, 0, 0, 1, 0,\n         0, 0, 0, 0, 0, 0, 0, 0, 0],\n        [0, 0, 0, 0, 0, 0, 0, 0, 0, 0, 0, 0, 0, 0, 0, 0, 0, 0, 0, 0, 0, 0, 0, 0,\n         0, 0, 0, 0, 0, 0, 0, 0, 0, 0, 0, 0, 0, 0, 0, 0, 0, 0, 0, 0, 0, 0, 0, 0,\n         0, 0, 0, 0, 0, 0, 0, 0, 0, 0, 0, 0, 0, 0, 0, 0, 0, 0, 0, 0, 0, 0, 0, 1,\n         0, 0, 0, 0, 0, 0, 0, 0, 0],\n        [0, 1, 0, 0, 0, 0, 0, 0, 0, 0, 0, 0, 0, 0, 0, 0, 0, 0, 0, 0, 0, 0, 0, 0,\n         0, 0, 0, 0, 0, 0, 0, 0, 0, 0, 0, 0, 0, 0, 0, 0, 0, 0, 0, 0, 0, 0, 0, 0,\n         0, 0, 0, 0, 0, 0, 0, 0, 0, 0, 0, 0, 0, 0, 0, 0, 0, 0, 0, 0, 0, 0, 0, 0,\n         0, 0, 0, 0, 0, 0, 0, 0, 0]], dtype\u003dtorch.int8)",
            "\n"
          ],
          "output_type": "stream"
        }
      ],
      "source": [
        "# Wrap the actual embedding functions for calling convenience\n",
        "def embed(text):\n",
        "    return charnn.chars_to_onehot(text, char_to_idx)\n",
        "\n",
        "def unembed(embedding):\n",
        "    return charnn.onehot_to_chars(embedding, idx_to_char)\n",
        "\n",
        "text_snippet \u003d corpus[3104:3148]\n",
        "print(text_snippet)\n",
        "print(embed(text_snippet[0:3]))\n",
        "\n",
        "test.assertEqual(text_snippet, unembed(embed(text_snippet)))\n",
        "test.assertEqual(embed(text_snippet).dtype, torch.int8)"
      ]
    },
    {
      "cell_type": "markdown",
      "metadata": {
        "pycharm": {}
      },
      "source": [
        "### Dataset Creation\n",
        "\u003ca id\u003dpart1_4\u003e\u003c/a\u003e"
      ]
    },
    {
      "cell_type": "markdown",
      "metadata": {
        "pycharm": {}
      },
      "source": [
        "We wish to train our model to generate text by constantly predicting what the next char should be based on the past.\n",
        "To that end we\u0027ll need to train our recurrent network in a way similar to a classification task. At each timestep, we input a char and set the expected output (label) to be the next char in the original sequence.\n",
        "\n",
        "We will split our corpus into shorter sequences of length `S` chars (try to think why; see question below).\n",
        "Each **sample** we provide our model with will therefore be a tensor of shape `(S,V)` where `V` is the embedding dimension. Our model will operate sequentially on each char in the sequence.\n",
        "For each sample, we\u0027ll also need a **label**. This is simple another sequence, shifted by one char so that the label of each char is the next char in the corpus.\n",
        "\n",
        "**TODO**: Implement the `chars_to_labelled_samples()` function in the `hw3/charnn.py` module."
      ]
    },
    {
      "cell_type": "code",
      "execution_count": 16,
      "metadata": {
        "pycharm": {
          "is_executing": false
        }
      },
      "outputs": [
        {
          "traceback": [
            "\u001b[1;31m---------------------------------------------------------------------------\u001b[0m",
            "\u001b[1;31mRuntimeError\u001b[0m                              Traceback (most recent call last)",
            "\u001b[1;32m\u003cipython-input-16-897bf3e693e7\u003e\u001b[0m in \u001b[0;36m\u003cmodule\u003e\u001b[1;34m\u001b[0m\n\u001b[0;32m      4\u001b[0m \u001b[1;33m\u001b[0m\u001b[0m\n\u001b[0;32m      5\u001b[0m \u001b[1;31m# Create labelled samples\u001b[0m\u001b[1;33m\u001b[0m\u001b[1;33m\u001b[0m\u001b[1;33m\u001b[0m\u001b[0m\n\u001b[1;32m----\u003e 6\u001b[1;33m \u001b[0msamples\u001b[0m\u001b[1;33m,\u001b[0m \u001b[0mlabels\u001b[0m \u001b[1;33m\u003d\u001b[0m \u001b[0mcharnn\u001b[0m\u001b[1;33m.\u001b[0m\u001b[0mchars_to_labelled_samples\u001b[0m\u001b[1;33m(\u001b[0m\u001b[0mcorpus\u001b[0m\u001b[1;33m,\u001b[0m \u001b[0mchar_to_idx\u001b[0m\u001b[1;33m,\u001b[0m \u001b[0mseq_len\u001b[0m\u001b[1;33m,\u001b[0m \u001b[0mdevice\u001b[0m\u001b[1;33m)\u001b[0m\u001b[1;33m\u001b[0m\u001b[1;33m\u001b[0m\u001b[0m\n\u001b[0m\u001b[0;32m      7\u001b[0m \u001b[0mprint\u001b[0m\u001b[1;33m(\u001b[0m\u001b[1;34mf\u0027samples shape: {samples.shape}\u0027\u001b[0m\u001b[1;33m)\u001b[0m\u001b[1;33m\u001b[0m\u001b[1;33m\u001b[0m\u001b[0m\n\u001b[0;32m      8\u001b[0m \u001b[0mprint\u001b[0m\u001b[1;33m(\u001b[0m\u001b[1;34mf\u0027labels shape: {labels.shape}\u0027\u001b[0m\u001b[1;33m)\u001b[0m\u001b[1;33m\u001b[0m\u001b[1;33m\u001b[0m\u001b[0m\n",
            "\u001b[1;32m~\\PycharmProjects\\DL3\\hw3\\charnn.py\u001b[0m in \u001b[0;36mchars_to_labelled_samples\u001b[1;34m(text, char_to_idx, seq_len, device)\u001b[0m\n\u001b[0;32m    130\u001b[0m     \u001b[1;31m#TODO avoid loop in tensor initialization\u001b[0m\u001b[1;33m\u001b[0m\u001b[1;33m\u001b[0m\u001b[1;33m\u001b[0m\u001b[0m\n\u001b[0;32m    131\u001b[0m \u001b[1;33m\u001b[0m\u001b[0m\n\u001b[1;32m--\u003e 132\u001b[1;33m     \u001b[0msamples\u001b[0m \u001b[1;33m\u003d\u001b[0m \u001b[0msamples\u001b[0m\u001b[1;33m.\u001b[0m\u001b[0mto\u001b[0m\u001b[1;33m(\u001b[0m\u001b[0mdevice\u001b[0m\u001b[1;33m)\u001b[0m\u001b[1;33m\u001b[0m\u001b[1;33m\u001b[0m\u001b[0m\n\u001b[0m\u001b[0;32m    133\u001b[0m     \u001b[0mlabels\u001b[0m \u001b[1;33m\u003d\u001b[0m \u001b[0mlabels\u001b[0m\u001b[1;33m.\u001b[0m\u001b[0mto\u001b[0m\u001b[1;33m(\u001b[0m\u001b[0mdevice\u001b[0m\u001b[1;33m)\u001b[0m\u001b[1;33m\u001b[0m\u001b[1;33m\u001b[0m\u001b[0m\n\u001b[0;32m    134\u001b[0m \u001b[1;33m\u001b[0m\u001b[0m\n",
            "\u001b[1;31mRuntimeError\u001b[0m: CUDA out of memory. Tried to allocate 490.38 MiB (GPU 0; 2.00 GiB total capacity; 515.35 MiB already allocated; 336.79 MiB free; 282.50 KiB cached)"
          ],
          "ename": "RuntimeError",
          "evalue": "CUDA out of memory. Tried to allocate 490.38 MiB (GPU 0; 2.00 GiB total capacity; 515.35 MiB already allocated; 336.79 MiB free; 282.50 KiB cached)",
          "output_type": "error"
        }
      ],
      "source": [
        "# Create dataset of sequences\n",
        "seq_len \u003d 64\n",
        "vocab_len \u003d len(char_to_idx)\n",
        "\n",
        "# Create labelled samples\n",
        "samples, labels \u003d charnn.chars_to_labelled_samples(corpus, char_to_idx, seq_len, device)\n",
        "print(f\u0027samples shape: {samples.shape}\u0027)\n",
        "print(f\u0027labels shape: {labels.shape}\u0027)\n",
        "\n",
        "# Test shapes\n",
        "num_samples \u003d (len(corpus) - 1) // seq_len\n",
        "test.assertEqual(samples.shape, (num_samples, seq_len, vocab_len))\n",
        "test.assertEqual(labels.shape, (num_samples, seq_len))\n",
        "\n",
        "# Test content\n",
        "for _ in range(1000):\n",
        "    # random sample\n",
        "    i \u003d np.random.randint(num_samples, size\u003d(1,))[0]\n",
        "    # Compare to corpus\n",
        "    test.assertEqual(unembed(samples[i]), corpus[i*seq_len:(i+1)*seq_len], msg\u003df\"content mismatch in sample {i}\")\n",
        "    # Compare to labels\n",
        "    sample_text \u003d unembed(samples[i])\n",
        "    label_text \u003d str.join(\u0027\u0027, [idx_to_char[j.item()] for j in labels[i]])\n",
        "    test.assertEqual(sample_text[1:], label_text[0:-1], msg\u003df\"label mismatch in sample {i}\")\n",
        "    \n",
        "print(f\u0027sample 100 as text:\\n{unembed(samples[100])}\u0027)"
      ]
    },
    {
      "cell_type": "markdown",
      "metadata": {
        "pycharm": {}
      },
      "source": [
        "As usual, instead of feeding one sample as a time into our model\u0027s forward we\u0027ll work with **batches** of samples. This means that at every timestep, our model will operate on a batch of chars that are from **different sequences**.\n",
        "Effectively this will allow us to parallelize training our model by dong matrix-matrix multiplications\n",
        "instead of matrix-vector during the forward pass.\n",
        "\n",
        "Let\u0027s use the standard PyTorch `Dataset`/`DataLoader` combo. Luckily for the dataset we can use a built-in\n",
        "class, `TensorDataset` to return tuples of `(sample, label)` from the `samples` and `labels` tensors we created above."
      ]
    },
    {
      "cell_type": "code",
      "execution_count": 17,
      "metadata": {
        "pycharm": {
          "is_executing": false
        }
      },
      "outputs": [],
      "source": [
        "import torch.utils.data\n",
        "\n",
        "# Create DataLoader returning batches of samples.\n",
        "batch_size \u003d 32\n",
        "\n",
        "ds_corpus \u003d torch.utils.data.TensorDataset(samples, labels)\n",
        "dl_corpus \u003d torch.utils.data.DataLoader(ds_corpus, batch_size\u003dbatch_size, shuffle\u003dFalse)"
      ]
    },
    {
      "cell_type": "markdown",
      "metadata": {
        "pycharm": {}
      },
      "source": [
        "Let\u0027s see what that gives us:"
      ]
    },
    {
      "cell_type": "code",
      "execution_count": 18,
      "metadata": {
        "pycharm": {
          "is_executing": false
        }
      },
      "outputs": [
        {
          "name": "stdout",
          "text": [
            "num batches: 3100",
            "\n",
            "shape of a batch sample: torch.Size([32, 64, 81])",
            "\n",
            "shape of a batch label: torch.Size([32, 64])",
            "\n"
          ],
          "output_type": "stream"
        }
      ],
      "source": [
        "print(f\u0027num batches: {len(dl_corpus)}\u0027)\n",
        "\n",
        "x0, y0 \u003d next(iter(dl_corpus))\n",
        "print(f\u0027shape of a batch sample: {x0.shape}\u0027)\n",
        "print(f\u0027shape of a batch label: {y0.shape}\u0027)"
      ]
    },
    {
      "cell_type": "markdown",
      "metadata": {
        "pycharm": {}
      },
      "source": [
        "### Model Implementation\n",
        "\u003ca id\u003dpart1_5\u003e\u003c/a\u003e"
      ]
    },
    {
      "cell_type": "markdown",
      "metadata": {
        "pycharm": {}
      },
      "source": [
        "Finally, our data set is ready so we can focus on our model.\n",
        "\n",
        "We\u0027ll implement here is a multilayer gated recurrent unit (GRU) model, with dropout.\n",
        "This model is a type of RNN which performs similar to the well-known LSTM model,\n",
        "but it\u0027s somewhat easier to train because it has less parameters.\n",
        "We\u0027ll modify the regular GRU slightly by applying dropout to\n",
        "the hidden states passed between layers of the model.\n",
        "\n",
        "The model accepts an input $\\mat{X}\\in\\set{R}^{S\\times V}$ containing a sequence of embedded chars.\n",
        "It returns an output $\\mat{Y}\\in\\set{R}^{S\\times V}$ of predictions for the next char and the final hidden state\n",
        "$\\mat{H}\\in\\set{R}^{L\\times H}$. Here $S$ is the sequence length, $V$ is the vocabulary size (number of unique chars), $L$ is the number of layers in the model and $H$ is the hidden dimension."
      ]
    },
    {
      "cell_type": "markdown",
      "metadata": {
        "pycharm": {}
      },
      "source": [
        "Mathematically, the model\u0027s forward function at layer $k\\in[1,L]$ and timestep $t\\in[1,S]$ can be described as\n",
        "\n",
        "$$\n",
        "\\begin{align}\n",
        "\\vec{z_t}^{[k]} \u0026\u003d \\sigma\\left(\\vec{x}^{[k]}_t {\\mattr{W}_{\\mathrm{xz}}}^{[k]} +\n",
        "    \\vec{h}_{t-1}^{[k]} {\\mattr{W}_{\\mathrm{hz}}}^{[k]} + \\vec{b}_{\\mathrm{z}}^{[k]}\\right) \\\\\n",
        "\\vec{r_t}^{[k]} \u0026\u003d \\sigma\\left(\\vec{x}^{[k]}_t {\\mattr{W}_{\\mathrm{xr}}}^{[k]} +\n",
        "    \\vec{h}_{t-1}^{[k]} {\\mattr{W}_{\\mathrm{hr}}}^{[k]} + \\vec{b}_{\\mathrm{r}}^{[k]}\\right) \\\\\n",
        "\\vec{g_t}^{[k]} \u0026\u003d \\tanh\\left(\\vec{x}^{[k]}_t {\\mattr{W}_{\\mathrm{xg}}}^{[k]} +\n",
        "    (\\vec{r_t}^{[k]}\\odot\\vec{h}_{t-1}^{[k]}) {\\mattr{W}_{\\mathrm{hg}}}^{[k]} + \\vec{b}_{\\mathrm{g}}^{[k]}\\right) \\\\\n",
        "\\vec{h_t}^{[k]} \u0026\u003d \\vec{z}^{[k]}_t \\odot \\vec{h}^{[k]}_{t-1} + \\left(1-\\vec{z}^{[k]}_t\\right)\\odot \\vec{g_t}^{[k]}\n",
        "\\end{align}\n",
        "$$"
      ]
    },
    {
      "cell_type": "markdown",
      "metadata": {
        "pycharm": {}
      },
      "source": [
        "The input to each layer is,\n",
        "$$\n",
        "\\mat{X}^{[k]} \u003d\n",
        "\\begin{bmatrix}\n",
        "    {\\vec{x}_1}^{[k]} \\\\ \\vdots \\\\ {\\vec{x}_S}^{[k]}\n",
        "\\end{bmatrix} \n",
        "\u003d\n",
        "\\begin{cases}\n",
        "    \\mat{X} \u0026 \\mathrm{if} ~k \u003d 1~ \\\\\n",
        "    \\mathrm{dropout}_p \\left(\n",
        "    \\begin{bmatrix}\n",
        "        {\\vec{h}_1}^{[k-1]} \\\\ \\vdots \\\\ {\\vec{h}_S}^{[k-1]}\n",
        "    \\end{bmatrix} \\right) \u0026 \\mathrm{if} ~1 \u003c k \\leq L+1~\n",
        "\\end{cases}.\n",
        "$$"
      ]
    },
    {
      "cell_type": "markdown",
      "metadata": {
        "pycharm": {}
      },
      "source": [
        "The output of the entire model is then,\n",
        "$$\n",
        "\\mat{Y} \u003d \\mat{X}^{[L+1]} {\\mattr{W}_{\\mathrm{hy}}} + \\mat{B}_{\\mathrm{y}}\n",
        "$$"
      ]
    },
    {
      "cell_type": "markdown",
      "metadata": {
        "pycharm": {}
      },
      "source": [
        "and the final hidden state is\n",
        "$$\n",
        "\\mat{H} \u003d \n",
        "\\begin{bmatrix}\n",
        "    {\\vec{h}_S}^{[1]} \\\\ \\vdots \\\\ {\\vec{h}_S}^{[L]}\n",
        "\\end{bmatrix}.\n",
        "$$"
      ]
    },
    {
      "cell_type": "markdown",
      "metadata": {
        "pycharm": {}
      },
      "source": [
        "Notes:\n",
        "- $t\\in[1,S]$ is the timestep, i.e. the current position within the sequence of each sample.\n",
        "- $\\vec{x}_t^{[k]}$ is the input of layer $k$ at timestep $t$, respectively.\n",
        "- The outputs of the **last layer** $\\vec{y}_t^{[L]}$, are the predicted next characters for every input char.\n",
        "  These are similar to class scores in classification tasks.\n",
        "- The hidden states at the **last timestep**, $\\vec{h}_S^{[k]}$, are the final hidden state returned from the model.\n",
        "- $\\sigma(\\cdot)$ is the sigmoid function, i.e. $\\sigma(\\vec{z}) \u003d 1/(1+e^{-\\vec{z}})$ which returns values in $(0,1)$.\n",
        "- $\\tanh(\\cdot)$ is the hyperbolic tangent, i.e. $\\tanh(\\vec{z}) \u003d (e^{2\\vec{z}}-1)/(e^{2\\vec{z}}+1)$ which returns values in $(-1,1)$.\n",
        "- $\\vec{h_t}^{[k]}$ is the hidden state of layer $k$ at time $t$. This can be thought of as the memory of that layer.\n",
        "- $\\vec{g_t}^{[k]}$ is the candidate hidden state for time $t+1$.\n",
        "- $\\vec{z_t}^{[k]}$ is known as the update gate. It combines the previous state with the input to determine how much the current state will be combined with the new candidate state. For example, if $\\vec{z_t}^{[k]}\u003d\\vec{1}$ then the current input has no effect on the output.\n",
        "- $\\vec{r_t}^{[k]}$ is known as the reset gate. It combines the previous state with the input to determine how much of the previous state will affect the current state candidate. For example if $\\vec{r_t}^{[k]}\u003d\\vec{0}$ the previous state has no effect on the current candidate state."
      ]
    },
    {
      "cell_type": "markdown",
      "metadata": {
        "pycharm": {}
      },
      "source": [
        "Here\u0027s a graphical representation of the GRU\u0027s forward pass at each timestep. The $\\vec{\\tilde{h}}$ in the image is our $\\vec{g}$ (candidate next state).\n",
        "\n",
        "\u003cimg src\u003d\"imgs/gru_cell.png\" width\u003d\"400\"/\u003e\n",
        "\n",
        "You can see how the reset and update gates allow the model to completely ignore it\u0027s previous state, completely ignore it\u0027s input, or any mixture of those states (since the gates are actually continuous and between $(0,1)$)."
      ]
    },
    {
      "cell_type": "markdown",
      "metadata": {
        "pycharm": {}
      },
      "source": [
        "Here\u0027s a graphical representation of the entire model.\n",
        "You can ignore the $c_t^{[k]}$ (cell state) variables (which are relevant for LSTM models).\n",
        "Our model has only the hidden state, $h_t^{[k]}$. Also notice that we added dropout between layers (the up arrows).\n",
        "\n",
        "\u003cimg src\u003d\"imgs/lstm_model.png\"/\u003e\n",
        "\n",
        "The purple tensors are inputs (a sequence and initial hidden state per layer), and the green tensors are outputs (another sequence and final hidden state per layer). Each blue block implements the above forward equations.\n",
        "Blocks that are on the same vertical level are at the same layer, and therefore share parameters."
      ]
    },
    {
      "cell_type": "markdown",
      "metadata": {
        "pycharm": {}
      },
      "source": [
        "**TODO**: Implement the `MultilayerGRU` class in the `hw3/charnn.py` module.\n",
        "\n",
        "Notes:\n",
        "- You\u0027ll need to handle input **batches** now.\n",
        "  The math is identical to the above, but all the tensors will have an extra batch\n",
        "  dimension as their first dimension.\n",
        "- Use the diagram above to help guide your implementation.\n",
        "  It will help you visualize what shapes to returns where, etc.\n"
      ]
    },
    {
      "cell_type": "code",
      "execution_count": 19,
      "metadata": {
        "pycharm": {
          "is_executing": false
        }
      },
      "outputs": [
        {
          "name": "stdout",
          "text": [
            "MultilayerGRU(\n  (dropout): Dropout(p\u003d0)\n  (W_x_z_0): Linear(in_features\u003d81, out_features\u003d256, bias\u003dFalse)\n  (W_h_z_0): Linear(in_features\u003d256, out_features\u003d256, bias\u003dTrue)\n  (W_x_r_0): Linear(in_features\u003d81, out_features\u003d256, bias\u003dFalse)\n  (W_h_r_0): Linear(in_features\u003d256, out_features\u003d256, bias\u003dTrue)\n  (W_x_g_0): Linear(in_features\u003d81, out_features\u003d256, bias\u003dFalse)\n  (W_h_g_0): Linear(in_features\u003d256, out_features\u003d256, bias\u003dTrue)\n  (W_x_z_1): Linear(in_features\u003d256, out_features\u003d256, bias\u003dFalse)\n  (W_h_z_1): Linear(in_features\u003d256, out_features\u003d256, bias\u003dTrue)\n  (W_x_r_1): Linear(in_features\u003d256, out_features\u003d256, bias\u003dFalse)\n  (W_h_r_1): Linear(in_features\u003d256, out_features\u003d256, bias\u003dTrue)\n  (W_x_g_1): Linear(in_features\u003d256, out_features\u003d256, bias\u003dFalse)\n  (W_h_g_1): Linear(in_features\u003d256, out_features\u003d256, bias\u003dTrue)\n  (W_h_y): Linear(in_features\u003d256, out_features\u003d81, bias\u003dTrue)\n)",
            "\n",
            "y.shape\u003dtorch.Size([32, 64, 81])",
            "\n",
            "h.shape\u003dtorch.Size([32, 2, 256])",
            "\n"
          ],
          "output_type": "stream"
        }
      ],
      "source": [
        "in_dim \u003d vocab_len\n",
        "h_dim \u003d 256\n",
        "n_layers \u003d 2\n",
        "model \u003d charnn.MultilayerGRU(in_dim, h_dim, out_dim\u003din_dim, n_layers\u003dn_layers)\n",
        "model \u003d model.to(device)\n",
        "print(model)\n",
        "\n",
        "# Test forward pass\n",
        "y, h \u003d model(x0.to(dtype\u003dtorch.float))\n",
        "print(f\u0027y.shape\u003d{y.shape}\u0027)\n",
        "print(f\u0027h.shape\u003d{h.shape}\u0027)\n",
        "\n",
        "test.assertEqual(y.shape, (batch_size, seq_len, vocab_len))\n",
        "test.assertEqual(h.shape, (batch_size, n_layers, h_dim))\n",
        "test.assertEqual(len(list(model.parameters())), 9 * n_layers + 2) "
      ]
    },
    {
      "cell_type": "markdown",
      "metadata": {
        "pycharm": {}
      },
      "source": [
        "### Generating text by sampling\n",
        "\u003ca id\u003dpart1_6\u003e\u003c/a\u003e"
      ]
    },
    {
      "cell_type": "markdown",
      "metadata": {
        "pycharm": {}
      },
      "source": [
        "Now that we have a model, we can implement **text generation** based on it.\n",
        "The idea is simple:\n",
        "At each timestep our model receives one char $x_t$ from the input sequence and outputs scores $y_t$\n",
        "for what the next char should be.\n",
        "We\u0027ll convert these scores into a probability over each of the possible chars.\n",
        "In other words, for each input char $x_t$ we create a probability distribution for the next char\n",
        "conditioned on the current one and the state of the model (representing all previous inputs):\n",
        "$$p(x_{t+1}|x_t; \\vec{h}_t).$$\n",
        "\n",
        "Once we have such a distribution, we\u0027ll sample a char from it.\n",
        "This will be the first char of our generated sequence.\n",
        "Now we can feed this new char into the model, create another distribution, sample the next char and so on.\n",
        "Note that it\u0027s crucial to propagate the hidden state when sampling.\n",
        "\n",
        "The important point however is how to create the distribution from the scores.\n",
        "One way, as we saw in previous ML tasks, is to use the softmax function.\n",
        "However, a drawback of softmax is that it can generate very diffuse (more uniform) distributions if the score values are very similar. When sampling, we would prefer to control the distributions and make them less uniform to increase the chance of sampling the char(s) with the highest scores compared to the others.\n",
        "\n",
        "To control the variance of the distribution, a common trick is to add a hyperparameter $T$, known as the \n",
        "*temperature* to the softmax function. The class scores are simply scaled by $T$ before softmax is applied:\n",
        "$$\n",
        "\\mathrm{softmax}_T(\\vec{y}) \u003d \\frac{e^{\\vec{y}/T}}{\\sum_k e^{y_k/T}}\n",
        "$$\n",
        "\n",
        "A low $T$ will result in less uniform distributions and vice-versa."
      ]
    },
    {
      "cell_type": "markdown",
      "metadata": {
        "pycharm": {}
      },
      "source": [
        "**TODO**: Implement the `hot_softmax()` function in the `hw3/charnn.py` module."
      ]
    },
    {
      "cell_type": "code",
      "execution_count": 20,
      "metadata": {
        "pycharm": {
          "is_executing": false
        }
      },
      "outputs": [
        {
          "data": {
            "text/plain": "\u003cFigure size 1080x360 with 1 Axes\u003e",
            "image/png": "iVBORw0KGgoAAAANSUhEUgAAA5QAAAFGCAYAAAAVX9BFAAAABHNCSVQICAgIfAhkiAAAAAlwSFlzAAALEgAACxIB0t1+/AAAADl0RVh0U29mdHdhcmUAbWF0cGxvdGxpYiB2ZXJzaW9uIDMuMC4zLCBodHRwOi8vbWF0cGxvdGxpYi5vcmcvnQurowAAIABJREFUeJzsvXt0XOd53vv79t5zwQAYYHAlwRsupCRKosjIsiyRsmPZkiXXciTLdpw6aeuc9siXkx6nSes2PXLSJllZTVftNGmU2G4ax2lXnLp2FFuyI1K+y7pZF4sUSfCKCwkCJAEMgMHcZ/be5489e2NAgCQwAOYCvL+1sCTs2TPzgRjM7Od73vd5lW3bCIIgCIIgCIIgCMJy0Sq9AEEQBEEQBEEQBKE2EUEpCIIgCIIgCIIglIQISkEQBEEQBEEQBKEkRFAKgiAIgiAIgiAIJSGCUhAEQRAEQRAEQSgJEZSCIAiCIAiCIAhCSYigFARBEARBEARBEEpCBKUgCIIgCIIgCIJQEiIoBUEQBEEQBEEQhJIwKr2AaqStrc3u7u6u9DIEQRAEQRAEQRAqwmuvvTZh23b79c4TQbkI3d3dvPrqq5VehiAIgiAIgiAIQkVQSg0v5TwpeRUEQRAEQRAEQRBKQgSlIAiCIAiCIAiCUBIiKAVBEARBEARBEISSEEEpCIIgCIIgCIIglIQISkEQBEEQBEEQBKEkRFAKgiAIgiAIgiAIJSGCUhAEQRAEQRAEQSgJEZSCIAiCIAiCIAhCSYigFARBEARBEARBEEpCBOUGJD8+TuzZZyu9DEEQBEEQBEEQahwRlBuQyS//FRf+5f+LOTNT6aUIgiAIgiAIglDDiKDcgKSPHwcgOzhY4ZUIgiAIgiAIglDLiKDcYNi2Taa/H4DMgAhKQRAEQRAEQRBKRwTlBiM/NuaVumYHByq8GkEQBEEQBEEQahkRlBuMdMGdxDDEoRQEQRAEQRAEYUWIoNxgpI/3g1LU33UX2QFxKAVBEARBEARBKJ2KCUqlVItS6kmlVEIpNayU+uhVzlNKqT9USk0Wvv6zUkoV3f4lpdRJpZSllPrYFff9mFLKVErFi77eubY/WXWT7u/H391N8JZbyJ4/j53LVXpJgiAIgiAIgiDUKJV0KJ8AskAn8MvAnyulblnkvMeAR4C9wG3AQ8DHi24/DHwKeP0qz/OibdsNRV8/XKX11yTpE/0Ed+8m0NsD+TzZ8yOVXpIgCIIgCIIgCDVKRQSlUqoe+CDwWdu247Zt/wT4FvBPFjn9nwGfs217xLbtC8DngI+5N9q2/YRt298D0mu/8tomPzVFfnSM4M278ff2AhLMIwiCIAiCIAhC6VTKobwBMG3bPlV07DCwmEN5S+G26513NX5OKTWhlDqllPqsUspY7CSl1GNKqVeVUq+Oj48v4+Frh8yJEwAEdu/G39PjHJM+SkEQBEEQBEEQSqRSgrIBmLni2AzQuIRzZ4CG4j7Ka/Bj4FagA8cR/cfAv1nsRNu2v2Tb9h22bd/R3t6+hIeuPdLHnYTX4M03ozc0YHR0kJWkV0EQBEEQBEEQSqRSgjIOhK84FgZml3BuGIjbtm1f70ls2x6wbXvQtm3Ltu03gd8FPlTimmuedH8/xqZNGJEIAP7eXkl6FQRBEARBEAShZColKE8BhlJqV9GxvcCxRc49VrjteuctBRtYirO5Lkn39xO86Sbv+0BvD5nBQZagzQVBEARBEARBEBZQEUFp23YC+Dvgd5VS9UqpA8DDwP9c5PS/Bn5DKbVFKdUF/CbwV+6NSim/UiqIIxR9SqmgUkor3PZepVRn4f9vAj4LfHMNf7SqxUqlyA4OErx5t3fM39OLFYthTk5WcGXLx4wnZNyJIAiCIAiCIFQBlRwb8imgDrgMfBX4pG3bx5RSb1dKxYvO+yLwFPAmcBT4duGYyyEgBewHvlT4/3cUbns3cEQplQC+gyNi/2DNfqIqJnPqFFgWgd1FgrK3NoN5hj78YSa+8MXrnygIgiAIgiAIwpqyaOJpObBtO4ozX/LK48/hBPG439vAZwpfiz3OO6/xHP8a+NcrXet6IN1fCOTZfbN3LOCODhkYpP7OOyuyrlLIjYyQOXOm0ssQBEEQBEEQhA1PJR1KoYykj/ejNTXh29LlHTM6O1GhUE3NorSzWexcjvw6He0iCIIgCIIgCLWECMoNghvIUzxtRWkage5uMjU0OsRKJgFEUAqCIAiCIAhCFSCCcgNg5/NkTp2al/DqUmujQ4oFpaTTCoIgrA6JF15g9PHHK70MQRAEoQYRQbkByA4OYmcy8xJeXfy9PeRGR7FSqQqsbPm4gtJOp7Hi8eucLQiCICyF2e//gJmvfwM7m630UgRBEIQaQwTlBsAN5ClOeHUJ9PSAbZMdHi73skrCSiS8/89fvlzBlQiCIKwfzKgzPsqMxSq8EkEQBKHWEEG5AUgf70cFAl6qazF+N+l1sDb6KF2HEqSPUhAEYbXIT0YBEZSCIAjC8hFBuQFI9/cTuOEGlLFwSox/xw5QqmZmUYqgFARBWH3ykxMAmDMzFV6JUC3Ypknq6LFKL0MQhBpABOU6x7Zt0idOEFyk3BVACwbxbdlCtkaSXucJyssiKAVBEFYD03UoRVAKBWaffZahD32I3IULlV6KIAhVjgjKdU5+dBRrZobg7oUJry7+3h4yNTKL0kqIQykIgrCa2Pk85vQ0AJaUvAoFchdGnf9ekrwCQRCujQjKdY4byHM1hxIg0NNLdnAI27LKtayScUN59JYWEZSCsM6w83ksSRktO+b0NBTGMJkzIigFB3Oq4FpPT1V4JYIgVDsiKNc56eP9oGkEbrzxquf4e3uxUynyFy+WcWWl4Za8+rdvF0EpCOuMy3/0Rwz/yj+p9DI2HG4gD4AZk5JXwcELapoSQSkIwrURQbnOSff34+/pQauru+o5gd4eADI10EdpJZOoujqMTZtEUArCOiM7PEy6vx/bNCu9lA2FWQjkASl5FeYwo46gzEej1zlTEISNjgjKdc61AnlcvNEhNZD0aiWTaPX1GO3tIigFYY3JDAxiF0ohy4GVSEAuJ3/bZWaeQyklr0KBfMGZNKemK7wSQRCqHRGU65j81BT5sbHrCkq9pQWtqakmgnmsRAItFMJob8eKx7FSqUovSRDWJdmRCwy8733Ef/Sjsj2nFXd6pCVVsryY0UkAfF1dkvIqeLgOpZS8CoJwPURQrmMyXiDP1RNeAZRSBHp6amJ0iJVMeoISJOlVENaK/KWLYNvkzo+U7TmteBwQQVlu8pNRMAx8W7diSsmrUCAvgnJZWMkk4088MW+8mSBsFERQrmPchNfAdRxKcMpea6bktVhQXpY4c0FYC9zSx3zBvSoHIigrQ35yAqOlBb2pCUtCeQTASqexC8JIBOXSiP/oR0z8tz9l5ltPVXopglB2RFCuY9LH+zE2b8aIRK57bqC3h/z4OObsbBlWVjriUApCeXDTPs3J8gVymIWxQFkRlGXFnIyit7aiNzdJD6UAzJW7AuRlbMiSyBQ25WNPP13hlQhC+RFBuY5J9/dft3/SxQvmGazuslcrkXBCeTpEUArCWuKmfZbLobRN03NExKEsL/loFKOlBS0clpJXAYB81BGRRtdmCeVZIm7bUPLVV8mNjlZ4NYJQXkRQrlOsZJLs4ODSBWW3OzqkusteXYdSb24Gn08EpSCsEa5TZU6UR1BaBXcSIHdBLsbKiTk5idHWih5uwk6nsTKZSi9JqDBuUFOgtw8rFsPO5Sq8ouonMzCAv68PgNh3vlPh1QhCeRFBuU7JnDoFtk3w5iUKym1bwTDIDg6t7cJWiCsolVIYbW3kL4ugFIS1wPQcyvKUvLr9k3pLC7mxMZlFWUby0Sh6Syt6UxhAkl4F7+8+UBBI8pq4NrZlkR0cpOGee6jbu5eZp79d6SUJQlkRQblOcQN5gjddO+HVRfl8+Ldvr/pgHldQAjKLUhDWEMvroSyPQ2kWBGXgxhtkFmUZsRIJ7FQKo7UFPewISkvKXjc8ZqHk1d/ntMNIMM+1yY2OYafT+Pt6CT/0EJkTJ8icPl3pZQlC2RBBuU5JH+9Ha2rC6Opa8n38vT1VPYvSzmYhl0OrrwfA6BBBKQhrhVvyaiUSWOn0mj+fO4MyeMONgPRRlgvXidJbWtHCTQDSRylgTkXB58O/bRvgzLUWrk62cO0U6O0l/N4HQdfFpRQ2FCIoawQzHif+4x8v+Xw3kEcpteT7BHp6yQ6fw87nS1nimuMmQIpDKQhrT7GoMMtQ9molXIdSBGU5cR1oo9UZGwJS3ig4s0mNSAS9pQVAgnmug1vd5e/txWhro/7uu4k9/TS2bVd4ZYJQHkRQ1gjjf/wnnP/kp5YkKu18nsypU0sO5HHx9/ZCLkdupHyDzJeDmwCp1c8JSnN62nEuBUFYVczYDCoQACBfhrJXt4cysGsXIIKyXHgOZWub9FAKHmbUHSXjjB2Tktdrkzk7gN7cjFEQ4OGH3kfuwgVSP3ujwisThPIggrJGaP/0pwnceAMjn/51Um++ec1zMwMD2NnskgN5XAK9btJrdY4OsVxBWeRQAuQnJiq2prXi3GOPMf4nf1LpZQgbGGsmhn/HDqA8gtLtoTTaWtHb22QWZZlw3z+lh1IoJj9VcCgjzQCYMovymmQHBrzxawCN992HCgRkJqWwYRBBWSPoDfVs/+IXMVpbOf/xT5AdHr7quZllBvK4+HscQZmt0j5KT1C6PZSuoLx8uWJrWivSx46TPt5f6WUIGxgzFvPeE8zJMpS8FnootYYG/F1bxKEsE6bXQ9mC1tjoHJsRQbnRMSejzmvC70errxeH8jpkBgbwFzblAfSGBhredS+xZ56RkSvChkAEZQ1htLez7b9/CSyLc//3Y1d1DdLH+1GBgHcxuFT0cBi9va1qZ1Fai/RQAuTWWR+lbdtYsZiUnQkVw8pksDMZ/D3dAOSj5St51UIhfFu2yCzKMpGfjKI1NKAFAihdR2tslFAeATMaxWh1yjf1SERCea5BfmoKMxol0Ns373jTQw9hRqMkXnyxQisThPIhgrLGCPT0sO2LXyB/+TLnP/6JecPAXdL9/QRuvBFlGCU8fi/ZWit5XW+CMpPBzuVEUAoVwy159HV2okKh8jiUiYQzY1bXHUEpsyjLgjk5idHa6n2vNzV5I2OEjYmVyWAlk+iROUEpoTxXx53fXexQAtS//e1o4TAzUvYqbABEUNYgdXv3suWPPk/6+HFGfv1fzSunsG2b9IkTyw7kcfH39jg9mFWYTLZAULa2gqatO0HpugPiEgiVwn3taeEwRktLeUJ5EnG0hgYAfFu2yCzKMpEvhK+46OEw5rQIyo3MXBm0E8ijR5rLkvRcq2QHzgIQ6JvvUGp+P+EHHmD2u9/DSqUqsTRBKBsiKGuUxnvvZdN//A8knnuOsd/+HU8A5i6MYsViJQvKQG8v1sxMVfZLuIJSFQSl0nX01pZ1d9Fpzc4CTtJiNQp7Yf3j9tDp4SaM1lZvtMSaPmf8CkGJJL2WA3NywittBNCawrKZtcHJFyoS3MRSIxKpymuCaiEzMIjy+/EtMvc7/NBD2Mkks9//fgVWJgjlQwRlDRP58Idp+7VfY+bJJxn/4z8GIN1/HGDZCa8u/h4npSxbhX2UbnmvXgjlgfU5i9K7mMvlvFEpglBOzELJo94URm9t9UZLrCVWPCGCsgLkJ6PoLcUOZZMIyg2OOeU6lM7rQm+OkJ+WkterkT17Fn93N0rXF9wWeusdGJ2dxJ7+dgVWJqwlk3/5Zc5//BOVXkbVIIKyxmn7fz5F84c/zOQXvsjUV7/qJLxqmjfLbbnMjQ6pRkFZcCjr6rxj61FQuuEkIPPghMrg9lDq4TBGa0tZHEorHvdmzPq6NgMiKNca2zQxp6bmOZR6OOxtKAgbE7e81fBKXiPYySRWOl3JZVUtmcFB/H29i96mNI3w+95H/LnnJNhonZF48UXiP/oRpmy2ABUUlEqpFqXUk0qphFJqWCn10aucp5RSf6iUmix8/WellCq6/UtKqZNKKUsp9bFrPN/3lVK2Umr5STVVjFKKTb/z2zS8851c/L3fZ+bvv4m/twetSHQtB2PzZlQwWJXBPFYyiQqFUNrcy9bX0bHuBGWxOyCCUqgEbsmr1tSE3tJKfmoK27LW9DmteBy94FBqwaDMoiwD5vQ02Pb8HsrmJqyZmJTbb2DyUUf46C1zoTyAXDgvgpXJkBsZIdCzuKAEaHrofZDPM3vwUBlXJqw1uTEnifx6s+E3CpV0KJ8AskAn8MvAnyulblnkvMeAR4C9wG3AQ8DHi24/DHwKeP1qT6SU+mVgXQnJYpRhsOXznyO451Zyo6MEd99c+mNpGv7ubrKD1Sko3UAeF6O9HXMyuq7SIN0eSpB5cLZlEX/+ebm4LTNeyWtjo+Ne5fNrvrlhJuJo9Q3e9zKLcu3JTzjOc3HKqxYOY2ez2OJGbVjM6CT4fN5cUj3S7BwXh20B2aFhsKyrOpQAgd278ff2EpO013WDbdvkR8cASP3sjQqvpjqoiKBUStUDHwQ+a9t23LbtnwDfAv7JIqf/M+Bztm2P2LZ9Afgc8DH3Rtu2n7Bt+3vAop9+Sqkm4HeAz6zuT1FdaKEQ277wBUJ33UX4gfdc89ynzj7FB775AbJmdtHbA709ZKpVUNYvFJRYVllSKMuFGSsWlBvboUy+/DLn//m/IPXqq5VeyobCisWcER6G4blXa53yWNxDCcgsyjJgFuaLuk4UOD2UICnTG5l8NIoRieAWg7nhPCIoF5IddNqDAr1XF5RKKZre/xDJV18lNyrvaesBKxbzgiJThw9XeDXVQaUcyhsA07btU0XHDgOLOZS3FG673nlX4w+APwcuXuskpdRjSqlXlVKvjtdoCaURibDjr75M4333XfO8vz35t5yZPsMblxffVfH39JIbGcHKZNZimSXjzKmrn3dsPc6itGaLS143domRewGTPnXqOmcKq4k5E0NrcoSF616t5aaNbdtOD2XD3N93Nc2itC1r3nim9YKX5jlvDmUYkM2sjYwZnZq/yVAoeZUewIVkBgZAKfzd3dc8L/y+9wEQ+853yrAqYa3JjTnupN7WRurIkTVvCakFKiUoG4ArP61mgMYlnDsDNBT3UV4NpdQdwAHgv13vXNu2v2Tb9h22bd/RXhAp65HR+ChHxo8A8MLoC4ue4+/tAcsiOzxczqVdl6uVvALkL1+uxJLWBDM26/2ctXhRZ2UyTH3ta6vyBmsWkn2zZ6svJGo9Y8Zi6GFHWLgXlmvpUNqpFFiW10MJ1TWLcuLP/5zBRz9Y6WWsOq5DaVwxhxLmgpmEjYcZjXqBPFDUQzm1sTc4FyN7dgBfV9d1cyv827cT3HsbM5L2ui5wnebwe96DNTtL9uzZCq+o8lRKUMaB8BXHwsDsEs4NA3H7Ok1VSikN+DPg07Zt51ew1nXFwaGDAGxv3H5VQemWblRbMM81BWUVXHSuFtZsDKO9HeX3Y9WgoJw9eJCLv/07pI8dX/FjuaNiqjF1eD1jxmY8YVEOh9IsJBtfWfIK1ZH0mjl5iszp0+tuOHl+MgqGgRae+4jVpOR1w5OPRtEj85N/UUpKXhchMziA/xrlrsU0PfR+MidOkDl9eo1XJaw1uUL/ZPi9DwJS9gqVE5SnAEMpVTzbYi9wbJFzjxVuu955VxIG7gD+t1LqIvBK4fiIUurty1/y+uCZoWe4tfVWHt75MP3RfiZSEwvOcUs33N6AasHpobyi5LWtDVhfgtKMzaKFw+hNTTUZyuMKyeLS3VJxexRk96+8WDMxtELpo97cDJq2pqNDrLizcVAcylNNgtIV07mRkQqvZHXJT044vXJFydl6c0FQTtfeZpawOpjRKHrRKBllGM44GRGU87Ati+zA4DX7J4sJv/dB0DRxKdcBubFRlN9P3VvegtbURPINCeapiKC0bTsB/B3wu0qpeqXUAeBh4H8ucvpfA7+hlNqilOoCfhP4K/dGpZRfKRUEFOBTSgUL7uQM0AXsK3z9o8Jd3gK8vDY/WXVzLnaO45PHeaD7AQ50HQDgxdEXF5yn1dXh6+oiU20OZSKxwKFUfj96c/P6EpSzMfTGRvTmpposeU2fOAHMlauuBNehzI+PY84uVsAgrAVOyasjLJSuo0ciXr/dWmAlXIeyqIfSnUVZBSEW+Qnn/SV7fn0JSnMyOm9kCMyVvMosyo2Jlc1iJRJeEI+LHolgTougLCY/NoadTi/ZoTTa2qi/+25iTz8tyeU1Tn5sDN/mzShNo27vbaTFoazo2JBPAXXAZeCrwCdt2z6mlHq7UipedN4XgaeAN4GjwLcLx1wOASlgP/Clwv+/w3a46H4BruK4ZNv24vGm6xy33PWB7gfY3bqbSCByjT7KXrJVVma4WMkrOGWv+fGFTmutYs3G0cJhtHDtCUrbtkn39wNzYnAlFD+GuJTlo7iHEpyUR7ffbi2wCiWvxT2U7izKanAozQnXoTxf4ZWsLvno5Lz+SSiUHSslPZQbFLdXurjk1fk+IqE8V+Buugd6e5Z8n/D7HyJ34YKMmqhxchdGMQqbnnX79pE5c3bDb3pXTFDath21bfsR27brbdvebtv23xSOP2fbdkPRebZt25+xbbul8PWZ4v5J27bfadu2uuLrh4s831Dhtg3bT3lw6CB72/eyuWEzmtK4q+suXhx9EcteGJ7iL4wOqZZdNNu2ryMo16FD2VR7gjI/OupdiK6OoEyC4YyQzUgwT1mws1nsVMpL+wTQW1vX1KFcrIcSqmMWpZVKea/l9elQzhcOStPQwuGaLLcXVo5b3m20LuJQSijPPLIDzianv69vyfdpvO8+VCAgMylrnNzYGL7NXQCE9u0D2yZ1+EiFV1VZKulQCmVkcGaQk1MnebD7Qe/Yga4DTKYnOTW1cCRDoLcXO5kkf+lSOZd5VexcDvJ5tFCIf/oP/5SvHPuKd5vR0bGuBKUVm0UL16agdMtdoSAGV4iVTOLv3oHy+cgMiENZDtwwFu1Kh3IteygLgu1KQenbsoVshQVlcRhR7vw6cygnJzFaWhcc18NhCeXZoJhRx4XUF5S8NksP5RVkBgbRm5q8FNyloDc0EHrL7aSObGzxUcvY2Sz58XF8mx2HMnjbbaAUqcMb23UWQblBeGboGRSK93S/xzt2d9fdADx/4fkF5/t73KTX6nCF3AtOVR/i8Pjheb2fRns7+YmJqnFTV4KVyWBnMuiN4doUlMf7QSnQtFUredXDTfi7d8jokDLhCgm3hxJch7IMoTyLCMrc6FhFZ3yZE045vaqrI7uOSl6tZNJxoq9wooDCe4+4URsRc8oteZ0vkoxIBHNqal18zq4W2bNn8ff2soQpdvMwNm1eV5vgG43c5ctg216fv97QQGDnTlJvbOw+ShGUG4SDgwe5vfN2OkId3rGOUAe7IrsW7aN0ewKqJZjHdbuyfg3Ltjgzfca7zWhvh1wOc7r2L4CsQg2+FnZCeexkEjtbOy2/6RMn8Pf0oNXXr5qg1Orr8ff2yeiQMuFuYhSXvBqtLVjxOFYmsybP6fZQXpniXA2zKPMFQVm3Zw+5kQvr5oI6X+iVcx3KgekBvnbya4DjUFpS8rohmXtdLCx5tbNZ7OTKK0/WC5nBQfx9SwvkKcboKGyCm+YarEpYa9ygOF9Xl3esbt9eUkeOVHTzs9KIoNwAnJ46zdmZs/PKXV0OdB3g9cuvk8zN/5DQ29pQwWDF+5dcrKQjThI+5w34UvISsaxzwWN0FGZRXq79HT8z5ghK16F0jtXOhV26/zjB3btXXVAG+nrJjYysmaAR5nA3NYpDedwkUDewY9WfMxFH+Xxofv+8474tzgd2Jd+H8oVAnrp9+7DTac+xrAamv/51Bn/xIyWJXLeE2Whzfrd/c+Jv+L2Xfo90Po3WJCWvGxVzkdmkAHqz41hKMI+DOT2NOTlJoKcUQdkBprlm76fC2uIJykLJKzifD9bMDNmhoQqtqvKIoNwAPDP0DJrSuG/HfQtu29+1n7yV55WLr8w7rpRyyp6qJDre3RVNGHM7egPTjmNltLuC8nL5F1ZE6vDhFV/4urMb9XCj94FeK2Wv5vQ0+dExgrtvWl1BGQrh7+0Dy9rQb9ZLxVqhg+CGsWhFJa9uEuhaBfOY8fiCcleojlmUnkO59zaguoJ5km+8QfrIkZKqM9zfpV5wKIdjw4CzWaeHm0RQblDyU1FnNmmhjNPdrHBLYKWP0sGt3irFofR1OJViuUuVvWYRSiM/NgaAsWmTd6xu3z6ADZ3eK4JynWPbNgeHDvLWzrfSVte24PbbO28nqAcXLXvVw+GqiY53L5JjRs47dnr6NFAkKCtYFmdlMpz7v/4540/82Yoex3UotcZG9KZm51iNCEo3kCewmg5lMuk5lCCjQ65HbnSUk3e+jeTrr5f8GO4m0ryS10L521qNDrHiicUFZVcVOJSTE+jNzfh7nDaAahod4o0zGR5e9n3zk45QdtM8XUF5MXHRC+VZL+W9wtIxo1NeIM/LYy/ztr95G5OpSfRI4fNIBCUA2UFnQzuwxBmUxRgFQVnpTXChNHKjY+itrWjBoHfM39ODFg6T2sDzKEVQrnNORE8wHBvmgZ4HFr09oAd4y6a3LCootabqiY43C+JkRpvrJzw77YiLahCUieefx0okvIu0UvEcysLYEABzukYEZb8jKJ2S19CKBaVt24WS15BzMa+UjA65DrnRUcjnyZw5c/2Tr4LlhfIsLHl1yz9XG6vgUM5kZhiLj3nHtWAQva2ysyjNiQn0tlbPLc1WUdKr2++WPXdu2fc1XYeytZV0Ps1Ywvl3H0uMoTc3QS4n/XIbEHNyEr3FcSPfuPwGqXyK09OnMcShnEfm7ADK7/feF5aDCMraxhkZsnneMaVp1N12G6k3SnMoY88cZPxPn6ipzIwrEUG5zjk4dBBd6dy3fWG5q8uBrgMMxYa4EJ9/0VZNZU/uhc20lgJgV2QXZ6aci2atrg6toaGignL24CEArBWKP8+hDIedizqomrLj65HuP47R2YnR0rIqDqWdToNlodXXowWD+LZskdEh18Gd57iS3hxzJoYKhVAPMtERAAAgAElEQVQ+n3ds7R3KOHp9Pf/19f/Krx781XnOmG9LV8V7KI22drRAAKOzk1wVlby6fZDZoRIcyugkWkMDWiDguZPgOJReuX2VvP8L5SM/NeUFNZ2bdTYqRmZHvJJX6aF0yA4M4O/uRun6su9rtLWBUiIoa5Tc2Ni8QB6Xur17yZw+jRlf/rVP9MtfJvYP/wBFn7u1hgjKdYxt2zwz9Ax3bb6LSPDqc5IOdB0AFo4PccqeqkPMuCWvUZWkzqjjltZbFiS9VkpQ2tkssz/4AcCKk2atuBvKM+dQWjVS8prpP0HwppsA0FdBUHqzCQvJn/6+Xhkdch2sWUdQrqTX0YzF0BsbyZk5/vCnf8hEagKtvh5VV7d2PZQJx6EcmR3hQvwCl5Jz82/9FZ5FmZ+c9HpIfdu2Vs3oENu2vVEupTqU+hXlruCWvNZeIJiwOpjRqFfyei42Jyi1xkbQdcyp2k9TXw0ygwP4Syh3BVCGgd7WSn5cBGWtYds2udHRBQ4lFPoobZv0m8ubMZo5c4bU4cM0f/CDyx5BU02IoFzHHJs8xoX4BR7oXrzc1aWnqYdN9ZsWlL3qTdUTHe8KygktSSQQYWfzTibTk0ylnd3SSgrKxMs/xYrF8HV1rVhQmrFZMAxUwXVFqZroobQyGTIDAwRu3g2wKg6lJyhDIQACvX1kh4Ykav0aWImCQ7mC0mszNoMeDnNs8hj/q/9/8f1z3wccl3Kteygn087jHxmf+0Cu9CzK/MSE4ygA/q3byI1UR/K1nUw6Lj6QLamHctJzolxB2R3u5mLyotc/WwvvPcLqYWWzWPE4RqHk1XUoz8+eR2kaenOzlLzifN7lzo8s6J+cSE3w7577d1xOXl8o+to7nHmGQk1hTk9jp1LeDMpi6m7bA7Dsstfpr38DDIOmh39hVdZYKURQrmOeGXwGQzN41/Z3XfM8pRQHug7w8tjL5K28d1wLh7ESCex8/hr3Lg9WIgFKMW7O0BxsZlfzLgDPpTQ6OiomKGcPHUILhWh874NOkMUKLnzNWccdUko5H+DhcE30UGZOnQbTJHjTnKA0V9h/5W4iuA5loK8XO5slN1I9JYfVhjvPcSVOojUTQ2sKey7hUGwIcHrt1sqhdHoo65lMLS4oKzWL0koksJNJ9LY5hzJ/6VJVjK9x+ye1+voSHcpJz6Ecig3RUddBX3MfF+MXvf7ZagllE8qDWyqvR1qIZ+NE0873I3HnPddoiYigpLCBY1kLHMqDQwf59sC3+U8//U/XfQyjo2NdjDrbaHgJr4s4lHpTE/6+PlJvLD2Yx85mmfnmN2m8916vEqZWEUG5TrFsi4PDB9nftZ+mQNN1z7+7627iuThvTrzpHfPKngpz6SqJlUii1dUxnZ0hEozQ19wHFAnKgkNZ7lRC2zSZ/d73aHjnz+Pr7ATbXtFFmBWbRQs3et9rzU014RKkT/QDENztlLxq9fWQy2GtoMHcdSh1t+S11/mdSzDP1TFn3R7K0p1EMxZDDzdxMXERmHOvjJYWr8RytbHicVR9yKs4KH4fquTokLw3q9EJ/vJv2wa2Te7CaNnXciVz40z2Ys3MLLu3LR+NYrQ6zutQbIjupm421W/iYvKiNzKmFt57hNXDE5StLZ472V7XzsisIyj1ZhGU4PRPAgR6e+Ydf2H0BRSKZ4ef5ccjP77mYxgdHeQvXbrmOUL1kSsISt/mhT2UAHX79pI6fHjJ16KzP/gh5tQUzR/64KqtsVKIoFynHBk/wsXERR7sfnBJ59+1+S40pc3ro9QLwqYaevisZNK54MxMEQlE6Ah10OhvnJf0aqfTnkNTLpKvvYYZjdJ4//3ozYVY9RWUvToOZVG6ZlNzTfQxZfr70Roa8G3dCoAWckTgSsper+yh9EaHSDDPVVkNh9IRlHMOpSso9dYWLwRmNbGyWexslkzQwMam3lfP8cnj5CxnRFBFBeWEKygLDmXh9V0No0Pci/+6228HILcMl9I2TcypqXkjQ3aEd7AptIlELkEq5FwaVEvKt1Ae8tFCC0lLi9c/eXfX3cSyMWYyM+iRCPlpEZSZgqB0RwkBZM0sr1x8hUd3PUpvUy9/8PIfkMqnrvoYRkcHZjRa06meGxF3M9G35SqCcu9ezOnpJY9ymv67b2B0dlJ/zz2rtsZKIYKyRsiYGa8cbCk8M/QMfs3PvdvuXdL5TYEmbm27dV4fZTUl/VnJJFrIcTCaA80opdjZvJPTU5WdRTl76FlUIEDDO94xN+ZjBQLcis16Qh6cEopacAnS/ScI3HQjSnPeUlwRuJqCUm9qQm9rE4fyGriC0pyaKrnX1JqZQW8Kew7lyOwIOSuH0dpGPhpd9SoA9/ec8juPe6DrAGkz7f1tV3IWZX7CeT/xQnkKgrIaRoe47mno9p8DltdHac7MgGWht7QynZ5mJjPjCMp6Z1D3JWadAJYqCWUTyoM5NVfy6jqUd3fdDThlr3okIqE8QHZgEF9XF1pdnXfs8PhhUvkUP7/15/nsXZ/lQvwCXzj8has+htFRuGaZWNmoMaG85MbGUIGAl3p8JXX79gGQXEIfZe7SJRLP/YSmDzxSUlpwtSGCskb4izf/goe/+TDfPPPN617QmZbJoaFD3LPlHhr8C4eFX40DXQc4OnGU6bTzgTEnkKpAUCYSqFCIZD5JS9DZVd/ZvJMz02ewbXtOUJaxJ8G2LGaffZb6e+5Bq69fJYdyFq2hkXOxc84w6XAYc6a6P8Bt0yR98iTB3Td7x1ZDUJpXhPKAM0RaRodcHXdsCLZdUmmancs5mzdFDqVpm1yYveC4Wfn8qvfVuSI47nN6j+/d7myCvTnulL1Wchal68jqhVAeo70dFQhUxegQd23B224DTSM7vHSH0r2INVpbvB7Z7nC3JygvJi+iNzZKD+UGwyvxbm1hODZMR6jDyytwRoc0O6EkFQrIqhYyA2cX9E8+f+F5DGXw1k1v5Y5Nd/DIzkf462N/7W2MXYmvsxOQWZS1hjuD8mpprIG+PrT6elKHr99HOfPkk2BZND/66GovsyKIoKwRHux+kJ5wD48//ziPPfsY52NX3yF//fLrjKfGebBnaeWuLvu79mNj89LFl4C5webWbOUvKqxkEivoB6A56Ai3vuY+YtkYE6mJud2+MsZwp48cIX/pEuH33A+wKoLSisXQwo382vd/jc+/9nn0pqYVz7Zca7LnzmEnk97IEFgdQWlfEcoDc6NDyt0rWysUl3yXUvbq9ku7PZQ9TU5J13BsGL2QCLrawTzua2TG55S47mnbQ2uwlSMTxcE8lZlFmR+fAKW8OZxKqaoZHZKfjKI1NqI3NODbvHl5DqXbK9fSOicom4oEZeIiWlO4KjYThfJhRqfAMNDCYc7Pnmd743a2Njqu/MjsCEYkAqaJVQW5CpXCtiyyg0NeC4bLC6MvcFv7bd4m/m+85Tdo8Dfwuy/+Lpa9UIAbHR0AkvRaY+TGRhdNeHVRuk7d3tuuG8xjWxbT3/g7QnfeiX/79tVeZkUQQVkj9DX38ZX3foXH3/Y4b068yaPfepS/PPqX81JZXQ4OHSSoB/n5rT+/rOe4te1WGn2NvHDBKXtdzZLXoV/5Faa+9rWS728lk+SDBgAtAefizt05PT19uiIOZezQs+Dz0XCv46isRsmrOTuL3tjIyOyIcxHf3LTi5Ni1JtNfCOQpjAyBVXYoiwRloLcPKx6XdLyrYMXjnqNbSjCP99ptrGciNcGdm+4EnNAWt99uJSNJFsMVwdO600vUGmxlT/ueeUmvlZpFmZ+cRI9EUIYxt5at26rCocxPTniluP4d25eV9DoXNtTKcGwYQxl0NXTRXteOrnRvFmUtlNsLq4c5FUWPOC0l52Ln2B7eTr2vnpZgi1fy6py3cfso8xcvYqdS+HvmBGU0HaU/2s+BLQe8Y5FghN+84zd5Y/wNnjz95ILHcQWlfJbVFvnRsUUTXoup27ePzMmT17z+Sf70FXLnz6+LMB4XEZQ1hKY0PnLTR/jmw9/k7q67+aPX/oiPfvujHJs85p2Tt/I8O/ws79j6DkK+0DUebSGGZnBX1108P/o8tm2vWsmrnc+TevU10m++ef2Tr4KVTJL1Oy/XYocS4Oz0WbSGBlQwWLYeStu2mT10iPq77vKcXC0cduZGluhQ2tksdjpNNuQjZ+UYS4w5vwPbLnvY0HJI958An49AX593bLV6KFUgMO9ifiXBPPmJCUY+/eveuIX1iBmfxde9AyjNSXRLHBNBJyn6xpYbaQo0OZsbrWvjULplulE9RVAPUu+rZ2/7XoZiQ8xkHEFTqVmUxaLNxbdtG7mRkYq75OZk1Pud+HbsWJ5DOek6lE5p49bGrfg0H7qm0x5q51LyktO/LSWvG4p8dAqjMDJkMj3J9kbHOdnasJXzs+c9QbncROH1hNvDX+xQvjTqVHXt79o/79yH+x7mLZ1v4fOvfX5BBoYeiYBhSMlrDWFls+THx72+/qtRt3cvWBapo8eues70N76B1thI43ves9rLrBgiKGuQzvpO/vjeP+bz7/w846lxPvrtj/JfXvkvJHNJXr30KtF0dNnlri77u/ZzOXnZEWmBACoQWHEwg3tRspJ5ilYySSbgvFwjAedDrbWulZZgC2emz6CU8kaHlINMfz+5kREaC+WuQNHcyNIEpXthnQg4348nx7HDTvlMNTsF6RMnCOzcifL7vWOrJSiL3UkAf1/po0Ni3/kOswcPEv/RtePcaxkrnsC/3RGUJTmUhb/VaKH8tDPUyY7wDs7FznnCKr+CkSSLYcWd18iEStBa14pSij1tzoDooxNHgcrNojTHJzDa2+Yd82/bipVIrKi0fTXIRyfnHMrtO7BmZpa8pvzkJOg6elMTQ7EhdoR3eLdtCm0qOJThqkj4FsqHO5v0/KxT0r097AjKLY1bnB7KZtehrO6+/rUkO1hIeC3qoXxh9AWaAk3sbtk971ylFL9912+TzCf53Kufm3+bpjnXLCIoa4b8RSeozh0Z8n9O/R9+67nfWnBe8LbbAEhdJZjHjMWYPXSI8EPvQwsG12i15UcEZY2ilOL+HffzzUe+yaO7HuUrx7/Co996lC8d+RJ1Rh33bCktgtjdYXt+1BkfoofDKw5mcIXkSna7rUSClM9xBCLBuXStvua+BbMoy0Hs0CHQNBrf/e55x/Xm5pKFs/vvHPM76Zw2NvGA8zOvRIyvNen+/nn9kwBaveOOr0hQFpJ9izE6OpxB7iU4lPHnfgKwIqe82rHicWf31DC8kRfLwa1GGPc5cfeb6jfRHe5mKDbk9Agr5blbq7lmgEsqRmvQEUi3tt2KQnl9lJUaHZKfnERvnS8ofVu3OWupcNKrOeFc/INT8gpLT3o1o5PoLRFsBedi5+gOd3u3ba7fzFhizOmhFIdyQ5GfimJEWhiedV5HrkO5rXEbFxMXsZsLG5wb3KHUmprQC33Vtm3z4uiL3LX5LnRtYVJnb3Mvv3rLr/LUwFO8PPbyvNuMjnbyl2UWZa2QGy3MoCz0UD599mmeHniak9GT884zIhH83d1XDeaZefpp7EyG5g9+aG0XXGZEUNY4YX+Y37n7d/jyA1/Gp/l45eIrvHPbO6kz6q5/50XoauiiO9zNi6MvAqxKMIO7a16qy2bbNlYyScJnoVCE/XNzGnc27+Ts9Fkn6bWjo2yCcvbQs4Te+lYvrMPFEZQlOpSFoIMp39xcqqjfcYqq1aHMj49jTkwQ3D1fUOqr4lAmseoCfPzZjzORcvr2lFL4+/qW7VBa6TTJn/4UgNTRoyWvqZqxs1nsTAY93IgRiZTkJLrVCJc1R+S5DuWl5CVSdha9uXn1HcqE81wXidFS5/w91fvq6Wvu8/ooKyEobdsmP7FIyetWZy2VHB1i5/OY09MYLW4PpeMwLrWPMj8ZxWht42LiIhkzw46mIoeyfhOXEpecaotYrOKlvUL5MKNT6C0tXujftkZn82Rrw1ZM22TC73w2ueNFNiLZgQECvb1eyueZ6TNcTl1eUO5azGO3PcbWhq38/ku/T9ac+3z3dXRIKE8NkRsrCMrNmzEtk/6okx/x92f+fsG5dfv2kXrjjUXfP2e+/g0CN91E8JabF9xWy4igXCfcsekOvv4LX+ezd32WT9/+6RU91oEtB3j10quk82knmGHFDmVBUJZYOmtns2CaJIw8zYHmebuAO5t3ksgluJi4WDaHMnPmDNmBgXnlri5ac+lBFu6/86SR9o5dNpyk02odHZJ2A3l2zy/1mTRjKJ9vxSWvSZ/FC6Mv8L3h73nHSxkdknzlFexMhsCNN5Lp71+Xw6TnQowa0FtbS3ISrZizqXFBzVBn1BH2h71yyPOz59FbWzBLcD6vhRmPg1KMmVHa6ubcwNvab+PNiTexbbsisyitRBI7ncZob2NgesB7DfoLsygrGczjOkRGW9F8TKXIDi3RoZycxGiZPzLEpbO+k6yVJRMynETPFfwNC7WDnc1izc6it0QYjg3TXtfu5TB4Sa/5cZTfv7F7KAcH8ff2eN+7s7uvJSiDRpDH73qcodgQ/+Po//COG+0dEspTQ+TGRgEwNm1icGaQVD5Fg6+BpweeJmfm5p1bt28fZjS6oJIl3d9P+vhxmj/4wauOHqlVRFCuIwJ6gF+88RfZ0rBlRY+zv2s/GTPD65deL+xSr7CHsiAoSx1/YRXGR8T0nBfI47KzeScwl/RqxeNYqdQKVnt9YocOAdB430JBaazAoXSj2C9pcep9jsN3US8Mqq9ShzLdfwKAQFHJ649Hfsy7vvYu7FCdJ3JKwUokyASdzQP3Qxuc0SHm+MSyNjrizz2HCgRo+dWPYedypE8tPhuslnFLR7WGBozW1hIdyhgqGGQsN8Gm+k0opTyxMRQbwmhpXfVQIyueQGtoYDo745W8AtzWdhszmRnOzZ6ryCxKc8K50NNbW/nvb/53/s2P/w0ZM4MWCqG3tVV0dIib0uqOctECAWd0yFIdyqgT6DMccwRosaB0R4fEgs7OuvRR1haZM2cY+fV/hZXJLOt+rkg0WlqdkSHhuVEGrlM5Er+AHols2B5Kc2YGc2KCQO9cAN2Loy/S29Tr/d1cjQNbDvBg94P8xZG/8P7ujM5OrFhsza9ZhDkyg4MkX3utpPvmRkfR29vQAgGOR48D8Im9n2A6M80PR34479y6fXsBFpS9Tn/9Gyi/n6b3P1TSGqoZEZTCAu7ovAOf5uP50efRm8JYKy15LVyQWMkkdi53nbMX4u6QT+sZL5DHpTjp1RsdssYu5eyhZ6n7uZ/D19mx4LYVlbwWBNJFNcu2xm00B5o5j/MhX60DxtP9/fi2bUNvbPSOPT3wNDY2Zt3KHcq0z/n/ly++TM5yXjsBL5hn6S5l4rmfELrzTkJ33OGs++j666N0NyT0xgbHSSxlDmVsBj0c5lLiEp0hZ/C2ezE5HBvGaGvFnFztUJ441Ndh2RatdXOCck+7E8wzV/Za3lmUc6M12hmcGSRn5eifdBx5/9atFXUoiwfQu/h2bF9yD2W+4FAOx4YJGaF5zvDmeqc/aNrnjKSSPsraYuapp5l95hnSx48v635zs0kjnJs95/VPAnSEOvBpPm90yEbtocwMuIE8jkOZMTO8eunVa7qTxXzmrZ/Br/v5vZd+z2vTgbW/ZhHmGP+vf8zIr/3Lkkr586NjXiDPsYlj1Bl1fPSmj9IR6lgwGiawaxcqFCL1s7lgHiuTYebpp2m87z5vbvl6QgSlsICQL8TtnbfzwugLaKtY8gqlXZxYCcehnFapeYE8AE2BJjrqOjgzfaYsgjJ77hyZEydovH+hOwmgNTVhJRKlCeeCILhgT9Fe187m+s2MZi6jQqGqDeXJXBHIkzWz/HjESVHNB33e764UrGSSlN9500/kErw57ojAQK87OmRpfZTZkRGyg4M0vP0efFu2oDc3k1qHwTxmsUPZ0uqJjuVgzcTQwo1cTFz0dtxDvhCdoU5ndMiaOJRxrDon6a5Y2PQ19REyQp6gLPcsSjfUSG9tYXBmEIDD485uszs6pFJ4F/9F/Z3+HTvILUFQWskkdjKJ3tbK0IyT8FpceuX+3icKwUwr7aEXyovriGSXseEGeH/XuXCIidTEPIdSUxpbGgpJr5HmDSso3c8c9zPotUuvkTEz3N1195Lu3x5q59O3f5qXx17m24Pfxuhw52dLH2W5yJ47hzk1VdLmZG5sDF9hBuXxyePsbtmNT/fxcN/DPD/6PJcScwFLStep27NnnkM5+93vYs3MrKvZk8WIoBQWZX/Xfs5MnyFVp2HNzmKbZsmPNU9QlnBxYiUdl2tSJWkOLNzV2RnZyemp03OCcg3fnGfdctdF+icBb9eplBJVMzYLmsaIOUFHqINN9Zu8WZTVWPJqxhNkh4cJ3jzXP/ni6Iskcs7vKxvQV+xQxn0mrcFWNKV5Za++rVtRPt+Sg3kSP3HSXevveTtKKYJ79pB+c/0F87jjN5weyhbsVMorF18qZiyGFg4znhr3HErAS3o1WluwYrFV7UG1EnHydY4VXVzyqms6t7bdypsTjvgv9yzKfKHkdaZBkcw7/45vXHZ2m/3btpIbGytp42h11uY6lEWCcvsOpyTvOhUS+ehcaeNQbGheuSs4Y5kCeoBLmvN6WmnLg1A+bNMkfcTZgMmcPrOs+5qF18Vlv9PDX+xQgtNHOTI7grHBHUrl8zk9yzifdz7Nxx2ddyz5MT58w4e5IXIDXz3xVXyuQymCsizYtu31NKaXGc5n27YnKPNWnhPRE9zc6oTqPLLzESzb4qmBp+bdp27fPtInT3olzTPf+Aa+ri5Cd921Cj9N9SGCUliUA10HABi2nHRN1z0rhWIxVEq4jHtRPKkStARbFtze19zH4MwgWptz21o6lLFDzxK8+WYvmONKDFdQllD2as3OojU2Es1M0RHqYHP9ZidtsUoFZeaUE5Vd3D/57PCzNPoaMZRBJqBKFpS2bWMlEswaebY1bmNP2x5PUCrDwN/dveQd+PhzP8G3ZQv+nm4A6vbcSubMmWWLrWKyIxcYeP/7yY6Ud4zFtbDicyWvbvrnct1EMxYjXx/Axp7XE7QjvMNzKEt53Gs+Z3yuV7a45BVgT9seTkZPks6nyz6L0pycBE1jWDkXzx2hDt4Yd1L7fFu3gWV5qX/lxoxOonw+kgHluaf+7qUlvbrzSe1ImNH4KN1N3fNuV0rRGepkVHM2/6q13F5YSObMWe99LXNmuYLSeV2M+Jzfd/FsUnCSXs/PnkdrjpCv8AzWSpEdGMTf3Y3S53r7b++43QsvWgq6pnNH5x2cmTqDVphxm7skgrIcmNPTXtbAcquUzKkp7HQaX9dmBmcGSZtpbmm7BXDmtb6l8y08efrJeaW0dXv3Qj5P+uhRsiMXSLzwIk2PPorS1qf0Wp8/lbBibojcQL2vnpHCxdRKyl7N6WmUz3EgSrk4cUVJwmct6lDuat5F2kwzZiTA51uzC87c2BjpI0dofM97Fr396MRRZgKOe1KSQzk7Cw312NieoJzNzUJjfVUKyvTxQsLrzc4uXc7K8YPzP+De7fcSCUZI+kofG2Kn02BZzOhZIsEI+7v2O/++Geffwd/X5/WzXPNxslmSL75I/Tve7pX1BW/dA5a17B6jYuLf/x6Z02fInDxR8mOsNqY3zzHuzSdcbr+jNTPjpHvCPIdyR3gHM5kZMo0BgJLKaa/6nPE46YDzuyl2KMFJes3bzm5wuUeH5Mcn0FtaGIo7Au3hvoeZSE1wIX4B/zZnQ6lSo0PyE5Pora38xdG/4CNPf4SMmcG/fWmzKF13cyKYw8ZeIBzAKXs9ZzvnVeN7j7A4qcOOg163b9+yBWU+OgW6zrDl/N7d3mmXbY3biOfi5MN1WDMz2Pn86iy6hsgMnMVf6OEfT45zaurUkstdi9kZ2Ukyn+SSnkAFAuJQlgmvTUGpZVcpzc2g7OLY5DEAz6EE+MDOD3Bu9hyvX37dO1YczDPzd38HStH86AdW8iNUNSIoNyKH/xa+8n7IxK96ilKKTaFNjOsr76Mxp6fxbdtWeJzlX5y4O65pPwt6KKEomGfmLEZb25rFcM8++12ARQXlxcRFPvbMx/jaxe8AJTqUsRhmvXPB3hHqYFOD4xBlGwJYVVh2lj7Rjx6JeMECr4y9Qiwb477t9xEJRkj4Sh854AUxaWlagi3s79qPjc1LYy8BTg9LbmQEK52+1sOQ/NkbWMkkDW9/u3esbs+tAKRWUPaaeMkZUG2uwLlfbdyS10ee/ccct5x48/wyg3nMWIxE0BF3xQ6l62JdCjjJkeYqOpRWPE7CbxPUg166sctt7bcBTjBP2QXl5CRGayuDsUHqjDru3+GUuR8eP+yVvJUSzDP99a9z/pOfWtnaok6ozump06TyKY5OHHXeY5UiO7w0h/KC4bz/X1nyCgVBmb8MhiE9lDVE6vBh9EiEhne9i/ylS8t6fzKjUfRIhOH4Odrq2ha4bu7okFhhxPVG22iwslly50cIFAJ53M+ipQbyFLOreRdQCBPs6BBBWSbccte6t9xO+tixZbVPeCNDNm/m+ORxQkZo3nvn/TvuJ2SE5s2kNFpa8O3YTvL1nzH95JPU79/vjcC6krPTZ73XVK0ignKjcbkfnvo0DP4YfvL5a57aWd85N7ZiBYLGnJnxds9L66FcmqB0g3mW41BaqdSS+6BmDx0isGun94FSzJ+8/idkzAzDOBfapQhKc3aWTMhxcjtCHWwKORf0yaBWlaE8mf4TBHfv9py/Z889S8gIsX/LfiLBCLO+fOmCsvA7j2opmgPN3Np2K42+Rq/s1d/XC7ZNdmjomo+TeO7H4PMRuvNt3jGjvR1j0ybSJQbz2KZJ8pVXnHXOXn1TptxYs7PYhk7WsDmFEw6Qn5xY8v1t08SKx4n5nQ/ZYkHp9lNd8McLj7u6DmXcZ9Ja17pgLldbXRtd9V0cmbHCbmsAACAASURBVDhS9lmU+YkJjFYnuKY73M2uyC5CRog3Lr+B0dGB8vnIlTA6ZPrJvyf+gx9graAP1ZyMore1cm7WEY+vXXoNLRDA2Lzp+g5lYZNhUHN+h1dzKMfTE6syNkooH6nDh6nbu5fATmec1nJcyvxUFCMS4Vzs3IL+SZgTlJMB5/Nyo/VRZoeGwLLw9ziBPC+MvkBLsIUbW25c9mO51yynp09jdIqgLBdui0r4ve/FSiTIDg4u+b75sfkO5e7W3WhqTkKFfCHe2/NeDg4d9HIkwCl7jf/wh+THxq4axpO38jz+k8f5tz/+tyRzpbfiVBoRlBuJXBq+8S/A3wA3vBde+FOIXv0PqjPUyQUKMyRX0kM5PY1ve+kOpe0KSh8LxoYA1Pvq6arvWragtHM5Bt7/C5x517sZf+IJ8hNXv/jOT0yQfO01Gu9f6E4emzzGUwNPYWgGAzjPXYoAtGZjpIPOn6Sb8goQr7MxZ2ZKirleK+xcjsypUwR2O/2TpmXy/XPf5x1b30FAD9ASaGFGzzqJkiWs2xWicZ9JJBjB0AzetvltvDD6ArZtL3l0SPy5nxC6/Xb0hvnOV92eW0ktsynfJX283/t7cPsWqwErEccMBUApBvRCueIyHEq3rH3KnyNkhGjwNXi3bWncgq50BrXChskqCUrbsrCSSWaM3IJyV5c97Xt4c/zNss+iNCcmMNrbGJwZpKepB0Mz2NO+h8Pjh1G6jm/LFrLLdCitVIpUITQlf+nSdc6+OvnJSbSWCBdmnX+L1y45c9X8O3aQPXdtQWlGJ9Hq6xnMjNJW10aDv2HBOZvqN2HZFnZjvfRQ1ghmLEb2zFnq9u0lsGv5gtKcdGaTXjmD0mVrgyMoL/mdz+MNJygHnGulQF8vlm3xwugL3LX5rnmiYqk0+hvZVL+JM9Nn8IlDWTZy58+jt7ZSf+edwPL6KHOjY6hgEDvcwMnoSW5pvWXBOY/sfIRUPsWhoUPesbp9+8Cy0JubaXj3uxd97K8c+wpHJ4/yW2/7rWX141YbIig3Et/7j3DpKDzyZ/DQ50Ez4NDjVz29s76T824PZYllT1Ymg51KYbS0ojU0lLTbbSWT2EqR8RUcyswsmPNdxZ2RnY6g7Fi6oJz93vfJjYxgdHYy8d/+lNP3vosLn/mMd8E379zvfg9sm8YH5gtK27b53KufIxKI8Es3/hLn8+NOmVgpDmVslnjAxtAMIsEIbXVtGMpgyp/HzmadvsIqITMwiJ3LEbzJSXh9/fLrRNNR7ttxH+D8nqb1DFgWdglDm11BmfbjBTHt37Kfi4mLDMacYASUInuNpNfcpctkTp6k4e33LLgteOsecufOlfR7Sr5cKEvRdcwqcijNeJx80HG4B1MjaA0N5KNLF36ucJgwUmyq3zTPLfRpPrY2buVs9oLT81PCjMtFn7OwWTRlpGmpWxi4BU4wz2hilInURNlmUdq27WwwRZoZS4x5Jb972/dycuokyVzSGR2yzB7K1M9+BoWKCLcnp5S1mZOTpBr85O08TYEmfnb5Z+StPP7tO8gNXd+h1FtbGY4NL+pOAl51RL4+UPGS1/hzzzH8sV+tWKJurZA64lwc1+3di2/LFlQwSHY5gjIahWYn4Xmx10XIF6I12MqFQlhTfqMJysHCDMrubk5NnSKajnJgy4GSH29n807OTJ3BaO8gNz5eVRvG65XsyHl8W7fg7+1FhUKkjx5b8n1zo6P4uroYmBkgY2bm9U+67G3fS3e4myfPzM2krNvr9FGGf+H9aH7/gvucnT7LE288wf077ueBHQ+U8FNVDxUTlEqpFqXUk0qphFJqWCn10aucp5RSf6iUmix8/WdVdKWjlPqSUuqkUspSSn3sivv+UuG2GaXUZaXUV5RS4TX+0aqT09+Fl/4M7nwMbngAwl3w9t+AE0/DwA8XvUtnqJN40HmTK7XsyXXq9OZm9HAYq5QeykQCM+hzGpoDzfCFe+C7/2HeOX3NfQzNDKG1tWJOTy9prMHUV7+Kb8sWuv/339L7D98h8ku/RPx732foFz/C4C9+hJlvfcsrS5s9dAjfju0Ebrhh3mP8aORHvHLxFT6575PsiuzCwkY1NZYcyhPzm7TXtaMpDV3T6azvZMLnCMlq6llJ9zuBNu7IkO8Of5eAHuDtW5xexUgwwozu/NuVUvbq3iflV16Z892bnfCDFy68gBYM4tu27ZrBPN64kKL+SRevj3IZHyje4770Mv6dfegtkRU596uNNRsnU+ekD56LnUNvbSnJobykJ+YF8rjsCO9geNZ93NVxKN3EvUktNW8GZTF7250P5CPjR8o2i9KKx7GzWWINGjY2PU1Omfu+9n1YtsXRiaP4t21d9loSL//U+//8xdIEpZVIYGezTBdM94d6HyKVT3EiegL/juuPDslPTmC0tCw6MsTFrY5Ih4yKv+8kfvITki+9tKKe541A6vAbUBiLpDSNQG8vmTNLn0WZn5oi2eAEcl0ZyOOytXErg6pQ/TC1sZJeM2cHMLo2o4VCXuuF+5lUCruadzEwM4DW3oadTK5oxJawNHLnR/Bv3ebMiLz55mW1vbgjQ45POtc+izmUSik+sOsD/Ozyz7z07eDNN9P52cdp+8QnFpyft/J89vnPUu+r59+/7d8vaPmoNSrpUD4BZIFO4JeBP1dKLfwNwWPAI8Be4DbgIeDjRbcfBj4FvL7wrjwPHLBtuwnoBQzg91frB6gZEhPw95+Ejpvh/t+dO373r0HzDviHfwfmwsS2zlAnWQNsn1Fy2ZN7YaM3N6M1N5XcQ5kPGAT0AHWZBEwNwRt/M8+l3NW8i5yVI9bgXFBfq3wVnFLJ5Msv0/xLH0HpOoGeHjb9f/+enT/6EZ2PP441O8voZ/4tZ971bi5//o9I/PSnhN/znnl/8Dkrx+de/Rzd4W4+dMOHvJ4zszG0bOfLzuWwk0mmjAwdoQ7v+Kb6TVwyCiVGVRSOkek/gQoG8Xd3Y9kW3z33Xe7Zco9XrtESbCFV2IxbiaAs7pvd2rj1/2fvvMPkKM9s/6vOuSfnpJlR1kgCxZGIAoTA2CuCMdG7XifAXnvXvs7Gvvaaa3ttr72sDTbBxiabJJMNAhkklJCEch6FyXk6567v/vF1TdDEHjRIIJ3nmUfQVV1dPdNd9Z33Pe85lLvKe2/m5srKEaNDAuvWYsjNHVQEALDMkoQysju9OUoRixHauhX7osXoHU6Sp5PkNRDo/Z13hDvQZWam1aHUPl/NinfA/KSGclc5Df4GDFlZJy02RCOU3brQsJLXaVnTMCgGdnXu+sCyKLXrR4dVXmMmuSSh1EyCtndsx1hSiur1pkW4Qps2YZ4qZ67iLa3jOrekdm5mWbC5ulq6Bm5t24qpPOX0OkLnNNnVjch00x3pHtiJ2vJHuKcW1GTv3z9kUd6Xw/fJQLxZmmEEN6w/pedxuiO8Ywfm6mr0DilhNk+uHrPkVcRiqD4f3pThznCd6xJnCYdVKc884ySv9fWYKyoAOT85OXMyubbccR+vOrOauBrH45LL8PcjgT+L0SESCUkKUw7dlpoaIvv3j1n5EG9pwVhUyJ6uPdiN9iFl4QAfr/w4ekXfa86jKApZN9+MIWuwAufhvQ+zq3MX31303WELqh8mnBJCqSiKHbgWuFMIERBCrAOeB24dYvd/Bn4lhGgUQjQBvwL+RdsohPidEOINYJAeUAjRIITozyySQPXJeycfAggBf/sSRLxw7QNgtPZtM1rg8rugY59cTJyAPFseKAqqwzpuMqMRq6daXyFgFuNzeQ2GiJl1ZFoyUToPygfD3VC3pncfbci9xSI/BqPJXnsefwLFaCTj2oFD0nqHnaxbbqbypRcpfeABrDNn0nX//ZBIDHJ3febgMxzzHeNr876GUWekyC5NQ6J2U9qEUot86DJEBhDKQnshzYr8nY0nw3OiENm3D/PUKSh6PTs7dtIeau+Vu4IkgRFpWEtyPIQyJYUMmwbOzS4pWsKWti3EkjFMVZXEjh0b0r5eJBIE12/Afv75A4oACVXuq3e5MJWXp931CO/ejQiHsS1ehM7pPK1MeZJB6ZaqIeqykOxMR/IqP2dNipd8++AOZYWrgnAiTDLDedI7lEGTGJRBqcFisDA1a2qf0+sHkEWpkbam1LyYtnhwm91UuivZ3r69d2ESaxzbHKUaDBLevRvHhReid7uJj7NDqZH5JqMfh9HBlMwplDnL2NK2BVN5KotyBNlrorubkFNKowd0KLc9DO17oX0fDpMDh9GBz6yOS1VyMhFv0gjlhlN6HqczhBCEd+zsjSkAMFVVS6fXMRQEEqluY6dFFil6O5Tt++CxT8kxE+QcZWO8DcVmO+MIZdLjQZ+ZRTgRZlvbNpYUpu/u2h/VGXIp2myWIyFn5ygnFvHWVkgmMaUSB6w1sxDRKNFDh0Z9rhqNypn6VIdyRvaMYWdnc225nF98Ps/XPd+73hgKR7xH+O17v+WSsktYUbFifG/qNMOp6lBOAZJCiIP9HtsBDNWhnJnaNtp+Q0JRlPMURfECfiSJ/U36p/shxrsPwMFX4bIfQf4Qv7ZpV8GkC2HNXRAa2HXQqtQxm2ncVWqNBD3XvpoWnX/csSERkyKJRecB+aDeDLuf7t2n0l2JgsIxkzz+SAtONRjEu2oVzitWDFk1AlB0OhznLaX0D7+n6tVXKLnnd1hranq3+2N+7tl+DwsKFnBR6UUAFDqkTCxoVdJ+n5p0sl0XJNfaV/UstBfSqMjf4amWnmkQQhDZv793fnL18dUYdAYuLLmwd5+J6FCCJJThRJj32t/DXFmFiMf7sqX6IbxrF6rXO2B+cmvbVhY9uqg3Q8pSU5O202tw40ZQFOwLFqB3OE47yavPlKTYIeM1/HZdWp1E7TsesIjeGTr8rbIoRV/XIugwnjSX12Qq6iRsVmSHct1v4JHrel9TQ01ODbs7d6MvlN+xiZ6j1N7fUX0PRfYirIa+QtzcvLns6NiBoSQVYzJGY57QtvcgkcC2cCGGwkIS4+xQaud2TO+h3FWOoijMy5/HtrZt6EuK5WzxMMY8QlVJdnfjsaX+pu5UJ8rXAs0pkU+9JG4F9gK6TTGSfv+Ed4RHgtahDO/YeVYWOAxix46her2981pAP6fX0WWvyR55nWg2BMm2ZPfF92z7i1w/1L0JSKKpChXcTpKeM4xQer3oMzLY0rqFuBofV1xIf1S6K9EpOo4Y5f39LKGcWGjz7sYSSSg1ldJYisqJVnmt1hXkcaD7ADOyBs9P9sfKySvpDHf2qqlORFJNcuc7d2I1Wvn+4u9/6KWuGk4VoXQAJ66OvYBzDPt6AYcyxr+AEGJdSvJaAvwCODbUfoqifEFRlC2KomzpmODq9weG9v3SdKf6Ulg0WL8NgKLAip/JCuSauwZscplcWPQWIlb9uHMQtU6d3wpec3JcxFQNBgkbhSQWHQfBaIPZ18O+FyEmOwgWg4UyVxkHdPKiHB/h4ux98SXUQIDMG28c0+ubystxLls24LEHdz1IT7SHr8//eu/FwKw3k23JxmcR6XcofZKYdBkjgySvHnMS4JR3CjTEm5pRfT4s06cjhGB1/WpqC2txmvq+vpmWTMIm+XsZzyKwt6tptw5YzC8oWIBBMbC+eT3mKmnfPtQcZXDtOtDpsC/pu+nfu/1eYmqMVYekFMVaM4tEezvxtrHfyEMbN2GePk1KuJ3O3s7y6QA1EMCrj3FO3jkA9NhUkj09iGRyTM/XVAgBizTkovMw/Pd02Pc80EcoPTZBorv7pJhIaB3KkElGhLD/JTj8Ohx9a8B+s3NnE0qEaHHJ9zLhhLJDdigPKe29hjwa5ubOxRfz0eKSJGus0SGhzZvBYMB27jkYCwpkxXwc0LrDh5T23s7pvPx5+GI+joYbR4wOSXo8oKp0mKPoFB2ljlQn6uAr8l+DBRpkxmqBvYBOfRhU9ZQROTUYJOnxYKtdDPE4oa1bT8l5nO4I75A19wGEUnN6rRtd9qrlytYbPAPlrodSbpUpQqlFh8RdVhLdZw6hFMkkqs+H3u2W9x69mXPzzx28o7dROuk3bx/1mBaDhTJnGft0Uuo60prlLN4/tDEAU0pZYiwtRe92j2nsRStqtbsgpsaYmTNyT+uCkgvIsmTx3KHnhtz+yL5H2Nmxk+8s/M5HQuqq4VQRygBwojmOC9lFHG1fFxAQaa5mUnLZV4Enhtl+nxBivhBifm7u+HXxpw0S0b6IkJX3SuI4HPJnwILPStlra1+1RlEU8u35BCzjn9/TTHkCVug0RscVf6GGQgSNSWnI03kQcibD7E9BPNi3EAKq3FXsTjaATjdsh1IIQc9jj2GePl3aOY8DzYFmHt77MFdVXjVoMLvIUUS3OZ42oVT98vcbMiuDCGXgNAuSju7fB4Bl+jT2de+jKdDUG/quIcucRaS3Q5l+rpIaDJIw6nCf4PxpN9qZmzeX9c3rMY0QHRJYuxbrnDno3W5AhtFvat2E3WjnteOvEVfjWGrkPNxY5yjVSITw9u3YFy0GQOc8vTqUyUAAjyFKqbOUXGsubeYIqOqYPzdJnxdhNBA3KrJDeWwtCBX2SAKeZ8vDarDSYYlCPH5S3rsalIQybIZscya0pUySNvxuwH7a7OIeQ6pgNOEdyk7Q69mbaOg15NEwJy9lEhQ6hD4jY8zRIcHNm7DW1KCz2TAUjp9Qah3KQ6Ktd/E/L38ekJqjLCsnfrx+yOdqZLTJFKTYUYxRL6WvHHgFMiukYVu9dDGW89uSSJ6qa4+2kHNf9XEUk4ng+rOy16EQ3rEDncOBqaoKIQRd4a60nF411+Y6Ovvkrl110HUYdEY4/CYI0RsdErIbzijJa9LnAyHQZ7jZ0LyBefnzsBgsg3f8+/dg11Pw4HLZ3R0F1RnV7AsflY7c7R+RRsZpinhDIxiNGPLlOIeiKFhmzRpTh1Jz5D5sluu6oRxe+8OoM3JV5VX8o+EfdEcGqoSOeo/yv+/9LxeXXsyVk64cz1s5bXGqCOVBwKAoyuR+j80BhrJc3JPaNtp+Y4EBqBrnc08tjq+XcrDO0fXeAKz+EbTtkhEhjrzR97/oO2Bxw6vfHiA3y7fl4zUn3pfkVTUZiBkV2vVBiMfTjpFQQyEC+oTsUHYehJypUL4EnEWwq0/2Wp1ZzfFAA/qsrGEJZfi97UQPHCDzxhvGLTO4+727URSFr5zzlUHbCuwFtBvCiGgUNY2YD61DGbSkZlejAUhEKbQXEjWCMOjHlW05EYjs2w86HeYpU1h9fDV6Rc/FpRcP2MdldhEzS4OkcUleQyHiZv0AuauGJUVL2N+9nx5DFENu7qDokER3N5Hdu7H3k7s+sPMB3GY331/8fboj3Wxq2YRl+jTQ68ecRRXevh0Ri2FbJDOspCnP6dGhVKOS5IVS0tEyVxmNBnluY513VH0+4nY5+FpgL4CGlCPp4dWQiKFTdJQ5y2gyyr/nyZC9ah3KsAmyIwFZJMqulp2RjgO9+5U5y3Cb3ezw7/tAsigTnZ0oGW6CaniQE2qFqwKXySWNecYYHZIMBIns3tP72TEWFKJ6vb2zwukg2dUFLicJfV/XuNhRTL4tP0Uoy4btUGrE4Zi+p+99RQNw5C2Y+jEoqwVvA3ibKLAV0KY/PQiladIkrPPOPTtHOQzCO3ZgnS3dXVcdXsWlT19KS6hVOr0eGkOHMiV5PabrZ9R06HX576Ivgrceuo+Qa8vFpDPht55ZpjyaOshvgTpv3dBy1+MbYO8qWHyHXJ88/2+w6ksQH369U51ZTb2/Hn1e7lnJ6wQj1tiAsaiQ3+++jztW3wGApWYW0UOHRl2rxVtaQFHYKRpxGp3DuiD3x8rqlSREghfrXux9LKkm+cE7P8CsN3Pn4js/MlJXDWMmlIqi5CuKcquiKL9UFOWB1L+3Kooy2A5wFAghgsCzwI8VRbErirIU+Cfg4SF2/wvwNUVRihVFKQK+DjzU77xMiqJYAAUwKopiURQ5Lasoys2KopSlokfKgbuAN9I939MCdWtg9Q/ht/Phf+fBa3fKC5g6hJzt8Buw8Xd9ESFjgS0LLv6e7EqkJG4gCWW3MTZ+QunxEHPIRarHLAeU012cJENBAoYEmQa7XOzkTgGdHmZdI296qdnP6oxqkiJJMss1LKHsefxxdA4H7quuGtf72d25m5eOvMStM27tnZnsjyJ7Ea361EI+jS6l1qEMmuVQN39aAS9/Q9r3Kwpxu/mUuy1qiOzbh2nSJBSLhdePv86CggVkWDIG7KNTdBidUlgw3hnKSL/IkP5YUixv5htbNmKqqhokeQ2+sx6EwJGKCznQfYB/NP6DW6bfwvLy5ThNTl4+8jI6qxXz5MlExmjME9y4EfR6bPPny/fodCBCoSFNgT5o9BIzs5SOlrvKOaqThG+sxC/p8xO1GbAb7TLsvnGzLDJFfVAvZ0HKXeUc06eyaU+C06tGyFWbGXtX6u+44mdSetmvS6koCjU5NSljnonPokx2dpHIlG6ZJ3YodYqOOblz2NG+IxUdMnqHMrxtKyST2BctAsBYKG+b4+lSJrq6Sbilm3K5Uy7+tTnKrW1bMZaXkfR4hrzOJlOuv4do7yMOdW9CMgpTr4BSeX40bKTAXkDQkpKtn6Jrj0YojcVF2BfXEj1w4KTN735UoIZCRA8cxJKSuz5z6BkSaoK1jWvH7PSa6O4GvY6gFUpdqcXyodcge7JULwHUvYlO0VHiLKHLHD+jCKX2XTqQlJ/H2qIT4kJUFf7+HVnkXvZ9uOUZuPBbsP0RePAy6B463qo6oxpVqMQzHWcJ5QRDiwx57dhrrG1ayxHPEemLkUwS2bdv5Oe2NGPIyWGXb/+Ihjz9MTlzMjU5NTx3+LleVd6j+x5le8d2vr3w2+/LIfh0xai/FUVRpiuK8jSwF+nCagRaU//eCuxRFOVpRVFG7gEPxh2AFWgHHgduF0LsURTlfEVR+pf9/wC8AOwCdgMvpR7T8BoQBpYA96X++4LUthnAeqRs9h3gAPD5NM/z9MCy78F/7IErfwkZZbDxXkk6fjkZVt0B+16QlWYtIiR3+sCIkLFg3mcgb6acu0xV1fLt+XTpw6g+37iMGZIeL2GbzLYKpBQi6RIjNRiUbp/xVLZkjrTdp+aToMZ7CbDmmhZym4YklImuLvyvvor76qvR2WxpvxchBL/c8kuyLFl8dtZnh9yn0FFIj1naUKdDKLUOZcgC+ZigdRfUvYnD5MBpdBK1GU8byWtk/z4s06Zx2HOYY75jg+SuGuwu6do5PkIZImQSAxxeNUzPmk6GOYP1Tet7o0P6y6iD69aiz8zEMlPKkR/c9SB2o50bp92ISW/isvLLeKP+DcKJMNaaWUR27x6TDDu0aTPWWbPQOxwc9x3noeNPyXM9DbqU/WcRs63ZlDnLaDDKz9TYCaWXoCUldw12SbnbotukAdaBVwFJKOsUOV+YSMNBdvjzDhI36cmy56K07wFFB+VLYc6NsOMJeT1LYXbObOo8degK8yc8izLR1UVwKCfUFObmzaXOW4damEe8qXnUOdXgpk1gNPbK7A0FKULZkr7Ta7Kri5BT6sn7W9fPy59HR7gDX640VInVD5a9ah3KdnO0730deBksGbI7WTAbjHao30ihvbDvmn2KIovizc1Sppabi32JXMQHN248JedyuiKyZw8kk1jnzOGY9xg7OuQ85brmdZiqq0m0t496z01295B02hGKQpmzDGJBOLYOJi+HrEoZL5ZyVS9xltBuDKOGQlIZcQZAu/dujxwm15rL5IzJA3fY9Vdofg8u/SGY7LLgffF34aanwNMAf7hIyspPgHYcn8t4NjZkghFvbISifOo8ckTm5aMvY5kljRZHKyrHm5vRFxZwsOfgQLlrx0E4+Pdhn7eyeiWHPYfZ07WH477j3P3e3VxUchFXVY6voXG6YywdyoeQc4dFQojlQoivCiG+n/p3OVAIPAk8mM4LCyG6hRArhRB2IUSZEOKx1ONrhRCOfvsJIcQ3hRBZqZ9v9p+fFEJcJIRQTvj5R2rb94QQJanXKBFCfEEI8eEtb7pLYOHn4dbn4JtH4JMPQdUlsP9FePIW+K9KuO9iCHsGR4SMBXoDXPEz8NTD+t8CskPpswgQYlwL56THg98iMOqMfYuTNKSbQghEKEzEBBmR1MxWbopQFs6RFdSU7LXCVYFBMdDtUIYklJ5nnkXE42Te8Km03wfAmoY1bG3byh1z7pAdnCFQZC/Cr808pvE+k34fQlHQ2WzYNamftwE8DRQ45Bzl6RAbkujpIdHcgmXGdFYfX42CwrKyZUPum2HLImbSjbtDGTSqZJqcsOkPEO+TpOgUHbWFtXKOsrJSzlumqrtCVQmsewf70qUoOh3Hfcf5+/G/86mpn8JtlvOUV066klAixNuNb2OZVUPS6x1VtpgMBAnv2oUt1WF6aM9DHE92pLadekKZTMWXhCyQbcmm3FWON1UzSXaNrZOoen34Tao05GlMyV0rL4LKCyXpEIJyVzk9NllYSqaRcTnsawYCxCw66fDatgeyqsBkk7KxZBTe7butzM6djUDQk2mc8CzKRGcnHjvYDLYBM80a5uZKYtjiViGR6HUBHA6hze9inTMbndXK2sa1/KXrZfk64+pQduGxyTgd7TMNfXOU+2zyOhEbYo4y0dWJ0OkIWFMOr8mEXBBNuVxe//UGKJkH9VqHUj4vOU5TtveLeFMzxoICFJ0Oy4wZ6Fyus7LXE9DfkOf5uufRKTouLr2YzS2bMVTK7vpoTq+J7i4iTqkkKnOWwdG35fdvSioqq2pZ6rE4JY4SmgySoKbrFfBhhfY+NwX3UFtUO1CqGAvKEaOic6Dm+oFPnLIcvvg2ZE2Cx2+Q+/XL/C51lWLUGem0J4l3dJwUo7OzGIyk30/S46EzU49A4DQ5eeXoKxjycjHk5hIexUch0dxCJMdJXI0zI6cfoXzu5UQK1gAAIABJREFUC/DY9bD/5SGfd8WkKzDrzTxz6BnufOdOTHoTd9Z+9KSuGkYllEKIRUKIp4UQQ5aihBAxIcRTQojaobafxQTB4oKZV8O198M36uCfX4QFn5PVsSv/Cwpmje+4ky6A6Z+Adf8N3ibybHn9FhXpV6mTXg895gSzcmYRsCqp46RBKKNRUFUpfwx2gaKHzJQETVGg5jpZSfU1Y9QbKXeV02KJyPDufl0DkUzieeIJbIsWYU6ZuQgh+N323/HzzT/nzfo38UaHP6+4GufXW3/NJPckrp1y7bD7FTmK8GvvMx3Jq89P1Gog157fZ98P0LCJQnshPvPYzVUmEtEDkuyap03j9frXOSfvnMEuZV118OwXyDQ6iZqUcRHKRMAvCaW/HV75Jqy/e8D2JcVL6Ip00Z4nOzWxlDFPZN8+kl1dvXEhf9z9R4w6I7fO6Iu4nZ8/n1xrLi8feRlrjWYdPvINJbxtKyQS2Bcvwhv18mLdi4RSOZungzHPgFlEq5yhDFpB6HQkxkj8kj4fPaZYan5yE+gMcpE09QrwHIeO/ZS7ynsLJokxEtURzzsYIGRSyLJmya68dt3KnQKTL4d37+8tJszKkdsaHbEJzaIUQpDs7KTdEqXCXSFv/lsfgsdvktK21LnoFB0HrfI7OZIxT9LvJ7JnD/aFCxFC8Istv+C+ZlkEi48jOiTR3U2nNTYoWLvSXUmmOZNNumPynI4fG3wuKbmsUBTZoWzYJDN9p/Yzhyirhbbd5Btsfdf+UzhDaSyS+b6KXo990UJC6zecXXj3Q3jHDozlZegy3Lx45EVqC2tZWb2SUCLE4Uy5bIseHtl7IdndQ8CuI8uSJYulB/8uDf3KUsu6qmUQ80PjFkqdpXSapFroTJG9asXhFr1/8Pzk+v8FfzNc/lPQDbGkziyHf/07zPsXua565GoIyGuXUWdkknsSjZYQxNM38zuLsUGLFjtiD6Kg8MXZX6TeX8/err2p+LDhO5RCCOItLXS55bpuZlbKiLFpm+xKmxzw3BfluucEOE1OLiu/jKcPPs177e/x7YXfHrJA+VHB+zLlURTllpN1ImfxPqA3wqTzYcX/gy9tlBeu94Pl/ylnM1f/kHx7/vtaVCQ9HrqMUWbnzCZslR+3dOIvNNOKiBEyvS1SfmMw9e0w6zpAwO5nAajKqOK40QeqOkDqF3j7beLNzQOiQlYdXsXvd/yeJ/Y/wVfXfJXznzifT77wSX6++eesqV8zgGA+deApjvmO8fV5X8egMwx7vgNcWdORvPp9RCwph9em9yRpNjmgfgOF9kK6TDHUCTTlidbVceTqa2i47Xbaf/UrvM8/T2Tv3kHD6pG9ctags8TBoZ5Dg+WuahKeuw12PklmLELIJMZHKIMBIibICqfI2rpfy6y8FGoL5UJni7U1df5yRiW4dh0A9qVLaQ228nzd81wz+ZoBpFev03N5xeWsbVpLpCwfxWweVfIS3LgJxWjEes45PH3waSLJCGFzqnBwOhDKoDaLaMFmtFHqLEUoCjGXZcwdyqTPS7cxRr4tHxreTckfrTAlFbp84BUqXBUk9QoJh+WkdCiTgQBBk0qO0S1Ja/+s3NovQbBDyskAt9lNhauCvSYpg52oOUrV50PE4zQYA33zkxt/DwdSkSaAzWhjauZUthnkOYwUHRLauhVUFdvCRWxo2cBR71ESBgWR5Sbemp7kVcRiqF4vzcbQwHgH5BzlufnnsrlnO4bCQuJDSV67uwk5jFgNVnmtOfAy6E1QfUnfTqWLQKiYW3Zid2aR1OtO6Qxlh0tw9d+uJhQPYautJd7cPCYjpDMBQghC27djnTOHLa1baAm28ImqT7CocBEGxcDa5AEUq7W34DYckt3d9FgS8jMlhPQmqLwIDKmq2aQLpBy97k1KnCX4bKlr35lCKFNrloAFFhcu7tvgbZJmiTNWQvkIPRWjBT7+P/BP90izsz9cAI0yAqc6o5o6g/w9np2jnBhokSG7TO1UZVSxsnolBp2Bl4/KonLs6NFh7+PJ7m5ELEa9LYzT5OyNzmHLgzLC7rOvyeLrEzfLsbMTsLJ6JSCjRD5e+fGJeYOnCcZFKFNGNxXAv57w+H+fhHM6i1ONzApY+hXY9RT5PU0ExmnMIITMY/RaVUqcJVgy5aI+nXmcXkJpgszu431yVw051bKLskvOs1VnVnNUCwru18HoefxxDLm5OC+R8swGfwM/2/wzFhQsYMNNG3hoxUPcPvd2XCYXfz3wV76y5iuc/8T5XP/C9fzXu//FvTvuZWHBQi4ouYCR4DK5UF321PtMgzj7/ATMQi7ymrdByQL5k5Ke9RhjJCZQdhbavJnovn3EGhroeujPNH/zWxy95loOnDuPuhVX0Phv/0bH3Xfjf/MNDPn5rPa9C8Cl5ZcOPNDGe3vlktnxKEGjSiI4Dql0ilBmBrrAmglqAtb8pHd7vj2f6oxq3grtQOd0Ej0iF0yBdWuxzJiBISeHh/Y8BAI+M/Mzg47/scqPEVfjvNnyFpZp00aVvIQ2bcI6dy6q2cgTB55gYcFCzG4533k6zFBqN0OzS56T1WAl35ZP0GEY0wylUFVUf4CARVBgzYWmrX0GLa4iKJwLB14hw5KB2+wm5DKdlA5lMhAgYEySrakJ8mv6Nk66AApqpDlPqiM1O3c22xS5OJgoQqn9vuqNPtnF66qDjpRpwzt9nfI5uXPYkDgIev2IHcrQps2yGDF3Do/vf7w3ND6cZSeRZocykVrAN5uCcvEf7JTkP4V5+fNoCjRBcQGxY4OdXpNdXXhtUtaoQ5GEsuJ8MPeLgC5ZIMlD/Uby7QVEbPpTMkMpYjESHR0ctng57DnMqsOrsNem5ijPxocAkGhpIdnR2St3dRgdLCtbht1o55z8c1jfumFMTq+Jnh7aTBHpXtm+D3yNcn5SgzUDiudLQuko6RvrOIMIZcSqZ2rOdLKt2X0b3vgxiCRc9qOxHeicm+Gzr8sZy1W3gRBMzpxMnfEsoZxIxFPX5/XUMTt3Nm6zm/OKzuPVY69iniWLmJE9e4d+bioy5ICxixnZM6RiJdwDu56RPh75M+G6B6HzgHT2PUE9sbBgIf+59D/5ydKffGSlrhrG26GsBH4MnKMoyhuKotyjKMpXgaHdOc7iw4fz/gPMbrL2PE/EKuMfNOOYsUINhiCRJGBVKLQXkpFZgKpLk2ilulsRE7i7jkDOlME71XwSWrZD5yGqM6rpkeu1XkIZq68nuHYdGddfj2I0klATfHftd9Ereu5aehcWg4V5+fO4fc7tPHj5g6y/aT1/uvxP3D7ndhwmB0/ufxJ/zM/X5399+AuCrxn+/HGUzfeR6y4ibtKl2aH04zMlydXbwN8CxeempGd7KDC6CFgVRCCIiMfHfMx0EGtsRDGZqHzheaZt20rliy9Q/Jtfk3PbbZinTCF6uI7O3/+B8JatWOfM4fXjrzM7Z7aUR2roPARv/idMuQLsuWSGvURMEAukvxgVwZA0YvI1y4XMwi/Ae49Cy87efZYULWFb+3sYKyuI1R0h6fMRfm879gvOpyvcxTMHn+GqqquGdOOdmT2TMmeZHMyvqSGyZ++wbq1Jr5fI3r3YFi3izfo3aQ22cvP0m7G4ZUbm6SF5ld8TmysDHroKOg9R7irHYxNjig1R/X4QQpryREOQCEPpwr4dpl4Bje9CoKN3PjPR1Tn8AceIuN9LyAzZ2nx0f6m+okDtl6FjP9RJc+6anBqOaAWjCcptS3TI9+W1pxxeD6TmYxbdBsfX9XYW5uTNIaCGIT9nxI6ZVoxojnfyVsNb3DTtJjLNmXS7lLRdXrW/pdeWMuR540fwx8uh+yjQN0fZnWsexpSni05LnAp3hYxg6j4C007IQrO45CIpZcwTtCinxGE63toKQnAwlf32yL5H0JeVYigoOGvMk4I2P6nMnMbrx19necXy3nxELV5JTCoZ0elVxOOoXi+t5ogsUhxKmYxMPmE5V7UMmrdRrLfhT81nJ84UQunxELAw0IynaSvsfELOe2dWjP1ghbPl+qrzILTtlmuWlCXDWUI5MYg3NYLLQavOz+wcmWl8ZeWVtIfa2Z8n7/vD5VFrTtM79S19ueM7npD3SM0BuWoZLLsT9jw7KENZURRWVq8c0rF+ANr3wbahgi4+PEiLUCqKogcQQvxDCPFp4NPApcCvgWPA9cM/+yw+VDDZoWQ+uqZt2DKlvXG6xgwaofJbpftpgb2QkFWf1nHUoOxQ6qxWDGpicIcSYOY1gAK7nh54cU4Ryp4nnwSdjozrPwnIubrtHdv53uLvDUk2zHoz8wvmc/vc2/nj5X9k/U3refXaV4cPs23bAw9cKk0L3nuYIkcRIasuLeIc93kImAX5sVRmVdG5ULYYEBQGe/oMjSaIvMQbm2QQtk6HYjRirq7GtWIFuV/5N0ru/h+qXnmZqe9tY9LfVsF37mBv196B3Uk1CX/7kpRIffw3kDuNTH8nYZNCIk1CKYRACUckoeyul3/zC74hO5Wvfa+3ArikaAkxNYa30EX0yBGCGzZCMonj/PN5eO/DRJPRYd14FUXhysor2dyymfiUckQ43CubPRGhd98FIbAvXsSj+x6l2FHMhSUXYs9IfS/8p75DqXVJ7SZFRv/seJwyVxnt5piMBBgFGmEIWCDfI2+gAwjllBWAgEOvUeGqoMMcG7OUdsTXDQTk3GewS0aUuIoH7jDzGnAU9JqEzc6dTdgMqsk4YfERyRRR9thTc4b7X5Kd02XfB7Mb1v8P0GfM48+1E2scukOZ9PmI7NuHbeFCnjzwJDpFx/VTr2dq1lQabRESLS1pzQNqXWGvXaHcUSZn3URSSsKBqZlTsRvtHHNGSPb0DCKCia4uWsxhSRw0ojzlisEvVFYLjVsosOXhMydRT4Epj7aQ22fsZFrWNBr8DbzV9Bb22lpCGzZMqCnThwXh7TtQzGbWWRsIJUJ8ouoTvdvOK5Zz5I05yohOrxop9KU61xx6XSoDXEUDd6xaBkLF2rAZi7Ym6DkzZv4SHg9ei9pXQBUCXv0u2HPh/K+nf8AZK6VM8sQ1y1lCOSGINTQSyZMGZnNyZbzOhSUXYjVYeaV7HcbSUsLDjL3EW+R1qNWZlGtAIWDLH2Whu3BO347n/QdMuwpe/wEcXTv2kxMCtv5ZGmquuWtI2eyHBel2KF9VFKW/A+sLKRfWQ0KIvwkhRg5zOYsPF0oWQMc+HKmbR7qSV41QBixQaC8k356P36ym5X6qSV5N1tQsR87kwTu5CuUM6a6nKHWUEHLJGctEeztqJIL36WdwXnIJxvx89nTu4d7t93JFxRV8rPJjYzoHs948sBPXH0fegj+uAKHKxW/rbgrNWXgtIq0OZcLnlRmU/k5pPFRQAyXzQdFT2Hmk31zmxCzs4o2NGEtKRtxHZzZjmTqVN7pld2AAodz0e2nwccV/gbMAcqaQ5WkkYoJkmjOUIhJBUYU0YoqHZVfamgEXfUeS9pRN97n552LSmTiSESXZ2YnvpZfQOZ3Ep0/iiQNPsLxiuezEDIMrJl2BQLAxQxYehqtQBjdtRrFYOFZiZFv7Nm6cdiN6nR5nZj4AauB06FD6ieshi9Qi+9BrlDvL6bTExkS8NElj0AIFbfslsXP3+zwUzpEZawdeptxVTrs5elIInRqQkUA5niZJ2k5UABhMsOgLcGQNtO1hcuZkzAYLEZe5l/idbCQ65XF9doVyvV1+rqd9TMpCF3wW9j4PXXUUO4rJsebQ4lZ7TR9ORGjLFhACw/y5PHvoWS4pu4QCewHTsqZRZ/bJ6IU0ikRaV9hrg/KQDwJt4C6D7Y+BpwG9Ts/cvLnsMMuFaX+nVzUcRoRCeGwiRZRfllJmd/HgFypdBPEgBarAZ1aJnYJOVLxJLuQ63HD7nNspshfxlz1/wb6kVqoGRsmOOxMQ3rEDy6xZPH/8JYodxZyTd07vtqmZU8mx5rDdLosQwzm9JvsRylJTBtRvHCh31VA8D8wuqHuTooxSwjb9GSN5jfZ04rfQtw7YuwoaNsrsbosr/QPas6HyYtj9LEX2QowWG1GHmfhZQjkhiDc00JGpx2F0UJlRCcg5+ItKL+L1469jnjmDyDDGfImWFpIWE0GLVDZxbK3sLi84oVitKLDyXsiugqf+Rc7XjoaIF57+V3jhK1C2CL7wFpiHThD4MCBdQrkdeEdRlN7SlaIoFyiKkgYdP4sPDUrmg1DJMptJ6tLPItNiLpJOO861v6EgEsJvEcQ8Y+9sqCFJRkxGKbsdUvIK0pynuw5D227KsioJ2w0kOjrwvfoqSa+XzJtuJJwI8+213ybbms33Fn8vrfcyJHY8AY9cKxfen1sN8/4ZEBTG43gtKvGesS+4VX+AkAXyeuohb4aMTjDZoXAOuc07CaUMjSYqOiTe2IixuGj0HYHVx1czLWuanLcBOWP2xo9lF2t2KpIldxqZET9hs5SvpgOtiBAz6XCqoq8rPf8zMibmte9DMo7VYGVe/jzetUjZoH/1auy1tTxx6CmC8SCfrzkhcjYZT4W4S4lLpbuS6VnTeTayCZ3DMazTa2jjRmznnsujh/+K1WDl6slXA5Dlyiemh8QpMizpj7jfJ6Wj4dS5tO6izODAa1cQoRBqODzi87UOlOqwYW/cOrA7CfJmOXUF1K2h3F6E165I85pYbNznLIRACYUJmyG788hAQ57+mPcZaX6w4R6MOiMzsmfQY1N7paknG4nOLlSdgiunCEvdGlks0mShi74oTdA2/A5FUZibO5eDVi/J7m6SgcGFk9CmzShmM2ucjfhiPm6cJk3BpmZNpd0p50bTcXrVusKm7BxsR98GFPjUX+TGd34DSBfj7WaZaRc73jdHmUx1qn02KDe6pIR56glyVw1l0nikINBD0AJx7ykglM3NCAU6XbIzffP0m9nWvo3GyVI6FjrD40PUWEwap82oZlPLJj5R9YkBgeuKorCkaAlvGqTD63BOr32fC4WyziOy4z358sE76g1yrrluDSWOYvxW5YwhlHGPh4A1RSjjEdmFypsJ5356/AetuQ689egat1CdUY3PpSfRdpZQnmyIZJJ4UxPH7CFqcmoGfEeunHQlnqiH1jIH8ebmIdU88eYWApkWXGY3xY5iGWVlyZApCyfC4oJPPQKJCPz105AYIae1aas0Z9r7N7jkB3DLc+DMPxlv+ZQhLUIphPgGcC+SVN6gKMrrwF+BVRNxcmdxilEs53Hy41GClvRdXrUOnS0rC9b+koKGLQQsClFPGkQrRUasBlV2TfqbR/THjE+AziglJJnV9DgUEh2d9Dz+OKZJk7AtWsSvtvyKY75j/OS8nwzIb0sbQsDbv5BW0eW18JlXJKksWQA6A0X+DgJWiPaMjTiLRAJdKELQrJDXdgCK+6rMlNVibNyKUTOAmQDykgwESHq9mEbpUAK0h9rZ3rGdS8tS3Uk1CavukFLXq37T12HKnUJmMknYBEo4MvwBh4A2N6uzGFCgr4igN8Lyn0DXIdjyJ0DKXrdYUk6ZqopxyUIe2fcIF5RcwNSsfvLoZEJWAh++Gt76ee/DV066kt09e2Bq1ZBOr4muLqKHDsG8Gl45+gr/VPVPuEyyIp1tzSZkhoj3/Us/3y8ivh4pHfV3SNINlHfX49NmnUaRp2pyOKs7Q+afliwcvNOUKyAepMLf2Xfc9yF5E9EoSlIlZFbIjgSGjzqyZcHcm6Xbq7+N2TmzaTNHiXdOEKHs6iTg0FOekZqfdJdKx1uQ3fc5N8D2RyHQwZzcOb3RIfGmwV3K4ObNWOfO5dEjTzElc0rvjOO0zGl0OuV3JZGG02uiq4u4USEvt1x26ovPlaZk59wM2/4Cvmbm5c+jNUPuH6vvI5TaYslrg/K2A4AYPD+pwV0C7lIKu44RsEjTsA8a8eZmwm4L2Y58cqw5XDP5GuxGO39pfwHz5GopcZ8gBDduJN6SngPvB43ovn2IWIwdeSEEYkgHyaVFSzli9SEs5mHnKLVrg5LpxnnkbTlaUDJ/6Betuhi89ZTo7fRYksTHeI/7sEN4fQS0DuWme2VW9+V3SXOd8WLqlWCwwG4pe223Jc5KXicAifZ2RDzOfksPs3NnD9i2tGgpLpOLd1yyADdUlzLe0kK7U2Vm9kyUQJvMfT/nluFz3nOnwsp7oGkLvPKtwdtVVUbNPLhcrp8+84qUTQ8VOfMhw3jewXrABzwKNACThBC/OqlndRanB2xZkFVJXqCLgAUiaRBB6COUTqscAMxvP0zQmqYpT6pDaRfh4buTIG+Ck5fD7meodlXSYU0Q2rKFyI6dZN54I+ua1vHkgSe5dcatA22/00UyLuUJb/4EZt8ANz8j5ZiQ6ijOpbBDSlTVMUpetfm3oAVyg91yflJD2WJIRrE7pQxiIvLgNLner5sf4+aXbubf1/w7d228i/t33s+qw6tY37SeQz2H8Ea9rD6+GqAvLmTTH6T0Z8XPpfRYQ85UMlSViAn0kXha804aoTQYdXJGxZbVt3HK5TDpQvjHTyHcQ21RLe1uUI0yymVNYQ+eqGdgd1JNygDifc/LqvLaX0pZF7Bi0goUFI4VG4gcPIh6QscttFk61r5d0ENcjXPT9Jv63qI1J0UoJ2aWLx3EvD2ELJDjb4NZ14CrhJL6LX32/qNEfGjqA4ctJS3XHF77Y9IFYLRR2vAenpTx1fuRnWqf+7hZh10IyB8hO3fx7fK79+791OTW0G1XiXa2jfu1R0Kio5Num8okR4nsaE+9cqAUd8lXZOV5833MzZtLW4bcdqIxT9LjIbp/P56ZJRzsOchN027qNfWqcFfgzzDK56XVoezCZ1OosBfKCrcmTTzvP+Tn/J27mZk9E53FQjjLRrxfh1KT8pLpxn14jZTKjvQ7L11EQeseAhZQguEPfGZRRobQGyTuMDm4dvK1vHbsNZg/h9DWrajREToA40Sip4f6z32ezvvuO+nHPpnQDHmeMe3m3LxzKXWlFCO7n4V7loC3kdqiWlB0BIrcxIYhlFqH0p1XKucnqy8dnihVSZf00mA3fitEuj76BEgkk+iCIQJWKMQAb/9KqnGqLn5/B7a45Pd3z3NUuytps8WJtaWfS3sWI0OLDGnNEJJQbr5fFsHVJEa9kcvKL+NZ3XZQFMK7BxeVY81NNNjCzMyZKU1z1ATM/9dB+w3AjH+Cpf8OW/800Ggn2AmPXS9VVlNWwG1rpdT1I4J0TXmeBf4BPANcA1wOLDv5p3UWpw1KFpDfXS8JZU96i0eN/GQapMSwwN8uzWV8Yx861jqU9oR3aEOe/qi5DvwtVMfj9Dhl3qVitSJWXMgP1v+A6oxqvnruV9N6DwMQ9cPjN8hOwPn/B67+/cBMTIDyWora9spFmD84JsMNzWhHsZkwguw6aEgFS7tS0S0TMUOpEcpdpnasRivHvMd46ehL3P3e3dz5zp18cfUXueb5azjvifP46eafUuWuknMI/aWuc24YeFBnAXqzG8xyYaLJWMcCjVCaDEnIOeFvriiyMhzugbd/yZTMKWTbc+kpsGGsruL+tudYULCAuXlzUwdT4W9fht3PwCU/hM/+HTLK4NnPQ8RLgb2AefnzeMvRBPE40f37B7xccOMmFLudP8XeYmnx0r5cwubt5LzxU0JmiPlOvTFF3O8jZFLITiSkdHTyZZiPvI0hR1rcjzbvqBlluQ1JWTUvqBm8k9ECVcuwHXodfVZW6rjj71BohNJgMaIoOsibPvzO2VWS2L37IDXuarw2wONDaHEjJxGRjla6bYKKaFhKl6adMGudMzl1Lvcz3VlGT5YkhidGh2jzk3/PbMJlcnFlZaobGAth8DWTUzoFVUdaWZSRznZ6bCplkTAg+ghlZgXMuRG2/glTSFbiWzKVATOUGnFw5hVB3Rrp3DuSjX3ZYnK8LYQsOhQhPnA341hTI4326AAztJum34SKyvoiPyISIfze9pP+uv7XX4dEgnjjxMTSnCyEt+9A5GWzgwY+XpXqTnYclNe79j3wxo/JtGQyK2cWR7MSw85QJnq6URXIdbkh1Dn0/KSGrErIrKCk/TB+25nh8qr6/SgCYg4zznX/I909l/9k9CeOBTXXQbCD6kiYHocsGE3ENe1MhvY9bs9QmO2qlGuW7Y/KLiHSS6FHHyFWmjdIpaRGIqjdPbS5BDMyp8HWh+Tsa3bV6C+87E5Z/H7p69C0Tfo/3LtU/vuxX0lprHUU59cPGdLtUB4CqoUQPxZC/A1YAfxWUZQvnfxTO4vTAsXzyQ92EbQoxNOc34t0dRAyQ0GoA2zZ5CSThCwKulBkzBfNaMCDqkCGGhnakKc/pqwAk4Oqhvd6XdNcV13Fj3f/Cm/Uy8/O/xlmvblv/0AHrPoSPPYpePkbMmNuzypZ+Q92DswT8rfCn66UC7GrfgOX3Dn0YqxsCTmxCEGbDiWp9pKjkaDJDU1mg1zM5/Vzk3XkQnY1WapcfCcmYIZSc6i0lJTxwPIHWLVyFetvXM+7N7/Ly9e8zJ9X/JlfXPgLvrXgW3xm1mf47qLvpojalySh7i911aAokDsFvTGVYZqGMY+2r4Uw5A7RlS6okZKTTX9A6TnKkqIl/H6Fwp47LqU93N7XnVRVePHfYcdj0tDn/K9JyfQ1D8iB+Ze/AUj78PUpY54T5yhDGzcSmFlGe6yLW6bfIh/01MNj15PTsouQRSFxCuSAJyIZCMhZxKQqu06Tl0PMjytDSruTozi9xj0eEjrIiXZLCeWJhRINU1aArwl3VnbquOPvzmozh0YjkF09vIRIw5IvQ7ibgsP/IOg0oqhiQma44h0dMjKk44iclSlfMninpV+FcA/mnU9RXjyDiEU/qEMZ3LQZzGb+qt/GtZOvxWqwQiwIf7oC7l3K1MwqPA5dWh3KSEcrXptCeddxsOdJUx0N538NkjHY8L/My5/HUWeY6PFjvZs18p/jtMlF8dQh3F37o2wxBkDoW2ZEAAAgAElEQVTnkNfMiVBHDAehqsRbW+lww0znJHndBYodxVxadil/NGwGvZ7gxpM/R+l75RWgz2X2dEV4xw6ayuyY9WYur7gc4mFpBmK0yOvjziehaStLipawy+kd1uk12tmBzwplkQCgQNUlI79w1TJKGrbhs4Li9aflUvxhhPa5Nzgdspi84HOjr0XGisnLweRkcsNWup0KiiomzL36TEW8sQFVAXtJBRl7X4CoT97j3vwJtOxgfv58cq25HC3SE969e8DnWZO9d7pgpq9T5rOeaMYzHPQGuO6P4MiDR66BP39CdqU//6b8DH0EMynTnaH8lhCiu9//7wLOAz4//LPO4kONknnkJ5IELenP7wW7WglYoKi7Ec65Bb3BgmIzoIixZ/eFfT1ETJAh1MHdqhNhssG0qyg+8BqeDLkg3r40nzcb3uQr53xl4Ezdwdfg3lrY9RR4G2HHk/D6nfDUP8P9y+AXVfD/iuC3C+GR6+D+S2RH7sYnpDnMcChbjA7Q2+Xrj8XpVftdWAwJSZb0xkHHLPA1E7BAqOvky/zijU2EzQqVZQPnCywGC6XOUs7NP5cVFSu4ZcYtfG3e11hYuBA2/wHqN8CKnw2UuvZH7lQMOtmdTotQprqZViU2/N982fdBb4LXf0htUS07coL81PMENTk1UtIsBLzyTdj2ZzmfcGG/WYbSBfL/dz4JO5/isrLL8LoNRF2WARXKeGsrsePHWVfgpcJVwZKiJbIz+sh1EI+Qo5hSpkPpudhOCAJBacqjM8lu1aQLQG8i1yALN4lR5g2D3W1yRsjTPNiQpz+mXA4oZJvlTfdkdCjNuujwhjz9UVYLReeg23gPxty81Ouf3MWXUFXwePE4oOLYRvl+T/w+gpQplS6CDb9lTu5sWt0q0YaBuY+hzZvpqs4hphdcP/V6KUl99gsyMzfqY2okQrtTJdQ0OC9yOCS7uvHZoaxpu1yM9p+7ya6SmbzvPsg8VzXNmaD2eHpJRLijlbAJSqMeGX9Scd7IL5Y3A8wuLCmVQbqmbO8HiY4OlESSDrfCjF2r4OGVsOEeAD4989N06AIEJhcSPMnGPImODmmkZDJJU6DTlCwlOjqINzWxPquTZaXLcJqc8Oq3ZWfy6vvg8p/KcYFXv8t5RUtpyJbvY6g5ykB7k4wM6TwqfQDs2SO/eNUyciJ+wnY9ulgCkYb65MMI7R5u1oWly+2FQ8zFjRdGK0z7GDn7XyOaIecIJipf93TFREvpYw0NdLt1zMqvgY33yuv2Lc+CLRue+Tz6ZIzLKy5ng6uDZGcniX7ZwIkUoYzmOCnc+Yx0Oh8qZmk42HPg+r/Ia//cm+EL/xjeK+AjgPc9BSqEaALOPwnnchanI/JryMFAyAyKP70bR6S7U2ZQJmJygVt0DgaTvLGNtdod9XuIGCEzmRxd8gpQ80l0ES/NC/O558vl/KjrLywoWMCnZ6bc2GIhKUF47JOywv+FNXD7O/CdevjWcbhtHdzwuJwJnP+vskMWbJdzfJ95CaaMIAcCuV/eDCypBs9Ycro0yatdBAbOT2ooq6Uw7CdogVD3yZ9ZCdQfoc0tmJU7hMxxKHTVweofSSfAOTcOv1/OVMx6OZOYDqGMp3Ir7frk8JVgZ4GcG9v3PLVJOT8ZjAf5XM3npJHPa9+Hd++H2i9L6cmJ1cDzvy5vLC99jYyIj6Ul53GoQAzoUIY2bQJgdU4bN0+/GV0yDk/eKsPgb3gEW/5MoiY5X3aqoQtHiZsUbDnT5PyT2QHlSykOthA2QbB9ZFlluKeDoAXy47Gh5yc1OPKgZD5F4Rbiegi2j7+LowYlobQRHnmWT4OiyL9n12EcTtnNHI0op4uk14suoRJ2GOU884ly1/5Y+lXw1DM3EqU1A4L1fTmmiZ4eogcOsC7fw4WlF1LiLJHOkPtflNeWrCqmNe6ky6UQaR46cuRECCHQefx47QqlQc/Q16Lz/w/Ew8w+vI6OLEkENdmrv7Uerw0qWvfD5EuHJsr9odNDyQJsejmnmG4O8fuBFhkSz3WTs+cF6fL79+/ArqeZkzuHOblzWF8UILJr97D5iuOB7++vgaryzhwTIhxOK/rpg0R4504AduVHpdx119NSjnfef8i/rcUlIy0aNjKr4wg9RVKyEz00mFBGOzukw2v7oZHlrhoqzkdR9BjtsnP9foy5PgzQ1ioO4ZUS1f4z/ScDNdehRL04s6UXw5lkzBM7dowD8xcQ2rp1wl4jcOwIrW7BHFUPnuOw+A75N1x5D3QegNd/yBWTruBggSS2/dcAmkohu7gcpe5N6eSvN6R3AsXnwreOwcrfSZ+NjzBGJZSKovxgtB/gP/r9/wUfwHmfxQcFgwlD4RyERcEQiqYXwu3pwW9VKEyq0jWyZAEWnVx8j3UREAv6iZgg02CTFdfRUHkh2LKpSEb5h7MJvaLnrqV3Savolh1w30Xw7gNyYfr5Nwd2RqwZskM47UpYfJuc1fvUI/DFt+XwdNE5w77sAJTVYkculsdCnDUpsUsXGzg/2e94hYkEAQtpOeSOFaH6o3S4FWbljGFRr80k6k3w8SGkrv2ROw2zXl6k0yGUwZTJjUs/ShGh9kvgKiZ7zc+pyZ7F5MzJXFRyoZyR2PBbWPhFOesy1DnqDXDNfbKT+ewXubJiBXvz4kSPHOmVYgY3biJiN9JT7OQTlR+XEt9ja+WNaNIFKAU1CJNAHzr5xiDpQAiBIRQDozrw8zx5OeWeJrw28LeNTFpiHhkPUZBMDO3w2h9TVlDRdRyvHXytY++unYiEP2UEpE+OjVCCNDtwFZOZTOUsdpzcxVcy1fE0OUwoevPI8r8pV0D2ZObse422DBDNbb3V9tC77wKwpTjCTdNuklbz2mdy8W0w90am1G+hywW6ju4xXVdVnw9dUkU4jFgUPVReNHin3Ckw82psW/6IvbwC6HN6jXS04bVDeaB7+LiQE1FWi1OV17APUvKqLeQys90QC8BNf4XypfDcbXDkLT4949O8U+gHVe39XZ8M+F55BX9pFu+UyeLp6TpHGd6+g6ROwVeRQ60pD174KpQuhou/37fTuZ+GvJkYVv+IyVNriRqVITuUak8PfhuUJuKjF0xB3ieL52E1xgE+8tEhkW5ZtHLpoyMX28aLyovAmkWOUd5H4meQMY/nuVWIUGhCHZtjjQ20ZcDsug3SiGzaVXJD9SWw6HbY/AdqPG0kKotJ6pQBKqVwYwMqUGqKg6Ibf0zM+3ED/hBhLB1KJc2fs/iooWQ+emMSnSrSIgZ4/dJ5Mme6rJiWLMCRMuhJjLHym0gRyoyMSWPTnOuNMPNqpnTKRdT3Fn+PQlserPu1lK1GfXDrKkkWjZaxv5d0UL4Ed6qqH+sevYPi75Y3ELchPjRpzaqk0JRBwKKQOMmmPEIIlJYOOjJ0THv4RvhNjXQIfHA5PHyN7MitugNe/qYkas9/GerXwxU/A9couZW5U7ClCGUiDUOPUIpQOk1GGRUzHEw2abTTvI27Cy/j/svuR/f2L2Ddf8O8f4Erfj7yZyazAj72S6hfz0UNu2goMaMIQWTvHoQQ+DesZ0dJkpVTrsG29ldSHr3sTph9vXx+/ix0RhVTJHFKjRREJIJOFeiM6kBiNnk5ZYkEXjujOqKqPh9Bi0K+o0TO7Y6EqVdSHk/gtUmSMl4EPFLa5dInxy4D0hth0W3kRySR7Wk+MsoT0kOiM/XZ04fkQm+kkGmdDpb8G3ktu4jmONDFkyQ65HsKbdpMzKgjOXUSiwMBOa87ZQWs+Kl87uwbsAtQMyzo4slRZ1yhT15sMiWl/NcyTPTRBd+AWIAKl+xAho5KM5Zkdzc+m0JpUkgnz7GgbFGvqZq/64OL0Qg2HAOgWHRKZ+aK8+CGR+Ws7RM3s8yUR2ByETGTjuD6kyN7jbe0EN66lVcq/XS7U93d5tOTUPrf28qxfFhevQLDM5+V34vrHhzYPdHp4fKfgOc4S2MxGrIFnv07Bx1L5w0Qselw2fL74nFGQ9UynEJe0xMf8egQT4csxmUaklISfLKhN8LMlZSG61EBb9PRk/8apyGEquJ94QUAQnsHu6ueDKjhMIYeP92ZBqrrt6RyhPt9Ry79IeROR/nbl7hs0jKO54Fvx7bezd3HD9DjhBktO2WjYbQ1zxmOUQmlEOJHaf68/UGc+Fl8gCieh8koF8xqGlVqgz+MahHoylKmFiULcKVmugJdY6vCqcEQYRNkZY8QGXIiaj7Jtd4e/lB5Ix/Lmi2HoVf/X2lCcfv692/3PRr+P3vnHWdFdff/95mZ29t2ttNBigqIBewVW4yJMXnUFE01T9QU0+vzi6YX0xNLEjWJGjVRsVcEFQEBpcNSt7Bs3713b7935vz+OPdugS13C6gJn9frvm6bOXNm5sw53/r5Vi+iICOEdbYOH84W7mjGAort9p4agv0gBP7Kk4m5gHEmgDE7OzESaUTAwJEIQ/ViKJisyIHiXdC6A/Ysh40PwKu/Uuxoc94/dKhrFoFqPBlSnnAw97yQeKiTpA4FgYrhjQjHXgnl8yla/nMKV92hyonMuwYuuS03A8RxH4K5V+Be8XPK5iphKrJxA6mGBqymZjZPElyVssErv4AFH1OhsllMmIthG7kHdrzRw5ZqWDChD6FT4VQqvZWE3AKzYxgvQjhKwgGeqhxK6pTMosJbnml39MJkJKNQBpyOoQ0HB2PBR6jSJEkDug7UDr/9CBBtVgpEgd49dLhrFsd9CDwlBLxqHCTrlKLbsXI5WyslH6w+G/Hwdeq+XPHnXkt1XhVMPgOPI+OVyIGYJ92e9ZREMrmsg2DCbJj1HuY3vkm7D1p3KiVC6wqTdoNj4qm9pY6GQ8UJFBrq3IJtR46kpm3vVkIumNVdp4xDQihGxA//C5x+jPs+xP9Mu4TNlZKOV18el2OGnn4GgDVzbFy0SHki2vZsHZe2xxMynSa2eRM15XDZgd3QvAned7uqHXowpp4D05eweOMT7C8ShzC9ylQKRySJ7jBh+vm5E4VMPYeCjIcy1JJbyPa7FeHMuJ/g9ioj5OHA3A8wLREh6IGu/xKFMrZ+PenGRiIO6Nz05mE5RpbB3plvx7B7YcFH+m9gc8EVd0Ksk4v2rGF3Gf2IeSINtbT5YXZ3ByzMkYznvxjjWklTCDFKf/BRvKNRuRBnRhHMNVRVmib2WArNbsFEVfoCfxkFXh/Qa/Ubtp1IhKQN3EVDlBQ4pL8n4fFXsXjDI4qm+cBb8N7fq+To8c5/GAiBCkoCig66OwchLNbVRswBxUUzBi1uKyYuRtot9PD45utliUQC9m444aPw/tuVJ+BjS1VI8A1r4Etb4Ot18N12+FazYi7LRfDQNPx5RQCEg7nnuiXDIRXmnDclp2NwwQ8gtB+W/1gpmJf9NvciwULAJb8EXxnntbxJSwD2v7Gc4GuvAOA5djqVz39feXQu+WX/854wG1tG2D7SJRX6wsyS2xiW8uZkIQS26UtIuyR619D9M8IxsFuKsGg4CIFt5sWYLpXTN1pEgx2kNSgsmDgyxjtXPhNL59HlgVjL+IaHtTUqgbvcSA/PggoqyuGU66mUqh9tu7eQbm9H7G1g1yQ7l736Z8UsfPWDh3o7511DkaHuXXfD8EJkNrw435ZW+ctD4YyvMi/cQVO+ILp3N9KycIYT6PZ0bopyFnYPpUVTSeqHJ397METq99EWgNmm1hsRABCoUEplOsb7X7+Xmil2RO1+Us1jJytrWvowu0vh0gWXctpb9xCzQ9u+bWNud7yR2LULPZ4iMimfGW89CItvHNrAcMEtlMbDREsc2DvD/UKXewhn7Knc8iezqDiBCU7l6elo2jea03jXINrRQsQBpWXHHj5mzupFTHMU0uGDeNM7m114vND87weJ2+CphQJHa/Cw5CtHalUES7HWDvM/MnBUR+mxcM53mL7jBUJVPoxoord+b3MbIb9GaWCiKgFyFENiVAqlEGL2AK85wGfGuX9H8U5A3kS8bsUyE85RqDBDIYTsE56VQXHFMaqdHD2UIhbDsoEoOSb3/moaHHsFtNWonKLrX1E06keQprm84gQiDoi2DX+eia4OIk4onnD84BtVn4Jut3BEU+PKPNhYo+q4lTkTwxfrFUIJ0CO4jv7CagBiodw9WalQJzEH5OdCwgQw6VSVaH/CtXD5n0aer+DKg/fdzuKWWurKNFJbtrH7pcfo9MClnetUXuKVdx+ajO/w4XIrcph48O3LI8rWwXS57IcyNE6/AN1h4uxODsqmJy0LeyytjD+55gjNuBDNaeLojo96PCZCHUQdUFQ8e/iND0L+tCWE3ZAeZ4Uy2LiPtAZVZTMUAVEuWPhxZrsEFtBY8ybNr70EQEm5wBPrhKv/OXCo1KxLqXKpZ+nAnk2H/n8QWjPKbmkgMHzZgrLjCEy7kFhAYmtsI93VhWaB02Hmpij3QWnFiUScEO88guyTB1oI+aBo9vsO9aaWzIKrHsDbVU9ZpXomG19+ZkyHi9fuQ9u+h43HuvnYK3cxvb2ONj/EGkafI3y4UPf6CwDMdDSpEMxzvzf0DsUz4cRPUORUimRwx5aev6Kt6vnxOqyBc3IHg25QPnE+loDu1v9sBSjZ3kq3CyZULhp+49FC0wjMeT9RD1it40s09k6ElUgQevoZ3pip4ZmolLz2jeNPzFO/Q7U52R5X4a6DYdENMOl0pjhVykPj2leQloWrPYxwpxALP5G7kfq/GKO9QquALwNf6fP6MjBxnPp1FO8kCEGgUAlEna31w2yskOhUk6LL41SMnBmUTjyZuA1irbnlpmjxFNKQUDSCkFdQoYlX3g3XPaOKMR9hlFafQdgFiRw8lGanqtdZMFS4Yelx2O2gWeMbXnlgp8oXmDH1+MNynfJKZ2AJiHflLoyaoU7iNsgryTGfB1Ru2nt+PXIGtiwmnYrttC9iz0/ga4tiX7OZumpYaPgz3iXfgLt58pQC19Xx9glVoUwOricwgPd90qk4nKDJwfOWrUgETYLdQf8aqENhomrXlu4l1xkp0p3KM19YOoQhZRCIGUtIuSRa5/jmFEcP1NLlgUkz35P7Tq58Zsy7hg4/dO/exrYXHiJugwtoUN78skHGsd3D9NnnktKhs3b7sIcJNe7FAiqnn5abUefMr+D0pnCH0zRtV8+5L+CDvOrczw0omHgGESekDkPJooEgpcTdHkZ4TGUkGggTF8MVd/Ge1F6Cbtj53MNjOuYb//gVAPOLWnDnTcJ+yS+J+SSi8Z1HkFK78jlCLjjHYarxNRxbL8CZX2emX33ctf6lnp8PNOwAoKC4TPEcjAAV05bQ7YJY8ztP6R5PmB1txJ2ZUPHDiblXIF0mjs7w4T3OOwCbl96DPZbCOTXFkrQylO1Y9fS4H6dj1yZidpg7/XSVyjMYNA3e9ydOc6dIGLB75TOEW/ZjmOB1WzDv6nHv238iRqtQbgO+IqW8ru8L2DCOfTuKdxAKKpWHMNiUGwlG2wEVwuUv6l+jsHDimUSckMwxH8dImAgbIxaCcPhgzvtGr2CMEfbJZxJ3gpVD4XcZ6iblAK1i4eAb6TacmSL18Y7x8xR012yg2wWTT7th3Nrsi6KSucTtkOzIXTCTkQgpO+glIwhzHg+c9Q2mVyqlzBW3KClJI655aPA6m4CvSI3LYMu+I9HDARHKKLO+wqpD/7S58BepsOP2xt2H/g/Es8YffyB3765hx1+sDEUt9TUj7LFCulvVmPWUDcBsPByKj0F4NBzdyVEdezCYLU3E3OCY9d4R7Wcs+hxRv8TafwBt/Waayi0mX3ArzLxwyP0mnPBxunwQr9057DGi+3cTdkHl7Mtz61TFCUwoV2N38/N/B6CoOod6nwdBVC8i5ZTII8TyGmrZjz0Fnjzn0CQosy+jYsmPaasw8WzYRSQxOkE8mowQf+Z56sskSyYtgOuehgUfQ/MJPJ0jYzY/3DAtE2PrLtpLLYre+/vc10VPIcefcyMJGzSvf7nn57Z9KkKlZMoQa88gcE6/gKgL0sMQfr2diCfCpFJjY+HWuiOkHRLK5o1TrwZB+XwcPhueiEU6Hj+8x3obYVomO+/7I0EPXFHhZ/ZZn6fTC53rXx33YyX27qQzICk69QvDbxyopPqSX9BSLElt2sieLcsBKK6admRSpf4DMFpp+3zgEDeJlHIEyRlHMRI8v7WZl7Y3kyXSFSJDqytAHPSbJSFtSSxLYkqJaR30khIpwdAEui7Uu6beDV3r991l03E7DArETI5lGXU7NxOpacVj13HbDTwOHZuuEUuZxJIm0aRJNJmm/Y3lzAY6ndXcsWI3saSFoQu8Rh6VDkh0drFsewsuu47HbuB2qHdDF3TH04RiKUKxJAVJCXaD21/ZRyieIhRLE4orMgC7rmE3el+Ovt91DUPXkABSYkmwMu8yc/7Z7wejr/G/rx+gpw2rtz2ZacOUEktK7LqGy67jMjSKHWCEojy/tRm3Xcdl13HbM9craRJJpIkmTUQ4juWHv2w2iSR3EslcQwG47AbuzH5eVzEQ5vmVr5Ef9+K26zgNfVhnhcz0L2VaJNMWSdMilbZImRKrqY1uPzzQMZPUa7mRAViSnnFkWpK0KTEtC1NK0pbENCUS8DoMys0SKuzQ3d7Kqj3t+J02/C4Dv8uG166mn+64uqfBWIpQLIUVjWHaJXdtlgSTOwgn0mgiOz4FuqZh6zNWjcwYRojMvVH9yt5f0+p/z/TM+M6OcU2oNjQhyDv5/zH5oS+hAdZpX+S+vR7MPbXqWerTdvYZKhDlFAI7t75F6Pg2fA4bPqeB12ngcxo4jKEVtL5jsXf8iZ5xJ4T6nkUybRFOpOmOp+iOp+mOp2netpGZQKNWxu+X7SKcSGPTBA6bjtOm4/dNBdayYsXTFGjVOG06TpuyJUaTJp1vrWIGEHcVc+eKPeoZTqWJJkziKRND13AYGk6bjsPQcNg0HIZOnm860MqrLz9KHlXYdQ2brmHoApuuYet5V591TRBPmXTH04QTadKhMGkb3LPbTXD7TsKJFOFEmkTa6teWvV+bve3mef14o0GWrtuG11OA09BxZp4Jp03119AE6cwYTVkWaVOSPuRdkkibJFIWtq4oSY/g3p0Gia171O9pi0RabWszBDbt0HM0dI3CfA+lO6K4ktA4t4L7xUWYq2p7x0zP+MlEj+sadr2CEi/QGuTJjQf6zV92Q5AyJfGU6kOytYWIG/7ZOolY8x7iKZN42iRtyX59ys7jNl2QP/n9FHMHoXVrAKj3ncimV/f2tJk970TaIpEysaRU85fN6DdnFTkEIpzomct07dBJZ6BpKDt2B5pTs7+lTanmpMz81Lnqz8wD0iXHcO+qWpJpi7Ql0YVACHqeXU0IdG0JpdMfI2/nbv7xhw9Tctbv+x8r8ywdvE5m7wlmitqXruP8Fov2c8t4aOYvSW/oxJKd+AtL8cSbeOiFx/GXnYTDUOOv/xojesdSZpylzcxnS82xpiXRhMBuCOy63rO/TRc4DA27rmMz1DmlTEkiZZI0LRIpq8+7uk+tm37Lie2S+jll3Bc8FnNVLaZpYUrUHGypd0uq62TLzpe6wGZcSmnBHVj7Glm6vhbDZie0bR0FwDbnqax6ZU/PuOj7njYl9szzn507nDYdl02n1AlWMMwzm5vQNaHmM9SaA2puy36XSAQi01bvfOK0qWfWYdN63oVQ83b2+mWfVfW59xqnTHWNB/qeMi0eXXkJBbqP8059qF+/s+fhsuk4bDp2XSOeMokk02ptTppEM+uzPZLGmmDw59UHSKTNnjnD7DN/ZI+f7Z8mQBMCIUTPZy0zl4vMd0MX/WQWh6Hjy68A6nnkmUcITD8bu6FhZJ7tXrlMU+967xomED3rcb/1z+KQ3/u+0lZ/udDTtR0tHSdUeLx6zoRAy7zrWu9nTQNkH5mo576rY/bKVmq+69nGMmlccxOn74jTOc/FswvvIaF7KC6+H1dDkKWvr0f3lPWcV1/5VBOiZxypxZM+Y039LiWkLYtkWpJKp3C3RUgEdP7eWE6qYW/PXCOlROu7/msCXdfQxUkUlPso3RDm9Wf/wJlAe9kF3LNyn5qfTItUWpI0TVKmJJm2sKTsbaPfNcpeN9Ay86WU9Jcfs9csc708dp0bzhkmneEdjFEplFLK8askfBQ5YU9rmBe2qfzFgydr9VvvRN672IKhaWjZ957FWAmTVmai7p2k+0yUme/xtImU4KOY+wV07K/lS39ZM2x/r29by2zgwf3lrHuqfzjX7x0CEYlz3d1D1w9zpJM8KiEqbPzo6e3omsDvNPA5bQihhOvsK5ERRo40xEGLRcq0eia4n9kN/ME0H7137ZBt/CNhkrDpfP9JRQBh1zXcDh3LksQzQgXA5ZFijmcvr6x4ln+9lT/mvs/Q9vKNoEVbvptvPTZ28om+hgiASNLEIM0dNogFu/mfO/rXmsoKfgc7AO6Op0l7BLc+sxNNgMduIIGU2TtWDyfu9nuwmRaf3FwNW4bObZtl5jEP2LN7B1+8c/Uh/2eNHlafRSNrhLAyyuRYcUPjNmYCD+zxs2HvDnRNKGE5gxNik7iVtezd8ApfrTvhkP3f1/0MM4A1wQL+/VRmDBpaj8Gir8KVHYsAx3dP5sespG7rq3ytfvGI+31XLEnaA//3tIp6cNl0vE4Du65lBEOrRwDICj598VmzkGNkkIceuoNXyLEMxhDw0c3tUUlrgYvvPtabZyYEOA09I/Crfg00BK/XqpmcVHPdz+T72f7v4fMiAX7iclPeHOVr9z1FI6WDbCX5Y3eCmEvj20/01hLMKlfpQfrkSE/iUaB6v/rz+5tKCNb0MpcqQVYJs86MIB9LWsSSaaIps2d8/sRmIz+e4sP3vsHhrg72+W6VD/nXtnls7HMfBkNJ6oPcw49o27md/I5P84R5KiutOaSGEW+8RLnVdRvh2k4s4Ebbp+h8tHetujwxjRk0sbz/aXUAACAASURBVOn5P/G3d0AdOYM0nzX/BWjcbl7EukdyG199cYuvkClN7Ty09Ic8Gr+M77XuxxLwtTVOLKGe/ex4zyp4uiZImhkl86A54JcOG4FQiuv/vnrY632kcY7xGhevThD3Jrhx7+j6Z5Di/rik1rBzyxP9GX+z651N1/oY5JUSIWHA+d6yZI+BN23JQ2SWSyJTmEU9m5bfx72rRhaCPFaU08YHJ3yfqG6x9sBNrJcjTDMaBh5i/MDxG+o72zAsuMX/SXYu3QfADZ5pXLhvB0tf+Ap3RL40LsdbbHuVr3bBGxMK+UEO80gWF+lncFP6KeRelSLyrW0VhHf33z9rrLHrGlpmvbUyskmvQp/b8XoNDoJin+O/T6E8iiOPz5w5lc+cOfWIH1dKpdREkmn2PnsLxSLBvz67iEhCedEiCZOUaWWs2spr6bLr1P38BwD86gufIr+0HJdNJ21ZRBMmr1/twNke59HPnkQ0JXo8ctGkasvnNPA7bXi7m+EJKCoqZMv/W4Lbrvfz1gzU11RGAE2mLdKmBX0e1oMthFrGat23yb4Cfo8ljF5FPbtv1lp+cH+klCTSFrGkyWuf+wmu+lae+tgkuh2lRDNe3JRp4bLpeBwGXpEg/TQ48/y89d3zcdsN7Eb/SPSUaRFLmexdLeH5NZxd1MnVn1hENGkST+WmRBtar0fFnrG0h5Y/gO9R0E6fz5pvnYuhacOKihJ6LJQ9ltKMVe5gmJYkHE+z6uJv4JNp7vvUycrDHEv1eCSFEARcNvxO5bUMuGzIFyWay86m/7sAj904pG0pe62rWSUzZap7lTWaiIxFtZ9XI/PZylgxLYseg0pfK238VAMsi9fOPKvnXA+20GY9NJ2dJ9H1+L1Mcya4/1On9HgP1bt6JdOWslIOYrHWsmOJgS2u2esOYNNExgOqPKE+p0Hbz1XY52+/+CkmFJXhMJQxIuvd6G4+ju5nH2aq0cHSG04lnlLCIYDbrtN8z50AfPjyy/l/p12Ay6Zj6ANnQ/RtN7J/DsEX/0Gl6OCJG09TCqAllfc78562LJJZD4KpvF9ep4HPYRBbLom47Gz47gV4HIMfs++xUxmvTyptUfPQLljzJ64ur+fm951KLKk8domU2XOOaUv289Jkx6xNz3jxMkKhw6bD9nswHoOiydNY9+3zcGQ8KEZmPA3Wl3TGct3+eBdsuJW0086dt34Uw27rZ6nWtN4xKZGk0pKEabL5+w+Sv2sNvzp5K64TP6C8UZkIgqyn2de9i/3LIVkVYO23z+vx7Nj6XLNsn5SXrPdzwyv/R14wiSXguf+7HKfdlvGMaQM+t32fs+xctvKmn+Pa18STHy6l2z25n0e93wAd4KeB5tS+49qmCWxZr6wVY82tHYDGH79+Hc6CAmyZe9A32sCUfd4ltG68ncr6TozpW7kn+CqmI0Bk0gWEp15CtPJ0LN3Rc1yJxB5tpuLJj/Jd0cIFzzqQ847l8e9dnjHEKl9m+K0AiZWvMpNanrxxMUlTGTHVGmOSTCuDrKH1jZTo9Sb1jfaxpOzdN2317J9dq7LPTtZj5ejjtcp+z9v/MvffqSOF5Nff/ziG19c7DwvlzcnOV5oQh3jzTEvSeMdGnHfdyyL3Mj730a+y9mtJYi6N1d9e0qNA2vRDx3tfmJbymsdTJmtvuA13836euMIgWXZaz1oq+qytfT9Lqa5hPGOgynrZEyn1W9+5aWCFrX8EldE3SqDPd0NA3WPfZUIT7C+Cp68wCJYs7ul39jixzPeUKXHatJ5oKXcmAsvVthrjUSiqKGfDdy/AYes9/lDXKFf0lVkSKZPOTYWkli9njrGfJ248jUTa6vHQ9ngUTdnHG2r1KC/ZNaavZzHrWOj5PfNfNiInOx/qmBQtvYKL7U7iCB4r/B3yvUuJe6sO8XoqL3jGC6updQxEP8Wo733XNYEj0kDZU9fxA9HCSa85SVdX8pcffgxdU0as6Itpkt/8Ou7kXl75kJ3uCScfct6WJeEgmU1FH/T/no1s2ffQT3Ck4bgzlrDmunOV/JOJDBCInnPKtp29psnaqUQ++BQLd0qSdsEL37sMe+a5yEbJDBShMdC97ZmzZFY+6b1OA8mP73aMi0IphKiUUv5nFyP6L4UQQimLdp3tTg0ZTXBCdf6wpBB7Q11YAiqrKhEZj6iu6TgMHSMvgGN/nOONBsTE+YO20fz6q3QAnoISPI7hh6rIhhUZGjhGdJrjBiFET2iQZ0Il7ngrxeFVzJ41cA2jyK4X2ZcAZ0ExeRkm3YORncSmz5hHLWAGmzhh4hhj+uNBHtrzGnMtB5PmnkSJzzm29gaArgkCbhuWQ8NImCyeWjT8TukE65Kge9z4nAOTTYjMgmjo4LSN3HOgCzUWM98O3eA9w5Rk6IOykmJadZDRMIumFg6/w2HA47FuEgbMKu2tQ6dpAqeWCXmdWMFWAYnuMMcVG4eUr3g8qPJbp82YP+g1H7jdcoJAIpxgric4sjzneJBVCXWfA+4cSEUyx3ZoOg4DcMC0mQtoASLNO5lXlWNdxSHw+rPPkyeheOpxFHqHnkD69SUD35y57AMCJ51CVXEO3gU7gI2KY07AenwNbbue5+LLfz7g3Nq6/EVCUYiUV1M0SN8G6hNAY3UlbNpD3GtjQsA9fL8y6D+XVeFONJHXvYo5c0eeb5cz1i/llYggZdcoryrNXeA64xyOffzfXJvn4a2Z53BzXMNf8yz+HQ+Bww8zLoQ5l6u6jJ374NEPsMHsZov0c22HSennryA/v/+1yT9mBruAUCjFnOQmmHzG6M4p3KqeOZtrdPtncGDNY1QfgERVMZUVxcNuP9DU6D5hEQ133cuukORDL36atXFByuek2Jf7gqlrAo/DUAbRyin4Vu/HaH+ZmScOkvEkJdSvhjV3wv518PFn+hH1HRZsfYznOjuYmHISiICj7SVOGKx/Q2D7tteRgL9ias7z1EjQV2bxOgwCM2ewE4gEQ8x1dx6+upcH48VbeCy8netW5eGPSh68ROerz30cPvHcwKU2RoK61fDva9goTF61ebiqwaT4i1dSVODp2SR50gnsBlpDLspf+yb69a+BMbA8lBOat7CyqZ4pOJl53CLy/LnLN3LuDLZ4nHgjccKV+ZQGRvfcCiEyssZ/ltI4FMaLB/fecWrnKN7BSHtsiISEzmFy7UIHSMfSxJ1ajzLZF/bCMjxx6Kp9Zchmgvs3A+AsGoBs5F0AT/k0NODAjpcH3aa1ZgUa4CoZniDZma8UsngoBGZqbJ3b8E/2R9VEVzD58JLfSJcdPWlBenhyBLNtJ84kGN4jG+4zFiQcAjMaPzR29wjBjMRIOAZftISmEfMYmDEBe1f0/9OyiGVKnngKRibkCbuduNsgHddgx8jKNphNm9V99o9eEfRmFOhQKAydtaNuB4BUnAN1KuSvqGLaqJqwT5yIsNnwnnbaiPabMFkR5TR2divBewDs2/k8ngT4ykfOxOyfqgjVzLyBmYpzgadUHbd512ujbiMXhNf+GUdYI1mSNyLrve/UU3HGLT7vupTH2tbxvvQelv3Pn+Gah2H2ZbDreXjgavjZNLjrfKSV5qfTF3DeTifoOr4Lzj+kTaOoCNPQSEZ15Lp7RndCkXb4/Ynw1FdGt38WqRg1tcuY3CyxzRl5mZ0sHNNVOF0w7CDcuA57HCgYffqEv3QSuoTGXQMQqiSjsO4euP10+MsSqHlWyQ7bHh/18XKCZcHLP6YxrhSWQATqalcMs9PAaNun2JH95aObE0YKPS8PUxck4gZs/tcROSZ7XoZXfsHS0sks3C04fh884wwQ7dgND10HZnr0bW98EO65FNPu4QdTj2dJjVLOApf2V+5tFRVYHiclLZK3umth5W9Gf0yAVX+gLaaMJK6Jk0a0q9A03HPmAuCtGtm+/+04WljlKHKHz4uRENAwTL2g+lXIhEbSO7CFyVlSiSMNTfteH7KZ7mbFSuktOfJlP8YD/hIl8LY0bB50m7a6NwHwlAyvNGtOJymbIJkADmwcfcekhDfuojOhLPL2ysphdhgbhNuNkRTQvmvYbbvr16kSFoEcvJnvEKScOjIpIZhbSZ1xRTyITJikHENP5WaeFy0ukDXP9v+jfSfJhMTUQPPk7r3qaTfgRY9rpLY/MaL9OupW40iDfYRKbF8YGfbaWFxXCsNYsHc5bXFlEMgfhdIGShic8sTj5F991Yj2c5ZXANCRsMNb/zh0g3iQxkbFAptXOmnE/crLKJT5ZSPfNwt/kSob1Va/dZgtx4ADG9jWsY2ioMRWPkDdziHgPvlkEIKLtjv5xyX/IM+Zx03Lv8RXG5+nY8kt8OWd8JFH4NgPwJQzeerCb7Gxaxdn19jxLF6MkX+oUiU0jXRxHt5uQXPNkxAbRa3Zl3+o9tv0MMTGULi95ll2WiZ5EcifnGN93gFgKy/DcjqY0GaxNJCPPwpG4ejn2vwJKiqhubUBoplaw+274dlvwS+PgcdvUgrepbfBzduhcBrseGrUx8sJ2x6jrW07okM9zzYT6jsbIZhbqbK+6GjeB0Be8ZExagtNI5nvQYtqpI6EQhluhX9/msbiadS3BPHELDRLUrU3yuMnfwR2vwjPfH3k7aYT8Nx34N+fgqqT+dc5X2RrcBcX7nDhXrgQW0VFv82FELhmzWZKs+DFqrmw4mfQkVtFgYHOKbnxIdIR5aI/+Fi5wHu8YvTNq3735jO+HRi1QimEWCaEeEkIsQyYl/n80rA7HsW7FlpeAc4ExBsGtqJnIfetxEgIZGBgi7ivMFNuYP/QidLhDrUAePMPc3jMYUJBxuvY1dneu9gehM7mTHmVwsFLU/RFwmNHJjWoG1oZHxJ7VxDqqEELWkgxugl3JND9ARxJsFqGJ/7paFCKsqNwZALl2wnT40AkBTQNbjg4bGjeikgJzEHCpbMQBfl4o9C6+4X+ntT6NVhJjaTLGFU+hyjIwxeV7K9/DVqGr6WYRXu9KlfgzHHcDwTN68U0NMyEATtfGHU7AGx/ku6kuoZG8egFbPvEiQhjZJkktlI1v8XiduSWR5Vnpy92L6M1qZbqwlEou/aJah5yl4z+mcovVkanzlAnRA5T4fV197DV5aY4CIHqkXmEjPx88q++mq4H/knpo6t54JIH+Ny8z/F83fNc/ujlPF33AnLK2fCeXxP7wF38avvfOC8yCXtzJ/6LLx60XVt5OcVByVYD2PjQyM6neSus/QtMOh3SMdg0wv37YtNDNJoqVN1TMfpy30LTcE6bSnWb4IHKGQQi4C4e/foayBhCO1IGvPIL+PsV8NsFsPpPMPVcVYLls6/Bwo/z77rn+HChl2DtqxA/TLyOlgUv/4Q3SiZT0dE7z7Uk7bBrhHNEqJFQRD2L+TkYfMcLoqiQvDDs66gZ0Zw6YlgWPPIZiHWxdN5lHNOQuV5CcFZzAfdF9yAX3QBv3Amr78i93abNcOc5ysu48ON0XfkXfrPlLi5NzsLe0Ir/vZcNuJtnzlwmtsIym4bUbPDkl0cX9bP2z2w3JIVdknRRAM0x8vwn59xjAbCVjX59+m/EqBVKKeXZUspzpJRnAxsyn88Zx74dxTsM9rwCPHFo2T80O2tH/UrcMdACA8feB4oyFvng0MJJNKhqOPoDE0bZ47cXvmI1GQVTxsAKYLSDUFgtrPmFuXkJLZ8bLaEha1eOvmNv3MkWXyElQYkszEezjyFXIQfYAkU4kxBqHl7hCjYpL6Y77110z70+jKRAvi0K5Wb0pACPZ8jNHEUlBCJQm2iFvop9/WpICtLe0eXQ9rTr8sBrv8p5v64m5XFzj8ETLYQgle/FHoXwvhWQGmXtNsuEHU8RT6kcqazn80hBCwQwnTY8IZPmdAS2P9l/g53PEUyr+2MfRd+yCqVROPq8a2/GCBhKG4OG5Y4JyQhsfJAd/on44uCtHrniPOGb38B/8UW0/OxnRB5dyvXHX8+Dlz5IhbeCr674Kjctu4mWaAv3bLmHpkgT1zVNR9hs+M47d9A2/dVTKQrB1sIqWH9P7gKulPDsN8Hh461zv0pz6ZyR7d8XsS7Y+RwdaaVQ2srGZmB1TZvBpA6d2u79+OLgnzB6ZckoUGMqZDrg9d8pZeKsb8AXNsOVf4WJi0lLk5+s+QnfW/k9NqQ62GTTlOfrcGDrI9C6jTVVx1HdrkHGuBM0XSNXKOvXEEllvFx5R64OobO0nPywZJfDDpsfPnwHev23sPtF5JIfsrR5Fad2FKEHArhPPpn59QZ7gntYNfdimHkxPPM12DlMFIhlwqu3wR1nQbgFrvonXHobv9n4J8LJMB9rmIyw2fAvGZijwDFrFraUhWxoombx9WqMbHlkZOeUisMbd7Gh8jgmdEmcVaMzvrgXzEe43TjnjLxu738zjoa8HkXOcOYX4YlDc8euwfPh4iGaOnfijYMtf2CSkkDG2h1M69AwSEkNM00s0q22L3gXKRd9oOep/LBY2gYDKYCNbxLOLFjegpKc2hQ+L664JNSwenTCSXA/bH+KzRNPoKRL4qwaAZHKKGH3F2A3oT0HD2WoXXmlPYG3h+BmNNB8PpxJiDZvOOLHTjVvxpYE4Rs659QzoQJ/FOoMA3Y+1/N7on41toRA+oZWSAeDb0IlgQjsm7RI5cvkkstoWQQ7FRGQL39sz7ZWkK8UWpJQO8r8voa1RKNt6GETy9DRfKPPNRwNhBCIkmIKQ7Ajv6J/2Ktlwc7niKZV7pFeOPLnwl5djXC7sY3hWdf9anxF0gbUrRpm61Fg878h2U1Lprq1rWLk3lSh65T/+Md4TjuNA9/5LqHnnmN6/nT+dvHfuPmEm3m98XUuf/Ry/rL5L1xQdT6u5evxnHEG+hD321lZRUEYtnsnQPNmaHwzt87UPAt7lhE748t8avnN/Ka0Apo25b5/X2x/goSVJNUVA8AoHZvXxDF9Gt5QirJM0IynePTt6ZlQ4ZhWAFfeA1/cDGd9Hfyqze5kNze8dAN/3/Z3Lp92OQB73QHYfhjCXi0TXv4JFM9iTaKVqk4d11yVCxdJ2VWu4Ei4B+rXkEiq9VnPGyMxzQgQKJ9EQTfsLJ6iQqUPR25+w1p48fsw6zLerJ5PfXc9xzRIXPPm4Vm0CMe+Jiam87hv+wPw/jthwhyVT9k8SMh7xx7468Xwwv/BzIvgf1fBzAvZ0raFh2se5urpH0J7cSXes8/umUsOhnOWyg2e0gQv5RVA2TwVbhsP5n5emx+GSCsbCyopC+p4qieP7LpkYBQXM3PNarynjywf/r8d46VQfnSc2jmKdzA8BRMwLGg2LbU4DoSGNTTqGr4YuAsHVpKMgFK0IikDGgbxdnbVkszkgtu9R24yH0/oGQ9t3HQMolCuJ5ZWj2CuQqyRl48nDgdSQZWrMlKsuxukxSaPn7KQgat69OFTucKZIV7pahkmJ8KyiISUlOMNDM9i+E6B4Q/gTkBb29hreY4UnS2bcScYUigGCEyowp2Eek9pr0IZ66Slaw/euBx0kR8O7pJyfHGoy68GocHK3+bQ6b10J1W5m8AYw9kdxRPIi0hqne7hLeiDYceT1Nod5EXAKvC/LVTu7ooqCkOS7ZXHKsE3m+914E2sSCvpiBKEjVEolJrLxdSnniT/g1eOun/ZuSxhOQ+Ph3Ld3XQXzSDZrCJWRppDmYWw26n8za9xHXccjTd/mcjKlRiawbVzr+Vfl/2LGQUzEAhu1M8j3dKC/+KLhmzPlslvbWnvBMMFb/5t+E6kk8o7WTidNyrmEjfjbJYxtf/6UfAXbnqI3YWTKAhlcgJLx2aEcUxT4cSz61R7oxlTWeh5SqFMhyLI2e8FvZcJtS5UxzVPXcPqxtV8d9F3ueXUW8hz5LGncCLsfHbsxHIHY8sj0LaDpsXX095Si7s7ifukk9R/3SmSiRDUD19DuwcNazDT6nxGOz+OBvYJpXgSsM9ZqEiM9g1NXjhixLrg4evAVw6X/Zalex6nKOnE3tCKa8ECPItOAeCj8fksb1hOfbJTeRvtHrjvQ8r7mIWUsPav8MfTVOTL++6AD94LnkIsafHD1T+kwFnAtdEFmO3tBC57z6DdckyZjLDbOTFczLL6l+E9v4JIK7x4S27nFQ/C63+AkjlsCTWS121iqxq9932kqQtHMU4KpZTybWCjOIojjWyeX4dpG9yzWPs6BzQ7riT4iga2fGatfTHphoZBJvi2GlJZZcs9crKQdwI0nw8pBFZcwoENkAj336DxLZKWiu8fTiHIwplfhDcOB4xBwmiHQjoJ6+5GTjufre27yAulsVUcXkIeAHfG2xjsbBqaMS5YRzRTV9M/Rs/VkYTdn6cUylCDCt07UpCS9o5duJKqD0PBlgmVbNMKlIcp1gUNa2kydDxxsAVGx/SYDaNsbWuC4/9HCdx9BY6B0LyZaObZdo/RE+0trSQvArVFU/p5XnOGlLDtCfaWzyUQGRtByVjgKK+gJKyzw+0FJGx8QP2x83maDANPxMJy2EY9F9pKSxFjCG3Ppi+YCZSXbbThxQOhaRPsX8v22UsoyqTWZRW50UBzu6m6/U/YJ0+m/oYbiW1UedkT/RP565K/suyDy3AuX4twOvGdddaQbWUVW6Oli5ZZFymP0cE5rgdjzR3QsRuW/JAVB5QhcW+ojsjsS9X+B68DQ6G7GfauYEf1QgpDEvzeMa+H9qlKoTyhUYVR6/mjD+fUPG4sQ8cVSdEeb+/5ffWB1Vz15FV0xju544I7uHKGMmZMCUxhj9OphP/x9HRbJrz8YyiZwxpvPhWZrrjmz0MaOv6IpMHuzJ28KxXHanwL4pKU235ElQtjgjLEtwYjEKiGJ28ev+dNSnj888pg9YG/ELM5eGbfM3wweRygrpdzzhw0n4+F9XZ0ofPA9gcgUAFX3a8UvAeuhlQMupvgH1fCE1+AqhPhf1fC8R/qKXv06K5H2di2kZsX3kzq6RfQAgE8ZwxeekfYbDimT2dWm4NtHdto9E+AEz8Fb9ylys0MhOB+VY7m3svhp1OhZQstJ3+C9IEDCAn2qsMv3xxFL8akUAohPjxeHTmKdz5c+cprFMI7uGexbhUdNrWdu3Bg70PW2pdKarB/vVoMDkbrDtKmwBIgRpFU/U6A0DTSXif2qEk31qHXbP96zEzIq+b1DtDCoXAXluCNwQGXf+QL8ralEGmhed4HobkNIcF2mBleAbx+NR6600DXECGRrTXETDUlOX1jryt4pODKK8SZgDZN65+feLjRVUe7GcedAKd/aIVQL1CKW1fMBGnCnmVQv5omw4YnDq780SlS2XZbGndiLb5JhcKv+sPQOzVtJmZmQsnGGF5qLy5RobyeQiXEj9Rrv3cFdOxmX9Fk8iLgLnl7SBhspWX4wyY7u+qhejG8db8S/mqepbZsDoEIUPD2PROa3Y5pN9BiaRJWEhrXj1/j6+4G3cHW/AqKgxJstjERI4HyqFbddSdGYSH1n/o0iV0qN1sIgUvYCT3zLN6zz0IbJvc4G3pbFIJtk06CRAi2Pjb4DpE2WP5TmHYecvr5rGhYQcARQCLZNvV0SHaPLC9syyMgLWoCxRSHNexlYycrs5WXIdzuHoXSGEPZECEU+Z4vCvXdyq/wz+3/5DPPf4ZiVzH3XXIfJ5aeCED0jTf45O920xzsBN0BO54e87n0YNPD0L4Tzvoaq5vXMD2oQsQd06ZBQZ4yOpXNzj2P8sAG2oWJJyaxfEfWoG0rUQplsrmJ6MU/hrYaxXo6Hlj3V9j6KJz7Hag6kZfqXiKSirC4oxAMA9exxyJ0HfdJJ2Gt3cB5E8/jkZ2PEE1FoWIBvP8OJcf840r4wymw71W46Gfw4Ucg0CtL1IXq+OkbP2VByQIumnA23S+8gP+iC4fla3DOnkWgtgOkZFn9Mjjn26pm6eNfUMZoKVWe7vKfwu1nwm2z4akvQ1cdnPJZ+MTzbCqaRElXxps/Bg/lUYwco1IohRDVQohJwMcP+v2X49Cno3iHQg8oRTCseWH/AB7KdAL2r6VLKCHRyB9YAFKeO7BiaWQyDK0DMJm11SDTOinn6Ngn3zHwe5VH0Wbr71HsbkJ2NyLjJmmnLWcLqKewFEcaWjzlI/dQvvFnyJ/EZm+AkmBmwq08vAyvAN48pVBGTG3ge51F2w4SWa/0MILeOwme/BI0oEPqKs/qSKF5C+1SR5PgzhtaAM96EmOdnVjOPBUeWr+G5oCqCesdZZ5ytl2tq5vdhlDF49fcNXSJhOYtJKUSZnM1pAx+/CI0CS3xTPjcSIg3LFOFJgaq2ev2UxDVsJfklss83rCVlSIkRA7UEz72/Uo43vE0NK6nboJi47S9Td7TLKTXrXLodQPuvgR+OgV+dyL85UJ44BpYeqPKoVr5W3jrPtj1ovJiDJUDliHjYc7lbAntpSrixFZWNmD94pHCVlJC9V/+jLDbqfvEJ0ntV2HEkdWrMTs6hmR37WljwgTQNIqDsFWXUDB16LDVZT+AZBgu+AG7unZxIHKAj85WGUFbDKBopiLnyRWbHoLSY9kZb6MsYu9hBB4LhKbhmDoV2a7SC/SCsRHOGPn5+GKwL7iPH6z6AbeuvpXF5Yv5+8V/p8qnBPp0ezsNX/oSRbvb8e7vomvyabDjyfHJDzTTsPwnMGEucualrGlaw7xYMcJux1Zejr2omEAYaosmKW94d9Pwbdav5oBh4ImBdgTDXQGMzByUF5bsLZwEx1+tCM/GUioMoHkLPPMNmHoOLP48AI/teowKbwWBmiacs2ahuZQi7jnlFFINDVwTOJ/uVDdP7MmUhZp9GZz7PRWGWzAFrn8FTv409Hlek2aSr6z4CprQ+NHpPyLy4ovIeJzAZQOzu/aFY9YsCHVzApN4qe4lcPrhwh9D00a4/0Pw6+PhT6eq50y3qb58bg3cuA4uuAWqTmJD6wbKgxkypSNgMD+KXox21p4CfB+YL4R4UQjxByHE54FDqwMPAiFEgRDiux3G+QAAIABJREFUESFERAhRK4S4epDthBDiJ0KI9szrp6KPhiGEuEMIsUMIYQkhrj1o348JIdYJIUJCiIbMvkcDo0eJ7MQaS+nQue9QhtYDGyAdJ5JQYYv6ICyvQtMwPU7cMYsOTRs4r6F1BzKtYTpth/73LoKeWWwPFE/tn0e5fz1dmoYzLrG8rpzbMzLXtFN4lUemuzm3HZu3QN1KWPgJNrVvoTSkHn37YS4ZAuDwqT5H0zq07hh8w7Ya0pa63+8qhTKjMHdL15EtHdK8hWDG0+fNG1oR0jPKiDucomXKaSo8dP862hxF6BIcgxBoDYeshzIvAuua18FpX1JemDfuGqLfm0il1TSsecaoUBap43e3NCELp44s7PXNvykDwAXfpzZUhzdijor0ZjyQJVop7Iaa0mNUvt0TXwSg1ltAXkzgLH57w8CF34cnDk3nfRtOvxlmvxdKZoFmKFKOmmdh5e/guW/Do5+Fv78ffjETfjYV7rkMnvkmvPkPtU5kQ/i2PKK8fidcy9aOrVREHKPOnxwI9qoqqu66CysWo+7jnyDd1kbo6afRPB68Q4Tf9ZyzzYZRUsLkmJet7dtgwUfUPNq289CNm7cob+uJn4SSY1jRsAKAS2IzmGEWs6V9Cyz4qPLwDEZu0hcde2H/WuScK9jRuYOCkIltjIQ8WWTzKBGihzxu1G0VFuOPwo/X/JgHdjzAtXOu5bfn/BavXT3b0rJo/MY3MFuVvJAfluytXqBkiKEMjLli00NqLTzr69RH9tMUaWJyp4F98mSEruMonkBhTGefOxMNkYvRqWENTYFyvHGJbQwhwaNBVqHMD8POrp2w5AfgyoelNwydMjIUEmFFquPww/tuB02jKdLEqgOruGzixcQ3bcI1f17P5tk8yok1QWYXzua+bfchs8r/aV+ETy+Hjz8HRYfWabxt3W1sbd/KLafeQrm3nODSx7FVVOCaP3/YbjpnzQJgSWo665rX0RXvUvPMzIth7ytQfAy859dwcw188gU4/UtQPLMnzBZgQ+sGjonnIxwOjOJ3DxfDfwJGpFAKIXQAKeXLUsqPosh4zgNuA/YBHxxBc78HksAE4Brgj0KIgTh6Pw1cDhwPHAdcCnymz/8bgP8FBorBcQNfAIqAk4FzgS+PoI9H0QdZBTEZy3gDDo5rz3jM4t2KjW7IhcrvVdZub+Gh+ZhSIttq0FJgOQ9vSYvDDWd+Id6YpLFgkhIk0kn1R+N6WgwbngTgzV15yt6DUIbUhPocw17X3AmGE+Z/mM1tm5kVLwDDwBgHi/dwyCqHCZxDK5StNZhmRtF4F+XNGhmG1W49oITKI4WWLYR1NR6cgaGFnmxYWyACteXHqlyYZJigmVHgR2mFzyp0FSkva5vXQtlxMO18FfY6UK5ZPAhddVgpVQNVc+duTBn4+EpRNoIROqeepYSO4XLcsv148RaoXoQ16zLamvaiSTCK3h4BJFsKojAk2R6uV56AcBP4yqhNR8iPaj15sG8XbBlCsKbiqSoU7dLbFAHHtU/A/74OX66B77TC1+vhprfgY0/AhT9RwmCiW9VkfOx/4fYz4Ifl8PuT4aVboWgG3aVzqQ3Vkt+ZGleFEsA5cwZVt/+JVEsLdZ/6NN3Pv4DvvHNzrk9nKy+nImxja8dW5S0S+qHkPFIq74/Dr1hOgRUNK5iVN5Pw577C1St1trZvheOvAs2WGzlPpmRE2/RziIY7cYSTYy4ZkoVj2lRArdFC18fUlq2ggPyETspKccupt3DzwpvRtd42O+6+h8iKVyi66UZAKUp78jL3eMcY2V7NNKz4KZQeC8co7ySAvymMfYpi+NSLCimICOpSYfCWDk/eJSXUr+FAQRXeGLgKjuycoPl8CKeT4ojGrs5d4C6Ai3+mDDGrfj/yBtMJ+Oc10L5Lhax6lcL6xJ4nkEguTs9GxuO4Fyzo2cU+dSpGcTHRVau4+pir2R3czeqmDBmXEFA+D/RDfTPL6pbx921/56pjruLc6nNJtbQQef11/Je9J6dIM+eMGSAEx3X5MaXJ8obl6ngf/Bt8vQ6ueRBOuBZ8AxvXUlaKre1bmRR2YqusfHdHt70LMVIP5TNCiB6TspTycamwU0r5mJQypwQiIYQHuAL4jpQyLKV8FVgKfGSAzT8G/EJK2SCl3A/8Ari2Tx9+L6V8ETgka1lK+Ucp5StSymRm338Ap+Z+ukfRF9ncRxmOkRL6oTmBta8TLZyKCCuBbiiFUvcH8MahqWTGoe10NxFNdmNPSnCNrj7eOwXOgmJ8ccEBbwGk43BAFXRn/3paCifhjiuW0FyRVSijoW6lIOaSRxkPqrCyuR/AdAbY0r6FiRGXCi0bozCRC7IKZVI6oG0QhVJKaNuBlRaYhoawvXs805pPTYlRy6kUysNB8z4QmrcQzkzHum9oT5/mdoPLiT8qqfWXAGqhDWeMQ/oIxmC/dn0+sNmYTglrm9YqK/bpN0O0fWChuXkrJiDiJqbTNubQxqxHsSdHykyovJ7h8MovVB8v/BHN0RZcIVUGKasgH2lkQxmroi52dO5QigfA9POpD9Yq72nB21tKx5lfiDcuORA+MPhGQqgwtYLJMPl0OOV6eO/v4NPL4Jv74YZ1cOXdyrNQMAVsbjj9y2zr2I6Rlti7ouOuUAK458+n8je/IbFrF1YwmFO4axa28nLyu9K0RFtoM3RVFuGt+/qzlO54GvYuh7O/Ce4CgokgG1o3cL7teKxwmPJOQW2olpDNBrMuVaRLQxGtSKnyAqsXU2OGKVAVtMbNAJj1UI413BVUyGtx0sn9l9zfUxoki9imTbT88pf4zj+PouuvB8OgOKKzN9EB5QvGXj5k4z+Vd/ysb4AQrDmwhjKjCBqbcUxRSrNRVIwnnKauax9MO0/ljw/l6euqg3AzTZ58/HFwjDK/fLQQQmCUlFAV97CrS+X+MvtyOOZSWPbDkeWJWyb865OKOfq9v4OpZwMgpeSxXY+xoGQB/h0qFLyvB1EIgfuUU4isXs2SSUsocBZw37b7hjxUU6SJ76z8DrMKZnHzwpsBCD35FFgWgfcMH+4KSlawT5qEf18bE9wTVNgrKOXVNrwsWNNZQ9yMU9iZxn403PWIY6Sr+VvAa0KInhlfCHGGEGKkvMYzAFNKWdPntw3AQB7KOZn/htsuF5wBDOhCEEJ8WgixVgixtrW1dZTN/2dD83qRQuCJS1onHNPfs2hZUL+Kporj8SkH5aAhrwD2/AI8cUlTXplSMmKdvX+21dCpaziTEuF593iqBoKRlwl5zeZI1q5UwkLjelrzq/AkJPYRMGxm2RZTwS5SFScMnUdpWRnPwF8hFYGTPsm+0D4iqQhFXdYRyZ+EXoUynRbQWqP6dTAibchYJyRMTNe7yyudJZaJp4BEEIJHgPQ6FYP2XSSyHt0cchFthUUURDXqEh2KYME7gVhQ5Tpm86NHCiEERkEBlSkf7fF2akO1MHERVC9SuXRZj3wWzZvp1DScCYnlHruxKOuhzIvAPndAKSjDhb127IFVf4R5V0P5fPYG9xKIyH7tHWloHg+a38+UuJ/tHdth8hlw6hdIn/QZOlsb0CzZk6/6dsEWyMcf12iK5pCDNhA0HYqmwZz3KQ/nVffDTevh+A+xtX0rhSEQUh4WhRLAe/ppVN72S/yXXopn0aKc97OVl2NvDyMsybb2bTD/I8rDX/OM2iCdgOe+pfIjFypaiZWNKzGlyclh5Q3ydahFcVv7NljwMbXebXt88IM2b1HhoMdeQU1njWJ4hXHJoYRehdLIHz0hTxZ6Xj6iO8IM/9R+v5vhMPu/dDNGSTFlt96K0DSMkmIqE272BPcoz/X+tbmnbRwMM6W8k2XHw8yLkVKypmkN52izwLJ6PJRGYSGaJYl2thCdcroysA7EAZFFJgWnSTNwx49sDcosjJJiSqI2FfIKylBz8c8VmdHSmwZeQw9GltF121JY8iM132WwqW0T+0L7uHza5UTffAtbebnKF+4DzymnYLa3w546rph+BS/Xv0xDd8OAh0pbab664qukzBQ/O/NnOHTl/Q8+vhTnscfimJJ7PUjnrFnEt23jnOpzWNm4klg6lvO+G1s3gpTYm7uOEvK8DRiRQiml/ArwR5RS+T9CiOeBB4FHR3hcL3BwtdIgMBDl38HbBgGvGKEvWwhxHbAQ+PlA/0sp75BSLpRSLiw+Gnc9IISmIb0uFapaMiPD0JqZ2DJKYWPRFHwxibQZiCHCFp15RfjigmZXZrLuGz7bVkOXpuNMgjHGHKu3G3peAGdS0hRphcLpSgHs3AexTpq9hXjiyvKfc3uZGp6emEVr+XEqUf+Ba1SO0p3nKJKMX8yCH1bC9wvgR5Xwwveg4gQon8+mNlU/1NXSfcQseFmF0kpaSrEN7T90o7YdxITAnpBYrncXq6/mVdNWOpZRno5EHmXrDpAWiUzocy4KpV5Y8P/ZO+/4uM46639vmd4kzajLlmU7co/juMRpdkgPgSSEHtpuaBteYGkbYBdY2EZddl9gl4UA2X13KUsJoZPYCbETUpzixN2yY1m2ykia0UjT2733/eOZO6OxZFkjy5ZkdD4ff2yP7lxdlbnznOec3znUZWx0xbrgVf9C5o5/R48J6eNsetYUfw3+tCC2z/UXFmpXfxSi3bD3x+UH9+8j7KzCkWVaNotktxvJaqU6IXEi0QttW0XH3UQq8bbPCNvhtZ8GoDPaSVXc/FpmTgW0NDTQmLBwNHKUHDrc8Dl6nV5cifyMXxuITQdXRigR040D4QMszwrCfK4IJYDn+utp/sqXK6pQsTQ3I2kaNXFxnSy9HjyN8ELB9rrr22KT4qZ/KvYw7uzeSbWtmvo+oUIqAxFk3RBzlG1boap14nCevT8Rs6krX0NHpIPFGfH6nC5CqTY1ITud06JQKtXVYBho0WjxMcMwCH7mb8n19tL8la8UN5cttXXUJS2CUC4vqMQmMa8UL/1IvJcW1MljI8cIp8OsTwtiZFtSUChrS5tOJwJLhGV5Ittr9y6wuhlOxIQN/ixnTKcCS1093qhQxUcyheWvtxFu+gfoegJe+M+JT2AYsO3Twpq95V64/H1lH/7F0V9gV+xcv/B6Ui+8MO58ozlHmXz6ad647I3IkiwqRMbBv7/47+we2M2nL/80rV7RbZ05coTMgYP4Xn367snxYF+5gnxvH9f5NpHW0jzVO/nwwZcGX6IVPySS85UhM4Cp+I2eBKII++hJoM0wjH+u8Bxx4NQVjBeITeJYLxA3jMn7yiRJugP4AnCLYRihMx0/j9ND9npxp6G/ulmoMeGCJaOglPW6/bhTQkmbiPMrVT48aYmgIgFSudo5eJghm6tAKM+uVmCmYdp+Y4O9Qrk58VSRPA9aHbgyEpYzdAiWna+gJLlT0LdgHfiXivCGfEYM7tethKXXifCILX8FN/y9mHV63fcA2BfaR43hgsjweemgBFE2risyRjqHAePbXgcPM6TIOLLAWc7VnW+YdlMtkUaH8zNHWfgcJolVJkEoVX+A6pTCiegJaFxLf1077oLrTp6i5RVArfFjHUnht/tFMA+IRXfDGnjiX8trgYL7CAcW48icfcIrFBTSQIDGrFOooxfdICxr44WmgJixPPgruPrDYoEGdI50Up8WmxgzpVACqI0NVI3kyepZjo8cB6Ar2lVST2eYUMpeL7aMzkB0AsvrFLE/vJ9VeaHmmVUdswUmwV2TbxCEUlGF2nN0m5hr2/EluOhGuOh6ADRd44meJ7iy+UqyHYXfQ01jpdbA/tB+kYh56dtFUuZ49kVdh30/g8WvAJefjkgHS7NCSZwuy6skSdTdey/Vd735rM+lFFROLVJyGY088ADR3/6W2g98oGw2T62rxRfX6Y33kq5ZDFULp1YfouVElUbTOmi/GRDdlwCLI1aQJKytgtiYr2lfwuB4NgwLNk3cR3nyGWi+lPiQUE7lCZxW5wpqXR324SQYhnAsmFj3NuFe2Pa3ooPxdHjiX4RDZOO7hQ17FDJaht8d/x3Xt16PPRQlPzCA49KxhNLS1ISldSGJp56m3lXP9a3X88DRB0SFyCg81fsU39n7He5YegevWvyq4uMjv/wVKAreV95S0dduKwTzLB+y47F6SrbXSWDP4B4uNxaL659XKM87Kg3leQB4DPgZcCdwE3DtFD5vB6BKkjQ6Imot49tR9xc+dqbjxoUkSTcD9wGvNgxj7xSudR6jYPFVCYXSWSBB5vxj11PgridIDk9KwlJ1hl48rw9nWqc/FRIkaHTSa+gww1VN2HNgc5/fyO7phkkoM5Ew2QWXCbvNi98HxcagnsORMYozeJOB7HaDIuNKG/TZXfD+XaJQ+J0PwVt/Bm/4LzErcfPn4dq/gSs/KGxY1YsAYXXZLBVuuOdJoZQkCd1hxZYxiMrS+ME8oQ6GrS5subkVyAOFOULAntEZrlkE/efhNtO/n5zqwEgIO9BkyJnqr8Ed1zgZO4mmawQTQVwFQjlVyyuIIu5cMMj6+vU811+Yo5QkkfgaPlKy9uk6DBwg7G3EmTGwTNNrWwkEqE1bOB49LggljL9g1DV46JPgWwCXv7/48PHocVryHiSbbVpI7lRhaWjEFhZ7quYi8kTsBL7C+m061KSzgemOiIWnl1DGsjFOxE6wOOUBSRpjvZtpmAR3Va6Og0OFmIh1bwVDh/9+DeSScOM/Fo/fG9rLcGaYLS1byBw+XPy5rddahEIJcMlbhFI23pxx9y5hm1/zenJajmMjx2hJ2lGqq5Ht05cpUP2mN+LavPmsz6MU6sFMQpl5+WWCf/8POC/fjP/d7yo7Vq2twz6cwsCgK3ZC2F6P/UHUx1SCZ78rOo2v+etiwueu4C6a3c3Ye8JYmpqKFRhmwnVVXPQjsvQ6sREQHxh73mwCgvvItmwgV/h6JhrdOVdQ6+qQ0lmq8rZyQiVJIuVUy8FvPjK+E+O5++GRz8Ga18MtXypLQAX4w8k/EMvGuG3JbSR3i0wH52kSWF2bLyf57LMY+TxvWfEWYtlRFSJAKBXik49/kjZfG5/c9Mni43o6zfBPf4p7y5aKN+nMpNf8oSNsbdnKju4d5PUzp9s+dvIxTsZOsjorHIbna8N8HiVUqlAeAZYahvF3hmH8ArgZ+IYkSf+nkpMYhpEAHgD+TpIklyRJVwK3A/89zuH/D/iIJEnNhdnNjwL/aX5QkiSrJEl2RMqERZIkuyRJcuFj1yKU1NcahjFON8U8KoXFW4UnI9Ev6SLRzpxFOPE0LLyc3kQfNVnLGW0iis+HrENkqA8WbBTnMe2zgx1EXH7s2blVcD8ezDcjdxqCgcKMycuPQsMahkf6kQ1QPJNfWEuSJFTiVOXWs4yWoWOog4tzYpfbep5mKAEMhx1HFiIu//iEcvAwQ9UtODIGqntuqdKSzYahKjgzBqHAkvNjeR3YT6SuXSi6TK5mRanxY4ulyWtZgskg/cl+XGkDZPmsalqsixahhUJs8qwmmAjSEy/snK+8XfT2PfFVsfCJdEIuSdhVjSMLNu/Zz2+BUO6q4gYnoyfRfS0iWn68OcoXvy966G74HFhKKnjnSCcNaRuq3z+jqYCWxgYYieHWLBweEq+R4yPHqZsF6imM2nSIJYhn49N23oNhQdLqo7JYSFdgRz0fsDQKJXtxykNfoo9IOiIChdq2iGCnje+G2vbi8Tu7d6JICpu9a8l1d+O+5hoAlmVr6In3iCoEbyO03zQ23AeE3VV1wPJX0hntJK/n8cemT52cbphzmPlIBD2dpufDH0F2Omn64hfHhL6pdbUo8RSWnEHnSKcIOMqnRWjMZBHtFenAS68vbiDphs6zwWfZ1LCJzLFjWJcsLn3OguW1JecWLoal5qbTI2PP3fMCGBr9te24U4KsmRsp5xNmdcj1zkvZ1rUN3Rg1M1mzWMwgd/xeKNmjse9nom7oopvgjm+W9UOa+OXRX1LvrGdTwyZSL7yA5HRia28fcxwI26sej5Pet49Lai9hRc0KfnjohxiGgW7o/M0Tf0M8F+fLW7+M01LaCB558EG0SAT/3X9e+ddeU4NaX1+coxzODLN7YPdpj++N9/LBRz/IBx79AG2+NtZmz//6Zh4Clc5QftwwjKFR/98LXAW8ewqf+32AAxgAfgjcYxjGfkmSrpYkafS71beAXwF7gX3AbwqPmXgYSAFXAN8u/NssmPo04AN+K0lSvPBnCv6KeZhQfD68GYX+5IAI9uh+Dka6YeQELLycvngfvoxc3LWc6DwAyaF+9OYNQrkLHxV/x4NE7B7sWbB5pmfROVMwFUpPyqBPkcBbuMk1X0oiIsKfFG9lBEr1VVGTtVRMKA8NHSJv5FmSFOThfJb+Si4n9ixEqltPq1BGPPU4smCpgGDPBkiSBC4nzjSEqheIeapKd9wrRf9+wv42nBkD3W5FUsdGuJ8K1V+DpOm4UsJKGUwEcacLMfVnkbZqWywWb5ekxM5w0fYqK3DVh4Qa8PIjgswBYZsDZ0bCehY229FQA34csRxpLc1AckAsMo//UXSvmUhHRU3Igstg1Z3FhxO5BAPJAaqTMkrtzBI2kzCsk1o5FCkplC15D8jyjCglo2HO2brT0ztHaap2nqH0OZ2fnCpkhwOlpob6mHiNmASYKz8EzRtg671lxz/e8zhra9di6xLfI/c1W0GSWBATRPlAuNBBeek7IDFQPkOo5WD/g7DsZrB56IiI3ELnUGra5ienG6YCq0UiDHzpS2Q6Omj64hew1I3txlVrxWM1cTHzSOuVYPNVVh/y+0+AnhMhNYUNoMNDh4lmo2ysW0+2sxNbW4lQmnPWLdkCoWy4GFx147sYTgrbbNBbVxwHONuezqlArRP30q32NQymBscSqs33iFyE390LibB47Oh2eOC9IhDt9f9ZnOcdjcHkIH/s/SO3LbkNRVZIvrgbx9qLT/v+4bzsMgASTz+NJEncteIujg4fZVdwF9/b9z2e7H2SezfeS3t1iZAamsbQ/f+Jfc0aHBs2TOnrF8E8B7iy6UqssnVc22tWy3Lfnvu4/cHbebrvaT506Yf42at/hm0gguL3z6ku6wsFZ5fZDhTqOK6ewvOGDMO4wzAMl2EYCw3D+EHh8ccNwxhdTWIYhnGvYRg1hT/3jp6fNAzjGsMwpFP+PFb42CsMw1ANw3CP+lOZoXseZVDMGcpkv3gz7d8vFDeAhZvpS/ThShpnnDswd7vtSY2husLNqHtXcfYpZliQAWWOp7wWFcoU9Cb6xM0eyDWuJTsiLDVyhQRK8fmozlrpS1RmPdsXEspZfVRGstvPa8iH4nLjyMKQr1GkF4626mRiEO0h4qqas6q07HHjzEDY7QcMGJhUg9LUEB+AxCDhqiacmcmH25g/b19SWL/6k/1UZa1nTVSsbSLBr24wh8/mKwXzAFz8JvA0weP/Iu4VkkxYAmd2emYoQVhe1WgCSTcKttcbxYKzc0fpoCe+KhbvN3++zAK2q6/QWxfXUP0z3PNYKK1frTVweOgwhmHQFe2iIWNHqak5LxU/E8HsKnWljaknvY6DA+EDNLmaMIIDs5JQgpgn8wwJhnFgqEAIl14H735E9AQW0J/o59DQIba0bCF9SGwKOFavRm1ooCoilMii7XXp9eK18fyocJ5jOyAZEnZFRA2CRbYgDw5NWwfldMMkXCM/f5DID35Izd134756/CWhqby1awGhUCoWsQF0+Pfls9anQ8fDcOAXIh+gppQcavZPrqcVI50uUyjNOeu6tFUQSlkW3/uXHx37ObufhUA7QS2J20yrn4GUV5OMrzQasCk2Hjr+UPkBsgK3fV1swD/0STjxDPzv26BuOdz1I7CO/57wm2O/QTd0Xr3k1eiJBJlDh09rdwWhPtuWLyfxlKgnu6XtFqpt1Xz52S/zjd3f4MbWG3l9++vLnhP/wx/IdnXhv/vPp+z4sK9cQfZYJ3ZN5oqmK3j0xKOMjk15qvcpXvvL1/K13V/jquar+MXtv+Cda96JRbGQ7e6erwyZIZyRUEqS9EFJks4Uu5iVJOmD03RN85jFUHxe7CmN/kQQWjaAocHT/wFWD/na5Qwk+rEnspOyvAK40wb9NifYfeJmXlCv4nlh8ZgoKXYuoKRQIgjg4q0AhANLcaYLlpoKFUrZ58WbkSomlHtDe6lz1mHpHxLJhefR3mdxe7BnDSKuGkgPi9h9E4VNhCGrE0cWrJ6ZVWKmAtXjw5mBkK2wK9p/Dm2vhUCeUCEtdbLEzAx1qc1Yiwpldc5yVgmvgHjzVhRyx7tYX7e+pFACqFa44gMimXDPj8B/EaFUBHvWmFSQ0GSg+gNIuoEnVZiRWrAZrJ5SkmPkODz1b6LbsXl92XN3dO/AZXFhHUnOuKXUJAxLMl6GM8N0x7rpS/RRk1JQZ3h+Ekr3bFcaXuh/gVAqVLbImyoOhA+wqnoFuWBwVhNKIzjAAs+CksI4Dh7vEQ1qYn6yA9nrRW1sFHOYff20eltLhFJRxSzm0e0wXKga2vsT8V64VAT8dEQ6WO5sQ49GUetnJ6GU7XYkp5PU7t3Y16yh7kN/edpjTeVtqR4QCiUI22syVB7MNx6ySfjtR0U9yxXly81n+p5hkXcR3qCYQTZdEyaUQIDqhMRwZlikpi69TlS39LxQOsgwRJbDgk30JfpK9WdneX+cCkziLYdH2NKyhe1d29FOJb/1q0Sa9p7/FbO8nkZ468/F7884MAyDX7z8C9bWrqXN10Zqzx7QdRzrLh33eBOuzZtJ7d6Nnk5jU2y8rv11HI4cpsHVwGev+OyYdUT4e/djaW7Gc8MNU/76bcuXg66T6ejg2oXX0pvo5XDkMP2Jfj6242O8Z9t70AyNb17/Tf7lFf9Co7ux+Nzcye75QJ4ZwmQUygbgqCRJ35Ik6S5JktZLktRe+PvNkiR9CzFbOdbfMI8LDrLXh5LXGYkOojUVdrYG9sOCjQxmIqhZDTmvn9Ff+J6VAAAgAElEQVQmYqZKutIQTA0ItbP7OZEAqlhJpcRu8FwLaDkVktOJZLFQl3PSG+8VYQzv3cmA3YkzIxZjlSuUVbhSBsF4ZSrBvtA+1gTWkO3uOW8dlCasHp+YobQXCNdo22tI2LoiioI9B7Jz7llVLF4f7qxMCE2QmXM5R1kglGGrsNlaJmkdNa1pbbqfEzGhUHoz8lkvmCSrFWtLC9nOTtbXr+dk7CT9iVHdcuvfAY4akb7asJpYdBDJAHmaKoHUgCDK9SmrUChVq9i4ObKtEJ//GVHBcN1nyp5nGAaPdz/OlfWb0YYixfPMFEzLa1NS7N9uP7Ed3dBxx3WUGe6ghNLC2p+zcd/e+3jFj1/BlT+8krt+cxd//fhf8+093+ah4w9xeOgw6Xx6UueMZqOciJ1grbwQ8vlZl/BqwtLURK63lxXVyycklDu7d9LoamRp1VIyhw5hb29HkiSszS3kuntY6V9ZIpQgCCXA7v8R3bKHfg0rbgNV/A4cGTrCWl3cq2erQgmiWkN2u2n+6j9POANrEqXWjJvjI8cFSVp6vXh9nsn2uvPL4h7yqq+K13gBOT3H8/3Pc1njZWReFqm51iXlnZhqIIAzJgbOu6JdsORakORy22v4ZUgNQcsmgokg/pwI6ZrMOMF0Q3Y6kT0e8gMD3Nh64/i2VxCEsm6lIJFvfxDcp6+8OzB0gKPDR7ltyW0AJHfvBknCccna0z4HxBylkc2SekGQ77tW3MXWlq388zX/jMdavhme3L2b1AsvUPOOd5zV982+ciUA6QMH2bpgK7Ik8/lnPs9tD97GYycf432XvI+f3/5zrmq+qux5Ri5Hrq8Py3xlyIzgjITSMIy/BtYhSOM7gd8hZhl/C9wNHALWGYbxqXN4nfOYJTAXFfaURliRRZ8WwMIr6E30jrKJnEGhrCpZQYOJILRshIEDYsewZgnpuOhemus+eEmSkKt81ObsQlGUFWhcy2BysJSwWaFCqfh82JI5YrkYsex4TTtjMZIZoSvaxerAanLd3VjPcwKaxe3FmZUYMhcCg6Oi0AcPg6wSy+ZQ9Ln5M5c9bjxZmVA6DPUrz211yMABcDcQ1lO4ctKkZ05NhXJh3suJ6IlCyquBfBYJryasbW1kOzvZ0CBmZspsr1aXmPkBqF9FckTM/EyX5dVUFpcatWKxCML2Gu2GZ78jLHJXfRi85WTl0NAhBlIDXONdD4aBMsMKpWyzodTU4BvOIyHx8HERLGSPpWfcjgule/97297CN6//Jh/f+HFeufiVOC1OdgV38fXdX+djOz7G6371OjZ9fxO3PXgb39j9jZISNQ7MecTlWfG7aWmenUEalqYmjHSatZZF9MR7St2Ao5DVsjzd9zRbWraAYZA+ckQoLYh59Xx/P6u9ywkmgoRShfay6lZY8gpBKA//FrLxot01ko4wkBqgPSc2E2ZrKA9A3b330vLv/4b1DMqQUlUFFgt1KStZPUtvohccVbDoqonrQwYOwpNfExuyi8pJxIHwAZL5JBsbNpI91olSVVUMCjKhBgJYhsVce1e0S9iUmzeU91EW5idZcBnBRJBAzjYj85Mm1Lo68gMDbGnZgl2xj7W9gth4eOc2kfZetXDC8/3y6C+xylZubhM1K6kXdmO76CIUz8TrD+eGDaCqRdtrwBHgG9d9g1X+VWOOHfre/cg+H1WvvXPMxyqBpbkZ2eslffAgNfYaLqm9hBcGXmBDwwZ+fvvPuWftPdiUscbJXDAImjZveZ0hTGoLodDd+JXCHyRJshmGkTmXFzaP2YliD2IaBpID1LVsEPHdhflJ0yZyxhnKwuLEl5GFmrFgo4hhP/4ErLyNbKdQsOa6Qgli97Y6Gy+zqIqETfFv+Qw39FOh+HyoiQySrhBMBMfsEo6H/SFBcNbYFqPHYuc1kAcESXRkJSJ6Vih4BVUSEP+uWUwiNlQ4du79zBW3B1dWIpwKQ/1q2PtToY6dC1tx/z6oX0k4FcadVSat9ClVVSDLNGTsnIy9jGZo2JKWilKGTwdrWxuJJ5+k3bsUt8XN8/3Pc+viW0sHbHoP9L2EtuwWss+KmTHZPT0bB+Zs6CKtit9FT4gHzfqQ390L3paymhATO7p3ICGx0bKUCMwK0mZpaICBEAs3LGRfWKjcciSGOgsUSslqFYmQiRxXNV81Rh1I5pJ0Rbs4Hj3O8ZHjPD/wPPftvY9v7fkWK2pWcOviW7lp0U00uErEyFT7FibsDMPstbwWlNPlWfE7cnDoIJsbyys3ngs+RyqfYkvLFnInT2Ikk9iWtRee3wyGwaq8qEQ5ED4giCeIcJ6fvAMe+hS4G4qE6UhEjAIsSIn7oZk2OxvhvfmmSR0nSRJqbYDquHDndI50ssCzQNSH/O5eoRL6y9VFdB1+/RGweeCGvxtzTnMOemPDRqLH/nuMOgkFF8NwFMVQRm063QB/+CdIhMAVEBkOdh8E2ulL9FGVUWc0CEutqyU/MIDT4uTqlqvZfmI7n9j0CRT5lFlq25nv/zktx287f8u1C6/Fa/Vi6DqpF1/Ee+utZ3yu7HLhuPhiEk8/PeFx2a4uYtu343/Pe856U1iSJOzLl5M+JDac/uHKfyCYDLKhfsOEozq5k8I6bmmZt7zOBCrtobxJkqROIClJ0ogkST+SJGnZObq2ecxCmMEMzrQIIKD9ZpFc2ryevngf7sJc4JlmKCW7HclqpS7vFAEPxdkmg7z/IrSE2E28EAil4qvCm5YIJoLF+O/B1CDujHj5nWmHcOz5Snbhyc5R7gvvQ0JiaVJ8rvNteZVdLuxZnUh6SETsj7a8Dh6GQDvpaKR47FyD7PFgT+tCeWhYDZkRYc+abmh5GDgE9asIp8K4spPfkJAUBaW6mpqUimZoYBhYEpmz6qA0YV3chpHNovcPsK5uXblCCUKFeNP3iXjqsKfFa2DaZigLymJT1kV3rJucnhNqZP0asUl1w+fGDanY2b2TNYE1uGNa4Twza3kFUBsbyQf7WFYt3lbrJB9GMolSM/PXBmIjUItGx/2Y0+JkhX8Ft7Tdwj2X3MN3bvwO21+3nXs33osiKXzlua9w409v5O6H7uanHT9lJDPC/vB+mlxNWAaF4jdbSZNJdBckRA/keLbXnT07sSk2NjZsJH1Y3N/sRYVS3G8XJR1ISOW212WvBGcAYr2w+k7hYoFiwmttTCyg1VnWzzlVWGrrcAyLnefOkU7xYLtQzca1vb70AzjxpCCTrrGbPs8En6G9up0aew3ZY53YFreNOUYJBEDXaae+RCiXXgcYpfqQk7uEU0oWm9ye9Mx0UJqwFBRKgBsX3UgoFeKFgRfO8Kzx8fvjv2c4M8ztS28HIHPkKHo8jmPdJZN6vmvzZtL795/2tQ8w9F//haSqVL/lrild46mwr1hB5nAHhqaxwLuAjQ0bz5j7kD3ZDYB13vI6I6g05fXbwDcQc5VXIuyuOyRJumy6L2wesxOKtxSmE0wG4eI3wEcOgNVJb6KXhpwgA2eyikiShOzz4s/ZBTF1VENA7OaOVC3AlivMF87BebpTIVf5cCQ0cnquaHUaSA4Q0ESYQaWzBqNV4snG9+8N7aXN14alX5C2820JkV0uZB2i8bDoCTQJZT4rajZql5GJDRePnWtQPG6s6Tzh5KBQKOHc2F6HjoGWgfrVhNNhbGmjIqVPranBkxCEzpYDSdOLm0RnA1sh6TV77BgbGjbQOdJZsvWNQjgVxpEtvLaniVCatQC1KZW8kRezyiBstmvfDKtfO+Y5oVSIfaF9XN1yNfmwuM6ZDuUBoVDm+oIsrxFEZJks1LzZQHZhYkI5Hmqdtbxt5dv44at+yK9f82vuueQeBpODfO6pz3HNj6/hsZOPsSqwilxvL0p19azdQDQJpXVwhGZ3c6k6pADDMNjZvZNNDZtwqA4yhw6DLGNbulQ8r2DllYMh2nxtHAiNIqSqFS55s/j36tcVH+6IdFBjr8EajooahFnWzzlVqHW1EI5QY68p2aGrW8V981TbayIMD39apKNf8tYx58pqWV4ceJFNDZvIRyJoQ0NYF4+jUBbcB2WEsnGdIPJHt4u01IGD0LKJeDZOLBfDkdRmJOG1eM11deQGBzEMgy3NwvZq2uArgW7ofGfvd7io+iKuaLoCgNRuMY/pvHTiQB4Trss3g66TfPbZcT+ej0QYfuDneG979bh1MVOBbcVyjHSabGfnpJ+T6+4Gi+WC2XyZa6iUUFqBfzUMY9AwjH2GYXwWMVf59Wm/snnMSphkRnRR9pd9rC/RR5MuPn4my6s4lw9fdtR5WjYBMOytw15BYftsh1JVhTUhviBzsTuQHKA6b6tYnYTS99aXViZFKA3DYO/g3uL8JJzfDkoo/RyTI2GxcRAPQmpYECRDI1uzBD0pdq1n66JyIshuD5IBmfgIWb9YRJ6TpFfznHUrGUqEsGbyFSl9it+PPSamFYo9a9PQB2lWh5jBPCCSQE9FOB3GMc2vbbMWwFeo/iwuGNe9BV7zH+Pajp/oeQIDg60tW9FCglAqs8Hy2tiAHo+z3CbmoZbo4pqUWZDyCoJQ6iNj5wcng1ZvK/esvYdf3vFLfvSqH3HX8rtocDVw3cLryPX2zlq7KwhnjuxyiWCemhVjFMrj0eOcjJ0s2ljTHYextrYiOxxAQV1UVXI9vazyrypXKAG23Atv+G/R7VzA4chh2qvbyfUFZ20H5VSg1taRHxikzddWUihBKLUnnoLkUOmxbZ+BTBRu/aqo+zgFLw2+REbLsKlhU5F4jKdQqoWO2bZ8NV3RLpFOLMtCpXz5ETj5LGDAgk3F91RrIjuzM5S1dZDLoQ0PF22v27q2jU17PQMeOfEIx0aO8Z4170GWxPcwtXs3it8/6TRUx9q1SA5HcY7yVER+8AOMdBr/n/95Rdc2EewrCsE8BydfwZXtPom1qWnGK5b+VFEpodwB3HHKY78Hlk/P5cxjtsOcfWzQPeVJjkBfvI+6XOENdBI3YsXrw5OW6E/2CyvoildD7QqGHL5Ri865Ry5OhVpVhRJLgGEULaoDyQF8WbXiQB4o2XBaqJqU5bU/2U84HWZNYA25nm5kr/e8R6Gb5CETG8YoKNGEOkSqLzDsaygqV8oc3ESQPYLUOTMwZGShuu0cEcr9ICnk/EtIxSMiLdU9+d8htaYGKRLFqTpLoVDTYHlVamqQvV4ynZ2s9K/EoTrG2l4pKJSF6fvpUihBWNocUXHiIqGcADu7d1LnqGN5zXLyoTCSwzEr7jVqwfK5JCvun62aCBdRz2Nn7ESQq3wVKZTjQZIkVvlX8Vcb/4pfv+bX3Lr41llPKCVJKia9rvSv5ETsRFkg2s7unQBFQpk5dBjb8tI0kKSqQn3u7mZVYBWDqUEGkgOlT2D3wsrbipsfeT3Py8Mvs6x6Gfn+IOosTnitFGpdLXo0ylLHQo6NHCtVzyy7RVjUjxRUuON/hBf/R8w/168c91y7gruQJZn1DetPm/AKJfdBc9ZJMp8suSeW3gDJMOz6lkh9bV5PX6IPyTCQ48lJbYyfK5iJuPl+sc66adFNhNPhimyvhmFw3577WORdxA2tpRqP5O7dOC9dN+nqMMlqxbl+PYmnnxrzMT2dJvL9H+DeurWoyE8HbIvbkKxW0gcmTyjnK0NmFpUSygXA/5Mk6e8lSbpEkqRm4CPA9um/tHnMRpjzWrV5R5lCaRTIkj9rRXY6J4wON6H4fDhTOnk9L8JMlt0M/+dphrVkSaGcg2rVqZB9PsjmsOVKM4+DyUFcWaniyhAQM5kAjbpnUoRyb2gvQKEypHtGkhTNxbqazpOoLqTRDR4uVYY4a6ZduTqfMJVmZ4bSHOW5qA4ZOACBdiL5xChiNvnvl+L3o4XDtHpbadAEoZuOzQVJkrC2LSLbeRyLbGFt7dryPsoCwqkwTvO6p/HnrPr9SJERPFbPGQllTsvxZO+TbFmwBUmSyIdC4vnnsZf1dDBnCL3DWb55/Te50iGSFGcLoVS8PrQpKpSng2EYs55QAmWEEkRKsInHux9nadVSmtxNaPE4ue5u7MvK4yUsLS3kenqK6ZhmUNp4OBE7QUbL0F5TUChnaQflVKDWCqLUrtUykhlhKF1QJBsvEV2Kh34jRiF+/WGRXLr146c9166+XaysWYnX6iV7rBPJZht3DrfYwZsS65LiPWLJtYAkSGzdSrB7CSaDONMg6cbMzlAW3qezXWIW/+rmq0+f9noaPN7zOAeHDnL36ruLYT75UIjciRM4LllX0fW4Lt9M9ujL5AYGyh4f+cUv0YaGqLn77orOdyZIFgu29vZiMM9kkDt58rznQ8yjhEoJ5b8BX0PUiPwCOAn8IzAiSdJfSpJ0oyRJE2cXz2NOQ1IUZI+Hmpy1TKEcyYyQyqfwZRTkSc4dKF5v0Qo6mpxG0hHsOQMUeVLEdLbDtM00aG56470kc0liuRjOlD4ly6s511Gfd03K8ro3tBeLbBH2qZ5erDNwwzXJg+iidINiE9Uhgx3gbWFIT89pm7OpEhYJZf1qYefNJqb3E41KeDUJeCWWV9XvR4/H2Vi9lpVWUfkjT4PlFcC2qK1oO9tQv4EjkSNj6hXC6TCenFjYTKcSrQb85ENhFnkXnZFQPj/wPIlcgi3NQk3Kh0OzYn4SKFobc319XNV8FZaRJFBKsp1pVDpDORlow8MYqdSs7aA0YWluFpZX/wqgFMwTz8Z5vv95rm65GoBMh9gks51KKJubyPZ0s6xmGbIkj7W9joIZyHORtQU9Hp/VHZSVothFmRX3zKLtVZaFSnn0EXj8K8K98sqvjBuoBSJVeE9oDxsbNwKQOfYy1ra2ce2OssuF5HTiSwg1tHiPcPlLNuMFYuSmL96H1wzM882c5dW2rB0sFtL7xIaw0+JkS8sWtndtn5Tt1TAMvr3n2zS6GnnVklcVH08W5icdl1ZGKJ2bRapx8plnSp9D1xm6/37sq1bh3LSxovNNBvYVy8kcOFhSsSeAFouhjYycsbpmHucOFRFKwzB+YBjGJw3DeJVhGK1ANXAtsAtYBnwaeHH6L3MeswmKx4MvqzCQHCi+0HsTYjbQndQnPXegVPlQ4mJubjQxiqQj2LMikGc2qAZnC3OXs40AfYk+BlODAFhT+SkFopgk1F8g9ZqukdNy9MX7eGnwJR7peoQfHvohX3vha3zqiU/x65d/zYqaFaiySq6nB8t57qCEEnlwZAyGsiNijtK0vNa2E0lHSorbHFSlFdPymjZKhBJDBD1MF9JRkRxbv4pwOoxzCrUzSqF+4kNL7uadi94kHpsGyyuAdfFi8gMDaPEEGxo2YGCMUSnDqTDVmh3JZpvWzSIlEEAbGqLVveCMhHLHyR1YZSuXNYosOS0UQpkloTdqXR3IMvmguB9qQ2ERaGW3z/CVCSg+L0YqhZHNTts5cz3ivWPWK5TNTejRKL68lQZXQ5FQPtX3FHkjX9ygyJgJr6cQSmtLC9pgCFteYknVkokJ5VAHiqSwIFkYIWmYnem3U4FaVwtAQ1r0CJb1lC57JeQSsOOLYgSm/fR1JC8OvEhez3NZg3gdny7htfh5/X7sI2kssoWu2Kh7xNKCFbSQ4dCf7GeBIazmMxnKI1ut2JctI7Vnb/GxSmyvzwaf5aXBl7h79d1YZEvx8dTuF5EsFuyrxvZITgT7ihUoPl/ZHGX8scfIHj+O/513n5O1mm3FCrSREfJ9EzuxjFyOvr/5lLjOVaun/TrmMTlUFi95CgzDGAGeKPyZx58IZJ8PdzpPVs8ynBmm2l5dtF7akjnUqsktzmSvF5IpFK084Gc4M0xVXp2TStV4MAl2s+HjmXhvcXZGTWampFBKFguyy0VVRqRaXvPjaxjODI85TpVUAs4ADa4G7lpxF1oohJFOn/dAHiipjvas2DCgtl0EISRDcOkVRDIR7LnyY+cSzHnAokK5sBCD378PWjZM/OQXfwiP/j1UtULbFmi7WsTXq6cUN5vktH41oVQIp5mWOskeSihZv/LhIbSoUA+na57W2rYIgOzx46xesRqrbOX5/ue5duG1xWPC6TArNSuye3qdB6pf1AIsker4TSJIOp/Gro4lYYZhsKN7B5saN+G0iI2LfCiM49L1Y46dCUiqilpbS65PEMp8KDxr1Eko1UZp0ei0qbq53h5gDhDKwvXlesqDeXZ278Rj9XBJnahgSB86jOz1Fudhi88vWBhzvSKYZ2f3TgzDGHchfiRyhDZfGwyExXMvQIXSPZLFoTrKg3kWXQ0Wl5glvfmLE57nmeAzqJLKurp16Ok0ue5ufLfffvrPGwighcMs8Cyga2QUobz4DdC5o1AjIja3m3UfMDCjCiWA4+I1jPzilxi6jiTLXN1yNQ7VwUPHH2Jjw8SK4Lf3fpuAI8BrLnpN2eOp3buxr15dcWqwJMs4L7uMxNNPFX9vw9/9HpamJjw33ljx1zYZ2FcIN0D64MHT3h/0bJaeD3+E+COPUPeJj+PaPF86MVM4K0I5jz9NKF4v9rhQ2fqT/YJQxgWhVGMp5AWTtLwWbtbVOVuZQjmUHmJh3jInlarxYBLKxrybvsTLgjwbBnI8hTyFUB4Qqmej7uWWRbfgtrqpddZS56gTfzvrqHXUUm2vLqa6QcnqMhMzBmWW13REVIfs+5n4YG07Q+khnNlCebrFMsGZZidMy2uNZheE0rcQrJ6J5yjzGfj9J+C570HTpZBPiZ35HV8A1Q4LLisQzC3QtK4s4TV88uEpzVCqhbRQbSiMHo2CJFWkcE6EYnVI5zF8q1dxce3FY4J5QqkQnpyK7LaNd4opw6zVWJSvwsDgZOwkF1VfNOY4M43z7SvfDoidbW14eNZYXqFQHRIU99P8ULj4M5sNMO/Z00so54hCaRLK3h5W+lfy2MnHiGVjPN79OFc2XYkqi+VU5vBh7O3tY4iiuZGX6+lhVe0qHjz6IMFEkEb3WPWxI9LB2rq1xd8D9QKaoVSqqsBiQQuFWNS+qJxQWuzwyi+BowZ8E79PPRt8lotrL8ZpcZI+dhgMY2KFMuAne/w4rd62cheDfwnc/fvif/sSfWzUqgrXOnMKJYB99RoiP/gh2c5ObEuW4FAdbGnZwraubXxy0yeLc5Gn4qXBl3im7xk+uv6j2JTSvVbPZEjv20f12982petxbr6M2MMPkztxAi0SIfX889T/9Scrrj6bLOzLloEkkT54CM911435uJ7J0PPBvyS+Ywf1n/4UNW95yzm5jnlMDvOEch4VQ/F6sfaLXeX+RD/La5bTl+jDrthhJDZ5y2vBCtpKTRmhHM4M48qrFw6hLCzCanMOErkEx4aPiXlBXUeZQigPiLRFSyLLl7b+30k/J9ctfmbnu4MSygnlUHqo2DkKQGAZw32PUqvZkF2zw9pXKUzLa0BzcjIVFvNA9atOn/Q6fBJ+/HbofQGu/Eu49jOgqKJKpetJ6NwJxx8XyiWA1Q02D9h84GshfCRMVd4CVKZym2pXPhRGG4kiezxI48TxTwWW1laQ5eIc5fr69dy39z7i2Thuq/j+hFNh3FkZpQJVdTIwldfGjLAIdkW7xiWUp6Zx5gcHwTBQa2un9XrOBmpjI5lDIvBFCw9hWTh7ZoJMe7Q2PH3BPLmeXmSnc0YTNSeDEqHsZeVFKzEw+PmRnxNOh4u/T4auk+7ooOrOO8c+vzBqkOvuZtVyYcvbH94/hlDGsjF6E728vvr15F8MgiRhqZ+ebr/ZAEmSUGsD5AcGaNvYxosDp0xJrRvbN3kqYtkY+8P7efeadwOQnSDh1YQSCJB/9jkWeV/BH3v+iKZrYwiZbuj0J/oJ5MTPZCZrQ0AolACpPXuxFb62G1tv5KHjD/F8//Nsatw07vPu23MfPpuPNyx7Q9nj6f0HMHI5nOsqm5804dp8OQCJp54m8dRTyF4vvjvH9vxOF2SnE2tb27jVIXo6Tff/eT+JP/6Rhs99juo3vmGcM8zjfGJ6VhLz+JOC7PMiF2YfTatqX6KPJmcDWjRaAaEUi5NmqsaE8jhz0oVDKKsLSmxW7N+8NPgS/rwgTmbdRMXn9FWetpjrKXRQzkjKqyCU7pwqCGXtqKah2mVEMhG8ecuctLsCSA4HKArVeVspkr5+laj5ODVQ4OVH4VtbIHQE3vg/cMPfCTIJ4KiC5a+EW74A9/wR/upleP1/wdo3gc0Lq24HSSKcCuPXxOujkvoNk3hpQ2HxWp3G+hjZasXS3EzGDOZp2IBu6OweEMq4pmtEMhEc2emtDAGxWAQIpMT38XRzlDu7dxbTOAHShXk3W/tY8jlTEAplEMMwyIfDqDWzx/KqFC2v00goe3uxNDfN+nl5xe9HslrLkl7v338/EhJXNl8JCLJoJJMiUOUUqLUBJKuVbHc37TXtqJI67hzlkcgRABGi1h9EDQTmpGtjIqi1teQHB1nsW0xvQgTVVYJdwV3ohs6mBkGoMsc6QZKwtrae/nMGAmjDwyx0NpPVswSTYwPthtJDZPUsNVnx/T7f9VqnwtrWhuxykd67p/jYaNvreDg8dJgd3Tt464q3Fm39JlK7xeylY4qE0tq2CLW+nuEHHiC2bRvVb3wjSgUOmanAvnw56YPlva96MsnJv7iHxJNP0viP/zhPJmcJ5gnlPCqG4vVBLI4iKUVlsTfeS6tSK1S3Se40m8c1ap7yUJ5MBEdubs7SjQfZakVyOvGmxIJpb2gvzVJh6H+Kb1hTie/PdnejBALFsu3zCUlVkWw2qnSbsLzWLAZJEdYmV4Ch9BCuvDJnNxEkSUJxu/HlLSVC2bBalHIPi9h3dB12fhn++07wNMB7HhPBExPBFYBVd8Ct/wzv3wW3fR0ohdtAZSFGstOJ5HAUZyine8FkVocArK1diyqpRdtrJBNBN3RsaX3aCaVpv1SHEwQcgXEJZTQb5YX+F9jasrX4mKkE2tqXjTl+pmBpbMBIp9EiEbRIpBikNBtgzlDq05j0muvtRWaZFkYAACAASURBVJ3ldlcQM2SWxkZyvb0EHAHqHHWEUiHW1K6hxi5+RunC75N9+dhqbkmWRfVITy82xcZF1ReNWx1iJry2V7eT7wuiNlw4dlcTlro6cgMDLK5aDAgreiV49MSjeK1e1tULYpQ99jKW5uYJw6tUv7hHLCrYWce7R5jJ9d6MjOx2nzMr52QhKQr2VatI7S05XUzb6/YT28nr+THPuW/vfbgsLt68/M1jPpbcvRtL68Ip1xBJkoRr82bSe/aIDdS3nVlNPlvYV64g39tHPhIBQIsnOPme95LctYumL36BqteOdQPMY2YwTyjnUTEUrxcjk6HREihTKBfqZjLa5BRKc3FSm3cwmBwsRmEPp4exZYw5Sy7Gg+Lz4UiKm38qn6LJEGR6qvNrU1Iou3uwzoA6aUJ2ufDlLQxlhkC1gn9pUamMpCO4cvKc3kSQPR48WZlwOizSj+sLaXP9+4WV9Ud3waP/AGteB+/aDoGpl0CH08LyKrtc48bkTwS1pkbMUI5Ekacp4dWErW0x2ePHMXQdh+pgVWBVMek1nBIBI9Z0vqK5z8lAdruRrFbyoRALPQvHXSw+2fskeSPP1gUlQpk+dBhL68JzvsteCcxEz/TBg6DrxYXwbIC5CagNjw0BmyrmQgelCUtzU3Hm06wPMdNdATKHDoMsn7bg3dLcTK5bOEVW+leyP7x/TCVCR6QDr9VLvbOeXDBYrJK5kKDW1pEfGKTNK2Yey+Yoz4CcluMPJ/7ANQuuKaaXZo51Yl2y+AyfU7yOmjJiXTHePcIMF3QmtRntoBwNx8VrSB86hD4qWfmmRTcxlB4ak6LdOdLJw8cf5s3L34zPVn79hmGQ2v0iznWXntX1OC8X9SG+V78aS925t2LbCsE8mUOH0OJxTr773SR376bpy1/Cd9tt5/zzz2PymCeU86gYplW1VfIzkBwgnU8zlB6iSRePT742RBznz9rIG3nC6TDJXJK0lsaS0S4sQllVhSWeKQ7I1+liATtlhdLnQ4tGJ9XPZCLX3T0jdlcTssuFO68KhRLgtq/Bzf8ECELpyM5tVVr2eHBmJFL5FMl8UhRlI4nwoW9vhaPb4JYvw533gfXsvs5wKlwIt6lc6VP8/oJCGRVug2mEta0NI50u1l5sqN/A/tB+krkk4bQglEoqU1F35mQgSRJKwI8WDrHIN34X5c6TO/HZfFwcuLj4WPrQQezLV0zrtZwtzETP9D6hXqmzSKFUvF4kq5X+L3yRzjtfS//nP09s+/aielAptHgCfWRkzhBKtalEKE3bqzk/CZDuOIy1tfW0LhBLSwu5HjHLviqwimg2Sne8u+yYjkgH7dXCMpsLBlEvoIRXE2pdLXo0Sou1DkVSyqtDzoBngs8Qy8W4sVUkixqaJkJr2s5AKAuqnCeu4VAdnIieGHOM6ZSyJ3IzPj9pwr7mYsjlim4KgKuar8KhOnj4+MNlx35n73ewKTbetnJs6E7uxAm0cHjKdlcTnle8Avf11xH4i/ee1XkmC/tK8TpL7NrFiXe+k9TevTR/9av4br31vHz+eUwe84RyHhXDVBabdR/9yf7iTbg+LwjgpC2vBXXOV5gtDCaCxfoLJZO7wAilD214mEaXUB9qze/VVBXKKh/kchjJyc2eGPk8ub6+GakMMSG7XLhzcolQLtwMTevQdI2R7Ai2jD6nCaXiduNI60ChOsTmhpo22PdTkej657+Dy94jIvHPAjk9RyQTwZWVp0Qo1Zoa8uHpn6EEQSihMNOECObJG3n2hPYIhdIwkBLpiqpOJgs1UEs+FKbV20o4HSaWjRU/pukaT/Q8wVXNVxWDOLR4glzXCezLZ4/dFShaHNP7hM1NmUUzlJKq0vqDHxC45x5kj4fIj/6X7vd/gCOXX8GxV99G8O/+nujvf08+FJrU+eZKZYgJS1MT2mAIPZPhDcvewGcv/yzLa0r21syhw9iWnf73ydLcjBaJoCcSrPKLHsDRc5S6oXMkcoT26nb0WAwjmcRyAXVQmlBrhbIlD43Q4mmpSKHc1rUNl8XF5U0iICbX14eRyZxRoVQCInhLC4dZ5F00rs22L9GHTbEhxZKzR6FcI5wuqb2lPkqH6mBry9Yy22tPvIffHPsNr2t/XdGCPRpmyrtj3SVndT2Kz8eCb3wD68KFZ3WeyUKtrkZtaCD8zf8gfeAgLf/3X/HedG5qSuZxdpgnlPOoGKaq0WCI2cfehNixrcmIXqPJ7uxJqlBY3GmhsvUn+4lkIkiGgZzOzWlycSoUX1UZoazKi++VfBYKJTBp22u+vx80bUYqQ0zILheOrFQilAVEs1F0Q8eSzs/pn7ns8WBJiTLN4hzlxW+C5a+C9+6EBeMn8lUK8/vnSOtTUvqUgB8tFEIfGZlybc3pUOyiLATzrKtbhyzJPBd8jnAqjEUD8vlpn6EEoUDkw2FaPSKYY7QCsTe0l0gmUj4/2VEI5Bln3m0moQYCYLGQ3l9QKAOzh1ACOFavovYD76f1v/6T9md30fr9/6H2Q3+JWlvL8IMP0vOhD3Pkqqs5duedxHfunPBcpto3k1b8SjA66TXgCPDa9tcWw4S0eJxcd/eEGxTWwv0329PDRVUXYZEtHAiVAkd64j0k80kRyFPoIrU01J+rL2fGoNYJcpcfHKTN1zZpQpnX8zx64lG2tmzFqoj3UDPh1bb4DAploJRwvdA7vi0+mAjS6GpEHxmZ8coQE2pjI0ogQHrP3rLHTdurOaN+/777kSSJd6x6x7jnSb2wG9njOa0dezbDsWYNktXKgm98fdz6kHnMDswTynlUDNPyWqs5SeVTxVQ6X1bs/FdiFVG83uJsYTARJJKOYM0hSKXrAlMoR0aK6ZKmKjtV61+xYHyShDI7g5UhJmSXE1tGJ62ly1L9TIKkZPJzWpVWPG7UlJhzKRLKaz4Ob/o+uKdv1sScRbRlphZuo9b4yYdCGLnctFte1dpaZJerSCjdVjcralbwXP9zhblPYfme7hlKEAvGfChEq1cQytELxp3dO1EkhSuarig+ZkbRm+XZswWSLIvQkgLZUmZRD+WpkK1WnOvXE/iLv2Dh977LsmeeZtH//oi6j30UPSHCM068692kOzrGfb75Nc6FUB4oJ5SnIlP4GicKeDJHDnLdPVgUC8uql5UplGWBPGYH5YWoUBZm7/IDA7T5RC/keAEzp+L5/ucZzgxzQ+sNxcdMN4T1DIRSttuR3e7iPaI33ktOy5UdE0wGqXfVow0Pz5oaG0mScKxZU6ZQQrntdSA5wANHHuCOpXfQ4BrfIp3avRvHJZdMW03U+UTD336Gxb/+Fe6tW8988DxmDHPvN2seMw7TJufPicXhiwMvIksyzkQeJKkiG51c5UOOp7EpNvoT/UTSEdHRSGXplbMdiq8KbWSEBqfYbXZnJCSHA8lqnfL5YPKE0gyCmGnLqyUjgpcimZJKOZQeAsNATmbmtkLp9iAlRJ1OkVCeA5iziGoqNzVC6a8pVpko0xzKI0kS1rY2ssdLisP6+vXsHdxLX6KPBgphVOfg56wEAmhDQ7S4mpCQygjlju4drKtbVxZUkTl0CKWqCrV+9ilAxbk5VZ011rvJQLJYcKxdi/9d72LJr35F3Sc+TmrPHjrveA19n/0s+aGhsuPzvb1IFksxpXe2w9JUIITjEcpCBc1ECqV5/x09R3kgfADdEFb5jkgHEhJLqpaQC4rAO8sFOUNZIpSLfYvJ6Tl64j1nfN62rm04VEexpgVEwqtSXY1aXX3mzxsIoIUFodQMbcz8ajAepNFRWf3Z+YB9zWqynZ1osZKN367auablGrZ3bef+ffejGzp3r7573Odr0SiZo0dxXnp285MzBTUQOG8W23lMHfOEch4Vw9y5M1W23QO7qXXUwkgM2eutKHVS8frQR0ZocDUQTAYvXEJZVQWaxir7YqyyFXdm6vOT4nxm2uIkCWVPNxRi72cKssuFWrCEjra9RjIRLHmQ9Lk9Qyl73BiJJApyUUU8FzDJqpJMT6nHdPRM3rnoWbO2tZEpVIeACObJ6lme7HmSBgrBXefE8hoQqaixFI2uxuKMVDARpCPSUWZ3BUgfPIRtxfJZ2X9ozs2p1dVzUlEAkKxW/H/2Zyx56PdU33UXwz/5KS/feBPh7363mFgpKkMa58zXaKmvA1kel1CmDx1G9npRJ7jHKjU1SA5HcYNvlX8V8Vy8aM8+EjnCQu9CnBYnuWAfyDJqbe25+WJmEEpVFVgsxS5KgGPDEwfzaLrGIyceKSpzJiaT8Fr8vAE/+cGSi2G0LT6n5xhMDdIi11RUf3Y+4FhzMRhG0QZv4sZFNxLJRPj+we9zS9stLPAsGPf5yWefBcPAcen683G58/gTxdy4i89jVsEkQu60+H84HabJ3YQ2hbkDM620wdlQDOVx5cWvpXShEUpgk3MFO964A0syd1bza8UZykkWjGe7u1Eb6me0IFtxuZBTGaCgShZgJrwCc9rmrHg8oGk0ytXnVqE0yWoihTKFcJvRM3nyNFteAWyL28j39aEXAqMurb8UCYlYLkatIa73nMxQjpqRavW2FheLO7vFHN/oNE4jnydz5MisS3g1YapSyhT74mYT1OpqGj71Nyz+1S9xrl/PwJe/wrFX3kr09w+R65k7lSEgFFi1vp78aRRKe3v7hBsUkiQVqkeEGmcmxZq219EJr/m+IGpt7Yx3IZ4LSJKEWhsoWl4BOqMTz1G+OPgioVSozO4KkD127IwJryZEcFeoOGc9OphnIDmAgVFKq/fNHoWyGMyzZ3zbK8C71rzrtM+PPfqoSCGfowrlPOYG5gnlPCqGpKrITif2pIaEePNsdDWiDQ9XbBNRvF60kRHqXfXFUB6/UajUmMNq1akwCaA+MoLb6kaLRVHc00AoJ2157cHaPHN2VxAKpZRKIxnGBIRy7v7M5cLPs0k6x4QyHcYp2zGSyanVhoxWKKfZ8gqlpNdsl7Cc+mw+Lqq+CAC/LhY/5yTl1W8SykFava10RbswDIMd3TtocbcUF66A6MrMZLCvmF2BPCbMpNepFpDPRtgWL2bBt/6DBd/9DrLDQc+HPkTqpZfmFKEEMUeZ6yknlIauk+7omFTAk7W5pTjTvqRqCTbFxv6wqNY5ET1RVhlyIXZQmlBra8kPDuKxeqh11J5RodzetR2rbC3bGMpHImiRyKQVSjO4q8pehc/mK7PFm2n1dVlxj5pNCqVSVYWldSHpU+Yo7aqdP1v1Z7x95dtZUrVk3Ocauk78sR24r756RjeU53HhY55QzmNKkH0+iMXxO8SCp0goK7wJK1XC8lrvqGMwOUgoFSqpGBegQmlaVPVY/KwUSsluR7JY0CuYoZzJ+UkokUVbdqzltUYXP+u5/DNXCvbTBsNzzhXKJknMC03F8jq61/BcWV4BMsdKC8QN9RsAqNbswLkJ5VEKc3haWCiUsVyMvkQfz/Q9w9YFW8uUo/RB0elmWzY7CaVpTVdmUQfldMF95ZW0/fwBGj73OSwtLbg2TU/68fmCUBjLCWWuuxsjmcS2rH0Sz28uzlCqssrymuXsD+3n6PBRDIySQhkMTmifneuw1NWRGxgAEEmvEyiUuqGzrWsbVzRfgctSundkC/eYMyW8mlBrA+jRKHomU+ZiAFEZAuDPVZZWf77gWD02mAfgfZe8j49t/Nhpn5feswctHMZ97bXn8vLmMY95QjmPqUHxetGiUeoLITNN7qYpKZSy14uRy9Go+tEMjaORo1QbYofwQrS8asOiZ1OLRVE8U1/MS5KEXEiOPRP0TIb8wEAxYXCmYBJKb95SRiiH0kPU4ik7Zi5CLljB63T3OZ2hDKfCNEri92lKtSFVVcUuzKnW1kwEa2srSBLZUXOU6+vF7I4vL3bIz8kMZYFQmpZXgB8f/jEZLVOmagCkDx1EsliwLW4bc57ZAFOZUmdRB+V0QlJVqt/4BpZu34bv9ttn+nIqgqWpiVx/P0a+lEqaLpTO2yehUFpaWtCjUbRoFBBzlAeHDnJoSJyjvbodwzD+RBRKsfHW5mujc7gToxAWdir2hfbRn+wfY3fNFCpDrIvHV+dOhWkh1wr1QqMtr6ZC6cuYafWzR6EEcFy8hnwwWCThk0Xs0T+AquK++qpzdGXzmIfAPKGcx5QgCOVIkVA2uBoKM5QVWl4LimajLhbj3fFuqvSCiuGcu+TiVJRCdASh1KOxs+4AVHy+SYXymPasmeyghBJZrMc7xvLqL2wizGWbs2k/9esOwulwMblxuhFOh6k7i1lESVWLr9NzoVDKdjuWxsZidQjA5qbNrK1dy0JZBIycixlK2e1GslrJh0Ms8i4C4CcdP8GhOooKqYnMwUPYLrpo1lrALE1NIpDlAuwgnOuwNDWBppEftbDPHO4AWZ5Ux1+pOqQQzBNYRSqf4uHjD+OyuIqbs0Y6fUH//NW6OvSREfR0mjZfG7FcrJhgfSq2d21HldUxwVrZY51IdjuWpskpuaVNJxHM05/sJ5UXydzBRBCv1YsSF/+fTZZXgP/f3p2Hx3VWhx//njuLNJrRPpIc25FkO3ES5CWLKSUk4GwQaLMRSolNlsaUFrdNaejD1hKekEBDKaW/srUUQxZsnrYQkqalSdM4yQ8IPyCBWN6dxLvjTdY6kkYzmnl/f9x7RyNZiqVZNaPzeZ55Ys3cmfvqlTKac895z1u5fAUA0W3bZvS8yLObqVq1atZ9P6r8aECpMmLV1pDs66e5ym7/fVZFM8lIZOYlr87C93C8MnVfTcIuOSnlBi0TedL2jTTGkBgYyCpDCc5WJM5V7jcSP2J/cCnmHpQwFlA2Uz1u25CeaA8Niapxx5Qit1lVw2gFCZOgd6Q3L+c5NXyKpqQ9T1aG63C94UY7AJtBR+aZ8C9aNC6grPHX8L33fI+GZAA8HqSy8g2enRkRwRNuJNHVxVmhs/CKl/5YP5fOvzS1CTqAMYboLrvD62zlqauj7XuPUPe+3yv2UNQEk20dEt29C39bG1YgMNXTxp7vXNiLuVuHNHYA8Itjv+DcunOxxGL0mJ0t85XhHpQub5OzdcgZOr0aY/ifA//DW856y7htfwBG9r6Gf9GiaXcJ9obtC1rp+9W6Za/HBo+llu5Afi62ZaPygvPB42G4s3Paz4kdOsTIK69SfeUVeRyZUjYNKFVGPDV2d9b22nYqPBXMG3Ua6cw4Q2m/aTfExz7wVY/aXe1KObiYSLxerJoa+8rz8DCMjuLJRYZyGiWv7nqdoq+hdDLOjSZ42hrKuqSz4X0J/8zdkteauP37m491lPFk3G5clXAyuhmuRfQ0NOb1A5N/8WK78c2EErZkJGIHsnnaqsPu4ngKr+VlYbX9+z4xqzF64iSJ7u5Z2+HVVXXxxRn/fFX+uE2E0gPKkd17qDhv6v0n0/lTGUr7fbm9pj3VqTO9IQ+U5x6ULm+zE9ylB5R9pweUu7p3cSRyhHe2vfO0x2J791GxaPpl62OdoNMCyoGxgNKttLJCoVlXvWAFAlQsXUq08/R1lFOJPPssAKErNKBU+acBpcqIu4by95b+Ho9e/yj+IbtNZ6Ylr5WDo6k/qqFRD3i9s+4NPVt2iWpvanNiK9sMpdMh90zihw/b7e6dzaSLxQ0WG5KVqZJXYww90R5qEvbPuqSb8jhlnNUxO+uXj3WUbiBel3AC8AxLR4O//Raqfvu3czauifyL2kkODY0rCwQ7oMxnWbPbxRFIlb1evvDycceM7HbWu83iDKWavdzySjegTEQixA8dovL86QWUVm0tViiUutDnsTxc0GBf3EhvyANj3X7Lkfv3aPTECZqrmgn6guzrO70xz9MHnsYjHq44e3xQlIxGiR85Mu0OrzC2hnK0q4vWmlaAVKfXo4NHmRecR7Kvb9aWhwaWL2d427Yp15pONLD5WSrOPQf/2ZPvT6lULpXfBkeqIDy1NZjhYXwJaK1pZeiVl5z7Z75tCEBywG7ws79/P4G4hVVVNSs3HM+Gp66ORF8fSadMtVAZytjhI/jmzy/65uFuQFmbqEgFRoPxQeLJeFlkpaWqCjwequytNvOSoXSDVDcL6mZFZyr8kY/kbEyTcbMGsb178bWMrQNLDEbysn7S5Q03pjoh3nDODSyqXUQ4EB53zFiH1+kFAEqlsyor8TQ2ptamj+x5BYCKpdP7fbL3olyQWkMJ9n6Uvz7xa5Y2OBnKo8fA602t+StH3iYnQ3niJCLCoppFp2UojTE8feBpVrWsor6yftxjsf37wZhpd3gFsPx+rNpaEl2nCPqCNAWa2N+3n6H4EP2xfjtD2Xt41gaUlcuX0ftv/0b8wAH87e1veGyir4+hX/2KxnXrCjO4Ikkmkxw+fJjBwcFiD6WkBYNBFi5ciJXF58SiBZQi0gBsAN4JdAGfMsZsmuQ4AR4A3F1bNwCfMM4lGhH5FvAO4FzgTmPMg2nPXQZ8GbgEaDTGlFeEUkRud8hEfz/ecHhs3cFMu7zWjm2n0XK2HVBWxkxJBxZTyXmGsq4WMzSEicUQv10ybEZHiR08RGzva4y8tpfY3tcYfOEFAsuXZz3+bKUCylE/Q6NDREejqcCyKmYhfn9JZ6VFBCsUojJqN+PJR4bSbVrhZkHzsZ9jLqS2Dtm3j+Bb35q6PxkZzGtA6WlsJNHdjUkkuLrtaq5uu/q0Y6K7duJbuDC15lWpmfLNH9s6JJXxnmaGEuzlB/GDY1tWXNN2DVtObuG8evs1Ro8fw9vclLc1zrOBp64OfD5GT45tHfLLY78cd8xrva+xv38/H7zgg6c9f6YdXl3ecJjRLvtiX1tNGwcHDqY6vI7tpz07A8rACrsxz/DWrWcMKCM/+SkkEmW/frKrqwsR4bzzzssqGJrLkskkR44coauri+YsKtmKmaH8OhADWoALgf8SkS3GmO0TjvswcCOwEjDA08Be4J+cx7cA/wp8cZJzxIF/A74BPJbrb2Au89Q4XUtTAaWdKZtxQBm0szqJ/n7mVdnlPRUjyZIufZyKp66O2IEDqUY6ngz2EExnOVdRT/z9V4gfPUps72vE9h/AxOOpY7zz5hFYtoyG227N6ly54AaUIScb2RPtoXvELn0NxEo7O+nyhEJYg1EqPZV5yVC6rxmIQVwEq+rMTUCKwdvSglRVjds6BJyS14b6yZ+Ui/OGmyCZJNHbi7dx8i03Rnbu0nJXlRXf/PmM7NkDQHT3bqyamhntGelfuIDBn/8cYwwiwsUtF7Ppd8aup8ePHivrhjwAYll4m8KpsvjFdYt5Yu8TDMYHU3tNPn3gaQThqrarTnt+bO8+EMHf3jaj83rD4VRZfFtNG88eejYVULprKH0L5mfzreVNxZIlSCDA8Nat1F533RseG3n2WTyNjVQ6QWi56u3tpb29XYPJLFiWRUtLCwcOHCi9gFJEgsDNwDJjTAT4qYj8B3Ar8MkJh98OfNkYc9h57peBP8QJKI0xX3fuj048jzFmN7BbRM7cy1vNiNtMxy3fHMtQzuzKnog4pZu9tATt0jjvSKJsA8pEXx/JgQiQfYbS7dra/fDD+M8+G/+SJYRWr8a/eAkVSxbjX7w4L/v9ZcoNfoJx+42/e6Sb3qj9e1MRK4+LCFZ1NclIhMZAI13R/JW8VkYTJEKhopcxT0WcD3rpnV7BDij9rflbzzPWdOPUpAFlcnCQ2IED1Fz3u3kbgyp/vvnziTz3HMYYRnbtpnLp0hkt0fAtWIAZGrIvfNSffoElfuwYgWUduRzyrGTvRXkSgEU1dlXD/r79dITt7/3pg09zUfNFp5Wtg93h1bdwIVZFxczO2djI8HZ76422mja6o9280muXLc8LzmOwry91sXa2Ea+Xyje96YyNeUw8TuT//l+q33nNrP0bkSuJRAJfCVc2zRY+n4/RtL11M1GsDOVSIGGM2ZN23xbs0tWJOpzH0o/L+TutiHwYOxtKa2trrl++7HjSSl7BCSi93oyyTJ6aGpL9/axeeDP7+/bjjR4ri+BiIk9trb2hdY9d5pntGsrg5ZdzzjP/iyccnvEf1WIQy14bG7D7N9kZSqc5j38kWTYZyuTAAOFAOD9rKKOnCHgDWEMjeS0dzYWKRYsZfvnlcfclBiN5LdP1pppunITzlp72eHTPHjCGygtmd4dXNbv55s/HjIyQ6OpiZM8eam+6aWbPdy4Gxg8fPi2gNMYweuwY3qtPL9cuN77mZkaci06L6uyAcm/fXjrCHezv288rPa/wiTd/YtLnxvbum9H6SZe3KUzipP3e7Dbm+X9H/x+C0FQZpn8WN+UBuzFPz/e/j4nHp1wiMvTSSyQHBqi+8soCj644yq3fRjHkYg6LdekiBEzsJtIHTPYJe+KxfUBIcvwbZIz5ljFmlTFmVZOzWFxNzXJLXvucgLKvD09dXUa/lPbawj6WNy3ny6u/jBkeLs+A0ikHdrv7ZdpQxeU2dyiFYNJlBYNUjNhrDHuiPan9KL3D8bIIKK3qahKRCOFAOD9rKIdP0VjZaJeOzvItJfyLFhF//XWS0bHikeTgUF5/zh6niUni1ORzP7LLXe+mJa8qc25J5OAvf0lyaIiKGayftJ/vbB3i/C1Il+jpwcRi+Mq4w6vLzlDawd3Z1WfjFW+qMc//HvxfgEnXQZtEgti+ffgzCCg9jWGSQ0Mkh4ZSnaBfOv4STYEmPEMjkEzOuLlgIQVWLMeMjDDyyitTHjOweTNSUTFu/bpS+VasgDICTKz3qwEGpnFsDRAx0+2brPLCLXlN9NuxfqK3N+Orelbt+O0vkkODZRFcTOQGlLFDh5CKipIKBHPFCgbxjyQA6I520xPtodJTCcPRsviZW9V5zlAOn6Ix0EgiMoAVmt1NZfyL2sEYYgfs5iMmkcAMDeW5y6sdUI52TR5QRnftxqqtndF6N6UmcveijGy29/mb6QWKVECZ1unVFT96FABvGe9B6fI2N5Ps6yMZjeKzfJxdc3Zq65CnDzzNivAKjP1JaAAAIABJREFU5gVPn4f4669jYjEqZrBlSOqc7nvEqVOcXX02gjA8Osy80LzU55CZ9oIopEqnwd7wFGWvxhgim58l+Na3luWFeTV7FSug3AN4ReTctPtWAhMb8uDct3Iax6kCcjskpq+hzPRN2FNblyqdBSeLUYZvhO760vihg1hZlruWKisYxBoawWt5UyWvdZV1JAfL4yKCJ1RNcmCAxkAjvSO9xBPxMz9pBk5F3Qxlfrul5kJq65B9dsYh6bR1t/KYWbVCIcTvZ/TU5MF8dNdOKs8/X0ukVFZSAeVPfgKWRcU5M2vT4AmF8NTWEpskoHT3oJwrGUog1XV1ce1i9vbt5fDAYXac2jFpdhJg5NVXATLKUI6ts+7C7/EzP2T/LOdVzRtrLjiLS159CxfiqatjeGvnpI/HXn2V+OHDhK4o7+6us10oFErdLMsiEAikvt64ceO0X2fbtm28613vIhwOT/p3q7u7m5tuuolgMEhbWxubNo3fLGPTpk20tbURDAa58cYb6e7uzvp7m0pRAkpjzCDwKPA5EQmKyNuAG4BHJjn8YeBuEVkgIvOBjwEPug+KiF9EKgEBfCJSKSKW85g4j/mdrytFZO6lhfJA/H4kEDit5DUTnpqJGcpyDSjdDOVhPFk25ClVVjBIcmiI+op6ekZ66In2UF9RXzY/81TJa6X9ocXd5iNX3AxlMhLJa2CWC25be7cxTzJiN6PKZ6MoEcETbiTRdXpAaRIJRnbvmdH2DkpNxlNTgxUKkezvx9/WhhWYebdl38KFqb0s08WPzqGA0uko6XZ6XVS7iEP9h3hy/5PA5OWuANHtO8CyqMxgL9mxKoaxrUPA2TIklaGcvQGliFC5YjnRrdsmfXzAyZqHVq8u4KjURJFIJHVrbW3liSeeSH29du3aab+Oz+fj/e9/Pxs2bJj08T/5kz/B7/dz/PhxNm7cyEc+8hG2b7dzbtu3b+eP/uiPeOSRRzh+/DhVVVWsX78+J9/fZIrZ/mk9EABOAN8HPmKM2S4il4tIJO24fwaeALYC24D/cu5z/Q8wDFwKfMv599udx9qcr92M5jCwOy/fzRzkqakZ15Qn0zdhT20tyYEBuyQumbTL4soguJjIDShNNDpn98CzgkGSg4PUV9bTHe2md6SXhsqG8slQVocgkaDJqdLP5TrKeDJOz0gP4UCYRGQAzywvebWqqvDOm5dqupFwAsp8Z1a94aZJS15jBw5golEqzteGPCp7bpayIoOgBuyy18lKXkePHwOfD88U296Uk4kB5eLaxYyaUTbu3MgFDRdwdvXkHaGHt3ZSsWRxZk0A3XXWTkDZWm035pkXnDfWrX4WZygBAsuWM/Lqq6mqj3SRzZupXL4cX0vm2z+o2eO8885j3bp1dHSc3ot0cHCQH/7wh9x3332EQiEuu+wyrr/+eh55xM7Nbdy4keuuu463v/3thEIh7rvvPh599FEGBiZbXZi9ou1DaYzpxt5fcuL9P8FuxON+bYCPO7fJXmf1G5xjP3bmUuWBHVCmr6HMMENZVwvGkBwYSHUtK4fgYqL0P1JWzRzOUA4OUl/ZSne0m+5oN23VrWUTULrrGhuTdsYil+soe6J2A6NSKXkFqFi8KLUXZTLilLzmscsr2J1e3XVo6aI7dwLoHpQqJ3wLFjCyJ/OMt2/hQiLPP5/ai9IVP3oMX0tL2W/3AGklryecrUNq7TL5ruEubjn/lkmfY4wh2rk145JOb0MDiKQuOrXXtgNuhtLODs/mNZQAlSuWQzJJdMcOqt785tT9oydPMtzZSdNdf1bE0RXXvU9sZ8fr/Wc+MAtvml/DZ6/LbrOJTZs2vWG2sLOz84w7TuzZswePx8PSpWMdzVeuXMnzzz8P2BnKSy+9NPXYkiVL8Pv97Nmzh0suuSSr8U+m/N+xVN5YtTUk+/pJRqOYkZGM34SttC1IEu46q2D5ZSit6mrweADmfIayoaLB7vIa7aHRUwOJRHkElNV2sFQ/alfWTzeg7I+d+Q+gm+1s9NfZnZBneckrgL99EbF9+zDGkBx0M5T5Hbc33DjpGsqRXbvA58toqwGlJkplKJdmmqG0tx5x92F0xY8dxTuvJevxlQJPXR34fIyeHCt5dV3Tds2kz4kfOUKip4fAiuUZnVO8Xjz19amS1+Xh5XjFyzn154yVvM7yC74BtzHPhLLXyPPPgzG6frIErFmzht7e3ilv09m+MBKJUDshm15bW5vKQJ7p8VwrWoZSlT5PTa395u6WiWRR8grOOsykvaVEOZa8ioid1e3pyXrLkFKVCigDDZwYOsFIYoRwMug8Vvo/c/dCQU3cfmudTkD5/KHnuevZu7iw6UI+tPxDXLbgskkX37vrMd35KoWLEv5Fi0hGIiS6ugqyhhLA09hI4lQ3JpFAnAs4ANGdu6g45xzE78/r+dXc4G+1yzEzzXj73b0ojxzB1zxWnjh69BiBiy7KfoAlQCwLbzicylAGfUFaqlqo9lePCy7TRbfa3U3dbqeZ8DaOXXRa0bSCF9a8QMAb4HhfH1YwOOX+jrOFt7ER3/z5pzXmGXj2Obzzz8q4DLscZJs5LCWhUIj+/vEXo/v7+6l2Phuc6fFc0wylypi7hnJs3UGmXV7H9rRMDg0B5RlQwlgpjWfOdnmtwoyMUO+tZSQxAkC9sctDrarZn3E7E7fk1RqMUuOvOWNA2R3t5p4X7mFhaCGvD77O+mfW8/7/fD9P7X+KRDIx7lj3tdzsZ75LR3PB73R6Hdm7r6BrKEkmU+9LrujuXbr/pMqZ2pvfx9nf/ja+DLeg8bkB5eGxvShNMkn8xAl8c2DLEJe3uSmVoQT41G99ik+/5dNTHj/cuRXx+6lMK/Ob8TmbwiROjr03B7z236Bstj8rtMoVK4imbR2SjEYZ/NnPqL7iSu1iXQI2btw4rhPsxNvBgwfP+BpLly5ldHSUV9L2JN2yZUtqvWVHRwdbtmxJPbZ3715GRkbGlcjmkgaUKmOe2hqSfX1pGcpsA8resYCyDMofJ+POkTWHu7wCNJqxCwZ1CTdAKv2LCB6n5DUZsfeifKMur8YY7n3hXgZiA/zDFf/Aj2/6Mfe97T6io1H+8vm/5MbHb+RHr/wotfWIW/JaO2pn2EpiDeWidsDu9JpaQ5n3gNLdFmBs7kdPniRxsks7vKqc8YSChC57W8bPd0tm40fGAsrEqVMQj+NtmTsBpa+5mfiJsYDyqrarePO8N095/PDWTiovuCCrLKKnMczoqdPfmxO9mXerL7TA8uXEjxxh1NkGYvDnP8dEo4Su1HLXUrB27dpxnWAn3tySV2MM0WiUWCwGQDQaZWTEvhgfDAZ573vfyz333MPg4CA/+9nPePzxx7n11ltT53jiiSf4yU9+wuDgIPfccw/vfe97NUOpZh+rpobk0FDqg1s224aAvadlaq+6cs1QOsHz3M1QOgFlcqzNfm3CP+6xUuaWMicG7IDyjTKUj7/2OJsPbebPL/5zzq0/F5/Hx43n3MhjNzzGl9/xZQLeAPe8cA/v+dF72LhzI69HXifgDeCP2gGmG7zOZt6zzkIqK52A0slQ5vn/ba/THTORto4yustu7q0dXtVsYQUCeMJh4kfGOr3G3T0o51KGsqmJ0ZPTW2tuRkeJbt9B5YoV2Z0zHGa0qwu75+MYe/uzEslQLl8GjJUARzY/ixUMEnzz1MG4Kj0HDhwgEAikso6BQIDz0kqav/GNbzA8PExzczO33HIL3/zmN8dlKP/pn/6JtWvX0tzczMDAAN/4xjfyNlZdQ6ky5qmx33jjhw/ZX2f4Rmylr6F0M3jlGlCmMpRzM6D0OEFjbWJsO9jquJdY2mOlzC15TQ5EaJzXyLauyfcKOxI5wgO/fIBVLau49U23jnvMY3l4Z/s7uabtGn72+s/4l85/4YFfPgDAwtDCgpWO5oJYFv72dkb276OifRFWVdW4dY354Gkcv88cQHSX0+FVM5RqFvEtmD8uQ+kGlN45sAely9vcTLKvj2Q0ilVZ+YbHjry2FzM8TMAJpjI+ZziMiUZJDg6OW9Od6OvDWyLBfKCjAyyL4c6tBC+/nMhzzxG8/HJdIz4L7d+/P+Pntre3n3bhI11DQwOPPfbYlI+vWbOGNWvWZHz+mdCAUmXMU2tnFmMH7FrvjLu8+v1IIDDH1lDO7ZLXmtGxcqVg3CJGmWQog1VgWSQiU2coE8kEf/XTvwLg85d9HksmLxQRES5bcBmXLbiMXx//Nd/d/l0W1y4mebQwpaO54l/UTnT7DrxNTQUZs7fJDSjHStpGdu7CN39+yayPUnODf8FChreNXXQaPepmKDNbl1mKUluHdHWlGhVNJeo0ocmmIQ+MlcUnurrGB5QltIbSCgapWLKE4W1biW7fzujJk1RruasqIi15VRlzt/uIHTqIBAJYFRVneMbUPLW1JPr6SA7aAaWUbUDplLzO0QylGzRWO11QPeKhImZffSuHiwgighUKkRyIEA6EGR4dZig+NO6YR3Y8wkvHX+JTv/Up5ofmT+t1L265mK9e+VX+4pK/IBmxW36XQlMegIpFi4gfPkyiu6cgAaUVCiF+/7itQ6K7dlFxgZa7qtnFt2AB8aNHMQm7AVf82DHE78dTX1/kkRWO1+lwO5q2jnIqw1u3YdXU4G9ry+qcnvDpVQwmmRxXJVUKKpcvJ9q5lYFnngGPh9Db317sIak5TANKlbFUyevBQ1lf1bM7xvalMpTlUP44mble8uoGlJUxg0c81FXUYcqsEZMnFCLprKGE8VuH7OnZwz/+5h+5qvUqrl9yfUavn9p+owTWUILT6TWZJLpzZ0F+xiKCJ9xIwslQJoeHie3frx1e1azjW7gQ4vFUMDV67CjeefPmVJfOVIbyxMkzHGk35AksW4ZY2X109YZPr2JIDg5CMplxt/piCKxYTqKnh94f/JCqiy8uqWBYlR8NKFXG3JLX0RMnsn4j89TWkuzts9/Ufb6yXQcQuuIKGu64A397e7GHUhRuQGGGhqmrqKO+sn6sEVOZBJRWdTWJSIRw5fiAMpaI8amffIoafw33vPWejD80JiIRsCwkEDjzwbOAv93eOmT06FGsUGF+xt5wUyr7MPLKK5BMZrxfoFL54luwAID4YbsxT/zYcXxzaP0kTD9DmYxGGdm9J+tyV0gPKMcu9iX6+gBKpuQVxkp/E11dhK7QcldVXBpQqoylZ9myDSitWntPy+TQUFmUPk7F19JCyyc/kffGJLOVGzQmBwepr6ynobKB5OAg4vfP+s2kp8uqtjOUjQF7nY4bUH795a+zp2cP9156Lw2VDRm/fnIgYpd1lkgWw7+oPfVvT4HWfdobl9vZh+jOXQBUaIZSzTL+hXZAGXMa88SPHZ1THV7B+ezg843bi3Iy0R07IZEgsCL7gNJTVweWxWjXWFY00eNuf1ZCAeXSpamL77p+UhWbBpQqY+lX8rIueXXXUJZ5QDnXpQeUf3rRn7Ju+ToSg4Nl9TP3hKpTTXnADih/ffzXfHfbd7n53Jt5x9nvyOr1k5FIwQKzXPCEQqmytkKt+/SGG1NrKKO7dmKFQqlskFKzhXf+fBAhfvgIJpFg9PiJObUHJdidoL3h8BlLXqPb7O0xcpGhFI8HT2ODve+nI5WhLKGyUfH5qFy2DP+SJXO26knNHtrlVWXMqqhAKiowIyPZl7zWpAWUZbDBvZqcVFSAx0NycJCrWq8C4PWhx8um3BXszH3ytdeoq6jDIx4ODhzk4R0PsyC0gI+/+eNZv35iMFIyHV5d/sWLGT15smDj9jQ2kjjVjUkkGNm5i8rzzy+ZjK6aOyy/H29zs71BfVcXJBJzLkMJ4G1uOmOGcrhzK9558/A5JbJZnzM8fv/LRJ+ToSyhkleA+Q/8DSSTxR6GUpqhVNlxt7/IxRpKE42S6OnBqiqf4EKNJyJYwWBq3SRgZyjLKKD0OCWvHstDQ2UD/7rrXzk6eJQvXP4FqnzZXyxxS15LiVv2Wsg1lCSTJLq7ie7Zox1e1azlW7iQ+OHDjM7BPShd3qYmRk++cYZyeGtn1vtPjjtnWlk8lOYaSgB/a6tmJ9WsoAGlyorlNObJuuTVWbcQP3q0rMof1ekmBpTJMgsorZDdlMcYQzgQZtSMcueyO7mo+aKcvH4yEsEqkQ6vropFdmOegq2hdPaZG/r1bzBDQ9rhVc1avgXziR85QnwO7kHp8jU3E3+DktdEby/xAwepXL4iZ+f0hsPjm/L0OhnKObpHtFLZ0oBSZcXdOiT7klenY+yxYxpQljkrWDUhoBwqr4CyOgSjo5holHPrz2V5eDnrV67P2esnIxE8JbIHpcvvBJSFyqx6G+2AcvCnPwXQDq9q1vIvXEj82DHiR+xOr96WliKPqPC8zc0k+/pIjoxM+vjwtu0AOWnIkzpnuJFEVxfG2PsgJ/v6sILBsu0wrworFAqlbpZlEQgEUl9v3Lhx2q+zbds23vWudxEOh6e1bOPll1/mkksuoaqqiksuuYSXX345m29jRjSgVFnJVcmr5WQ4TTxeVsGFOt1pGcqhMmvK43Q/TgwMcP/b7ufhdz+Mz5O7DraJSOmVvFZecAESCKS2EMk3T6PdECnys5+C14v/nHMKcl6lZsq3YAEkkwy//DJSWVlSTWFyJbUX5RRlr9GtnQBUdnTk7JyecBgTj5Ps7wcg0dtXcuWuavaKRCKpW2trK0888UTq67Vr1077dXw+H+9///vZsGHDGY+NxWLccMMNfPCDH6Snp4fbb7+dG264gVgsls23Mm0aUKqsuHtRZttq2810AmUVXKjTeU4reS2zDGXIDiiTkQgigtfKbe+zUix59TY1cd6vfknwt99SoPM5+8y9fpSKxYuxNOugZinfgoUADL34Er558+Zk86gz7UU53LkV/+LFqYt1OTln4/i9KBN9fVgltGWImhvOO+881q1bR8c0LqY899xzjI6O8tGPfpSKigruuusujDFs3ry5ACPVLq8qS1auSl7rNKCcK6xgcNyV6HJbQ+lxgr3kwEDOX9vEYnZX5RLLUAKIt3B/bqxQCPH7MbGYlruqWc3n7EWZ6Omh4rzzijya4khlKCdZR2mMYXjrVkJve1uOz+kGlKeoWLKERG+vZijLwX9/Eo5tze855i2Hdz+Q1Uts2rSJ9eunXgrT2dlJa2vrjF5z+/btrFixYtxFqRUrVrB9+3auvfbajMc6XRpQqqzkrMtr2kJ4DSjLm1UVJOFkKI0xZRdQWqmS10jOX9udt0Lt51iqRARPuNHOUJ6vHV7V7OWbNw88HnvLkDnY4RXeOEM5euwYia4uKnO4fhLspjwAo112EJvo66NiDm7ZoopjzZo1rFmzJqevGYlEqJ1wUaS2tpaBPFzcnowGlCorodXvIH70aPZrKKurQQSM0YCyzNlrKIcAMCMjkEiUV0DpBHvJSO7fxJMRO0i1clj6Va68jWFGXz+qGUo1q4nXi6+lhfjrr+OdowGNp64OfL5J11AOd9rZpsDy3AaUHqdxV8LZOiTRp2soy0KWmcNSFgqF6HfWBLv6+/upLtDnBV1DqbISWL6c+V/4PGJl96skloXlZCnLKbhQp3Ob8hhjSA7ZgWU5XURwS14TebgqmAooC7SfYylzMxBztYxQlQ7fQnsdpW/e3NsyBOy//95weNIMZXTbVvD5qMjx1j+e2loniLU7vdoB5dxriKSKY+PGjeM6wU68HTx4cMav2dHRQWdnZ6pzMdils9NZf5kLGlCqWcO9OmgFyye4UKezgkF7W41YLNWcp5wuIrjZw2Q+Sl6dILUU11AWWsU551Bx7rl46+uLPRSl3tBYQDn3tgxxeZubGD15ekA53LmVyvPPz3ljLbEsvA0NjHZ12RfqEgnNUKqCWbt27bhOsBNv7vpJYwzRaDTVqTUajTIyxfY6q1evxuPx8I//+I+MjIzwta99DYArr7yyIN+TBpRq1nDXUZZTtkqdzg0ek4ODaQFl+fzMrWAQRPJU8urMV0hLXs+k6c/vov3f/63Yw1DqjHwL5gPgnaMZSrAb80wseTWJBNFt23Je7po6ZzjM6KkuEn19QPa9IJTKtQMHDhAIBFJZxkAgwHlpVTfvfve7+cIXvgCA3+/nscce4+GHH6auro7vfOc7PPbYY/gL1OVc11CqWSOVodSAsqxNHlCWT4ZSLAsrGMxLU57koJa8Tpd4vQXtLKtUpkKXXcbQL36Jv72t2EMpGl9zM0O/enHcfbF9+0gODlKZx4AyfvIEiV43oNQMpcq9/fv3Z/zc9vb2cSWsE/33f//3uK8vuugiXnrppYzPlw3NUKpZw93TspyCC3W6yQJKT5n9zK3q6rxsG6Ilr0qVn8DKlbQ9/BBWRUWxh1I03qYmkn19JNPK+Ya3bgMgkOMOry5PuJFE1ykSfb3211ryqlTGNKBUs4alGco5YVxA6TTlkTL7mXtCIRL5LHnVLq9KqTKS2jokrew1urUTKxjEv2hRfs4ZbmL01CkSPRpQKpUtDSjVrKElr3ODu16y/DOUeSh5jUTA60XmcCZDKVV+xvaiHAsohzu3UrlsWdZd5Kc8Z2MjJBLEDuwHdA2lUtnQgFLNGt5wE3g8mn0pc1ZVea+hBLCqQ3kpeU1GBvAEg4hIzl9bKaWKxdvUBJDaOiQZixHdvTtv5a72Oe2thWKvvQaMNQZUSs2cdixQs0bde2+isuNNeDSgLGvl3pQHwBOqJpbFQvypJCIRveCilCo7YxlKO6Ac2bUL4vG8NeQB8DQ22ud69TWsqiqkQN0wlSpHmqFUs4ZVVUXVRRcVexgqzyaWvIrfj/h8RR5VbtkZynyUvA5iaUMepVSZ8dTVgdebWkM53LkVgMCKFXk7pzdsZ0Vj+/ZhaYdXpbKiAaVSqqDc9ZIJpylPOa6Z9eSpy2tyYEC3DFFKlR2xLHsvSidDGd3aiacpjLelJW/ndEteTTyu6yeVylLRAkoRaRCRH4nIoIgcEJE1UxwnIvJFETnl3P5W0hYQici3RGS3iCRF5I5Jnv8XInJMRPpE5Dsiot0slCoiNyPpZijLrdwVwApVY+LxcS3wcyExGMET0pJXpVT58TY3jWUot24jsHxFXteLW6FQqsxVO7wqlZ1iZii/DsSAFmAt8E0R6ZjkuA8DNwIrgRXA7wJ/lPb4FmA98OuJTxSRdwGfBK4C2oHFwL05+w6UUhmxgkGSg4MkyjWgrLbLUnOdpdSSV6VUufI2NTF68gSJgQFie/fmtSEPgIjgDdtZSk+tZiiVykZRAkoRCQI3A58xxkSMMT8F/gO4dZLDbwe+bIw5bIw5AnwZuMN90BjzdWPMM0B0iuduMMZsN8b0APelP1cpVRx2QDlUthlKt7FUItcBpZa8KqXKlK+5mfiJk0S3bQPIa0MelycVUGqGUuVOKBRK3SzLIhAIpL7euHHjjF7rK1/5CvPmzaO2tpY777yTkSkqn/bv34+IjDv3fffdl4tvZ1qK1eV1KZAwxuxJu28L8I5Jju1wHks/brJM5mQ6gMcnPLdFRBqNMadmMF6lVA65Gcrk0FBZlnC6WcRkJLeNeZKRiHZBVkqVJW9TE8m+PoZefAmAwLJl+T+nG1DqGkqVQ5G0v/3t7e18+9vf5uqrr57x6zz11FM88MADbN68mfnz53PTTTfx2c9+lgceeGDK5/T29uL1Fj68K1bJawjom3BfHzDZJ6WJx/YBIZleYf1kz2Wy84jIh0XkRRF58eTJkxMfVkrlUCqgLPMMZS5LXpOxGCYexwpqyatSqvy4W4cMbN6Mv62tIFlDr7N1iGYo1Wz00EMPsW7dOjo6Oqivr+czn/kMDz74YLGHNaliZSgjwMQdZGuAyT59TTy2BogYY0wG53H/fdp5jDHfAr4FsGrVqum8tlIqQ1YwSKK3l+TgUFkGlFaq5DV3GUo3ONU1lEqpcuRtsrfxGNm5k5rrrivQObXktZx88ZdfZFf3rrye4/yG8/nEb30iq9fYtGkT69evn/Lxzs5OWltb2b59OzfccEPq/pUrV3L8+HFOnTpFo3MxZKK2tjZEhGuuuYYvfelLhJ0sfL4VK0O5B/CKyLlp960Etk9y7HbnsTMdN5nJnntcy12VKq6yz1CmSl5zmKF0Smg81RpQKqXKj5uhBAgsz3+5K6StodR9KFUBrVmzht7e3ilvra2tgF06W5t2scP998Ak1U/hcJhf/epXHDhwgJdeeomBgQHWrl1bmG+IImUojTGDIvIo8DkR+RBwIXADcOkkhz8M3C0iPwYM8DHgq+6DIuLHDowF8IlIJRAzxiSd5z4oIhuBo8BfAw/m7RtTSk1LuQeUVh6a8iScgFIzlEqpcpQeUBaiIQ/oGspyk23mcLYJhUL09/envnb/XT1JL4VQKMSqVasAaGlp4Wtf+xpnnXUW/f391NRMLArNvWJuG7IeCAAngO8DHzHGbBeRy0UkvU7sn4EngK3ANuC/nPtc/wMMYwej33L+/XYAY8yTwN8CzwIHnNtn8/g9KaWmwQoGSfT0QCKBVVVV7OHknBskJ6dZ8moSiTMe476WrqFUSpUjT10deL3g9VJ5wQUFOWfo7W+n+ROfILBy5ZkPVipHNm7cOK4b68TbwYMHAejo6GDLlrG+pFu2bKGlpWXKctd0bquZ6a0QzF6x1lBijOnG3l9y4v0/wW6m435tgI87t8leZ/UZzvP3wN9nM1alVG5ZwSpMPO78u/wylOLx2FnYaZS8Dm/fzoFbb6P+995H08c+huVstD1RctAJKLXkVSlVhsSy8DY14a2vx6qsLMg5rcpKGv/gjoKcSynX2rVrp1WOetttt3HHHXewdu1azjrrLO6//37uuOOOSY/9xS9+QV1dHeeeey49PT3cddddrF69elzJbD4VM0OplJqj0oPIcgwowS57nU5TnlPf+heIx+l+6GH2//4HGNm7d9LjUmsoteRVKVWmGj64loY7bi/2MJRC67WcAAAPqklEQVSaFa699lo+/vGPc8UVV9DW1kZbWxv33ntv6vGOjo7UvpZ79+7l2muvpbq6mmXLllFRUcH3v//9go21aBlKpdTcNT6gLL+SV7Cb55xp25DYgQMMPP00jevWEbjoIo5++tPsu/l9tHz6U9S9732k747kBqe6hlIpVa4a160r9hCUyqn9+/dn9fy7776bu+++e9LHtm8f61F6yy23cMstt2R1rmxohlIpVXCeuZChDFWTOEPJ66kHH0Q8Hupv/SDVV17BoscfJ3DhSo595h6OfPQvSPSNbaPrZiitSRbjK6WUUkoViwaUSqmCG5ehLMOmPGCvdXyjpjyjp07R9+iPqL3xBnxOd0NfSzOtGzbQ9LG7GXjmGfbedBNDL70E2Gsoxeebco2lUkoppVQxaECplCq4ubCG0hOqfsOS156NGzGxGA1/cOe4+8WyCP/hH9K+aSPi9XHg1ts4+dWvkejt03JXpZRSSs06uoZSKVVw6UGkp0wDSqu6OrV35ETJoSF6Nm4idNWVVCxeNOkxgRUrWPTooxy/7z66vv51sCx8Cxfmc8hKKaWUUjOmGUqlVMHNiQzlGzTl6f3hoyT6+mi8840bUHhCQeZ/8QHmf+lLWIFAqjRWKaWUUmq20AylUqrg5sQaylA1JhYjGYuNW/doRkfp/u53CVx8MVUXXzSt16q97ncJXvpWTCKRr+EqpZRSSmVEM5RKqYJzA0rx+ZAybTJjVdvrHSdmKfuffIr466/T+KGZtcf3NjZqhlIppZRSs44GlEqpgnOzkuVa7grgcbb3SA8ojTGc2rAB/+LFhFavLtLIlFJKKaVyRwNKpVTBiceDBAJlHVBaITugTKRtHTL4wguM7NxJ47o7EUvffpVSSilV+vQTjVKqKKxgsKwDSo9b8hoZy1B2b9iAt6mJmuuuK9awlFJKKZVHoVAodbMsi0AgkPp648aNM3qtr3zlK8ybN4/a2lruvPNORkZGJj1ux44drFq1ivr6eurr67n66qvZsWNHLr6dadGAUilVFFawqqwDSqvazVDaAWV0xw4GX/g59bfdOq5Jj1JKKaXKRyQSSd1aW1t54oknUl+vXbt22q/z1FNP8cADD/DMM8+wf/9+9u7dy2c/+9lJj50/fz4/+MEP6O7upquri+uvv54PfOADufqWzkgDSqVUUXjq6vDU1hZ7GHnjlrwmnZLXUxu+gxUMUv/7v1/MYSmllFKqBDz00EOsW7eOjo4O6uvr+cxnPsODDz446bF1dXW0t7cjIhhj8Hg8vPrqqwUbq24bopQqirPuu6+sM3XpJa+xw4fpf/JJGm6/HU9NTZFHppRSSpWfY1/4AiM7d+X1HBUXnM+8T386q9fYtGkT69evn/Lxzs5OWltb2b59OzfccEPq/pUrV3L8+HFOnTpFY2PjpM+tq6sjEomQTCb53Oc+l9U4Z0IDSqVUUVQuXVrsIeSVFbIDysRAhO4HHwLLouG2W4s8KqWUUkoV05o1a1izZs0Zj4tEItSmVXK5/x4YGJgyoOzt7WVwcJCHHnqItra23Ax4GjSgVEqpPBCPB6uqivihQ/Q/9RS1v/M7+ObNK/awlFJKqbKUbeZwtgmFQvT396e+dv9d7fRomEowGOSP//iPaWpqYufOnTQXYA9rXUOplFJ5YlVX0/fjH2OiURru/INiD0cppZRSRbZx48ZxnWAn3g4ePAhAR0cHW7ZsST1vy5YttLS0TJmdTJdMJhkaGuLIkSN5+z7SaUCplFJ5YlWHIB4n9I53lH2Jr1JKKaXObO3ateM6wU68tba2AnDbbbexYcMGduzYQU9PD/fffz933HHHpK/59NNP85vf/IZEIkF/fz9333039fX1XHDBBQX5njSgVEqpPPE4nV4bP7SuyCNRSimlVCm59tpr+fjHP84VV1xBW1sbbW1t3HvvvanHOzo6Uvta9vb2csstt1BbW8uSJUt49dVXefLJJ6msrCzIWMUYU5ATlZJVq1aZF198sdjDUEqVuNc//VfEjxyh9cHvIiLFHo5SSilVNnbu3FmwDFy5m2ouReQlY8yqMz1fm/IopVSenPX5+yGR0GBSKaWUUmVLA0qllMoTEQGvvs0qpZRSqnzpGkqllFJKKaWUUhnRgFIppZRSSilVcrQXTPZyMYcaUCqllFJKKaVKisfjIR6PF3sYJS8ej+PNcnmOBpRKKaWUUkqpklJXV8fx48dJJpPFHkrJSiaTHD9+nNra2qxeR7tFKKWUUkoppUpKOBzm8OHD7N69u9hDKWnBYJBwOJzVa2hAqZRSSimllCoplmXR2tpa7GEotORVKaWUUkoppVSGNKBUSimllFJKKZURDSiVUkoppZRSSmVEA0qllFJKKaWUUhkR3RD0dCJyEjhQ7HFMIgx0FXsQc5TOffHo3BeXzn/x6NwXj8598ejcF4/OffHM1rlvM8Y0nekgDShLiIi8aIxZVexxzEU698Wjc19cOv/Fo3NfPDr3xaNzXzw698VT6nOvJa9KKaWUUkoppTKiAaVSSimllFJKqYxoQFlavlXsAcxhOvfFo3NfXDr/xaNzXzw698Wjc188OvfFU9Jzr2solVJKKaWUUkplRDOUSimllFJKKaUyogGlUkoppZRSSqmMaECplFJKKaWUUiojGlCWABFpEJEficigiBwQkTXFHlO5EpE/FZEXRWRERB6c8NhVIrJLRIZE5FkRaSvSMMuSiFSIyAbnd3xARH4jIu9Oe1znP49E5HsiclRE+kVkj4h8KO0xnfsCEJFzRSQqIt9Lu2+N8//EoIg8JiINxRxjuRGR55w5jzi33WmP6dznmYh8QER2OnP8mohc7tyv7zl5kva77t4SIvLVtMd17vNIRNpF5Mci0iMix0TkayLidR67UERecub+JRG5sNjjnS4NKEvD14EY0AKsBb4pIh3FHVLZeh24H/hO+p0iEgYeBT4DNAAvAv9a8NGVNy9wCHgHUIs91//mvPnq/Off3wDtxpga4HrgfhG5ROe+oL4O/Mr9wnmf/2fgVuz3/yHgG8UZWln7U2NMyLmdBzr3hSAi1wBfBP4AqAbeDuzV95z8SvtdD2H/bg8D/w76WadAvgGcAM4CLsT+zLNeRPzA48D3gHrgIeBx5/5ZT7u8znIiEgR6gGXGmD3OfY8AR4wxnyzq4MqYiNwPLDTG3OF8/WHgDmPMpc7XQaALuMgYs6toAy1zItIJ3As0ovNfMCJyHvAc8OdAHTr3eSciHwDeC+wAzjHGfFBEvoAd5K9xjlkC7AQajTEDxRtt+RCR54DvGWO+PeF+nfs8E5EXgA3GmA0T7te/twUiIrcDnwWWGGOMzn3+ichO4GPGmB87X38JqAF+CHwX+7OncR47CHzYGPNkscY7XZqhnP2WAgk3mHRsATRDWVgd2PMOgDFmEHgN/TnkjYi0YP/+b0fnvyBE5BsiMgTsAo4CP0bnPu9EpAb4HPCxCQ9NnPvXsKtVlhZudHPC34hIl4j8TERWO/fp3OeRiHiAVUCTiLwqIoed0r8A+p5TSLcDD7sBDDr3hfB/gA+ISJWILADeDTyJPcedaT8LgE5KZO41oJz9QkDfhPv6sMtDVOHoz6GARMQHbAQecq6K6vwXgDFmPfacXo5d9jSCzn0h3IedqTk04X6d+/z7BLAYWIC9sfgTTjZS5z6/WgAf8D7s95sLgYuAv0bnviBEpBW73PKhtLt17vPveewgsR84jF1W/BglPvcaUM5+EexUeLoaQEtuCkt/DgUiIhbwCHY24E+du3X+C8QYkzDG/BRYCHwEnfu8cpouXA18ZZKHde7zzBjzC2PMgDFmxBjzEPAz4D3o3OfbsPPfrxpjjhpjuoC/R+e+kG4DfmqM2Zd2n859Hjmfb57CvmAbBMLY6yW/SInPvQaUs98ewCsi56bdtxK7DFAVznbseQdS6wqWoD+HnBIRATZgX72+2RgTdx7S+S88L2NzrHOfP6uBduCgiBwD/hK4WUR+zelzvxiowP67oPLDAILOfV4ZY3qwszOTNfLQ95zCuI3x2UnQuc+3BuBs4GvORaxT2Osm34M9xyucz0GuFZTI3GtAOcs59euPAp8TkaCIvA24ATuDo3JMRLwiUgl4AI+IVDrtnH8ELBORm53H78GudddF6rn1TeAC4DpjzHDa/Tr/eSQizU77/pCIeETkXcAtwGZ07vPtW9gf2C50bv8E/BfwLuyy7+tE5HLng93ngEe1KUxuiEidiLzLfZ8XkbXYnUafQue+EL4L/Jnz/lMPfBT4T/Q9J+9E5FLsMu9/n/CQzn0eOZn4fcBHnPecOux1rFuwG+ElgLvE3kbNrdDaXJTBzpAGlKVhPRDAbjP8feAjxpiSuGJRgv4auxTnk8AHnX//tTHmJHAz8HnsrrtvAT5QrEGWI2evqz/C/lB9TMb2yFqr8593Bru89TD2/P4d8FFjzOM69/lljBkyxhxzb9hlT1FjzEnnff6PsYObE9hradYXcbjlxoe9TdRJ7E6WfwbcaIzZrXNfEPdhb5OzB7uD7m+Az+t7TkHcziQXSHTuC+K9wLXY7zuvAqPAXxhjYsCN2JnjXuBO7PejWLEGOhO6bYhSSimllFJKqYxohlIppZRSSimlVEY0oFRKKaWUUkoplRENKJVSSimllFJKZUQDSqWUUkoppZRSGdGAUimllFJKKaVURjSgVEoppZRSSimVEQ0olVJKKaWUUkplRANKpZRSqgBE5G9F5EdpX39JRJ4REV8xx6WUUkplQ4wxxR6DUkopVfZEpBF4DVgN/DbwJ8Blxpi+Yo5LKaWUyoZmKJVSSqkCMMacAv4BeBj4FPAeN5gUkStEpH0mrycitSLySxGJiMiyXI9XKaWUmg4NKJVSSqnC+Q2wHPiUMeZQ2v13AjLZE0TkuSleawj4HeAHuRygUkopNRMaUCqllFIFICLLgW8CD2EHkO791wPXAd8Vkdum+3rGmLgx5mTOB6qUUkrNgLfYA1BKKaXKnYgsAJ4A/hj4X2CfiKw2xjwH/CfwG2PMFUUcolJKKZURzVAqpZRSeSQiNcCPgb83xvyHMWYI+BLweeeQc4DdE57TKiLPOeWuF7r/FpHWQo5dKaWUOhPNUCqllFJ5ZIzpB1ZOuO/vgL9zvnwTsGvC4wexu8EiIs8ZY1bnfaBKKaVUBjRDqZRSShXXHuBDIvIPM32iiPwYeCfwLyJyR64HppRSSp2J7kOplFJKKaWUUiojmqFUSimllFJKKZURDSiVUkoppZRSSmVEA0qllFJKKaWUUhnRgFIppZRSSimlVEY0oFRKKaWUUkoplRENKJVSSimllFJKZUQDSqWUUkoppZRSGdGAUimllFJKKaVURv4/ERZnDRZVrvcAAAAASUVORK5CYII\u003d\n"
          },
          "metadata": {
            "needs_background": "light"
          },
          "output_type": "display_data"
        }
      ],
      "source": [
        "scores \u003d y[0,0,:].detach()\n",
        "_, ax \u003d plt.subplots(figsize\u003d(15,5))\n",
        "\n",
        "for t in reversed([0.3, 0.5, 1.0, 100]):\n",
        "    ax.plot(charnn.hot_softmax(scores, temperature\u003dt).cpu().numpy(), label\u003df\u0027T\u003d{t}\u0027)\n",
        "ax.set_xlabel(\u0027$x_{t+1}$\u0027)\n",
        "ax.set_ylabel(\u0027$p(x_{t+1}|x_t)$\u0027)\n",
        "ax.legend()\n",
        "\n",
        "uniform_proba \u003d 1/len(char_to_idx)\n",
        "uniform_diff \u003d torch.abs(charnn.hot_softmax(scores, temperature\u003d100) - uniform_proba)\n",
        "test.assertTrue(torch.all(uniform_diff \u003c 1e-4))"
      ]
    },
    {
      "cell_type": "markdown",
      "metadata": {
        "pycharm": {}
      },
      "source": [
        "**TODO**: Implement the `generate_from_model()` function in the `hw3/charnn.py` module."
      ]
    },
    {
      "cell_type": "code",
      "execution_count": 21,
      "metadata": {
        "pycharm": {
          "is_executing": false
        }
      },
      "outputs": [
        {
          "name": "stdout",
          "text": [
            "foobarkxhOiEGKcy2c9PGpaKS4Go\u0026rjGmps\n5n:?VGNtnUFqjo",
            "\n",
            "foobarAP)xn)oJ8CYujPןu MS]W WWYdMcTXmLa;BpaJfJ)[zR",
            "\n",
            "foobarןUqKeD(2UDs!;IJ¿Nu74Y1\u0026v\"d[N?)J¿VB!v\n(lrO;nX",
            "\n"
          ],
          "output_type": "stream"
        }
      ],
      "source": [
        "for _ in range(3):\n",
        "    text \u003d charnn.generate_from_model(model, \"foobar\", 50, (char_to_idx, idx_to_char), T\u003d0.5)\n",
        "    print(text)\n",
        "    test.assertEqual(len(text), 50)"
      ]
    },
    {
      "cell_type": "markdown",
      "metadata": {
        "pycharm": {}
      },
      "source": [
        "### Training\n",
        "\u003ca id\u003dpart1_7\u003e\u003c/a\u003e"
      ]
    },
    {
      "cell_type": "markdown",
      "metadata": {
        "pycharm": {}
      },
      "source": [
        "To train such a model, we\u0027ll calculate the loss at each time step by comparing the predicted char to\n",
        "the actual char from our label. We can use cross entropy since per char it\u0027s similar to a classification problem.\n",
        "We\u0027ll then sum the losses over the sequence and back-propagate the gradients though time.\n",
        "Notice that the back-propagation algorithm will \"visit\" each layer\u0027s parameter tensors multiple times,\n",
        "so we\u0027ll accumulate gradients in parameters of the blocks. Luckily `autograd` will handle this part for us."
      ]
    },
    {
      "cell_type": "markdown",
      "metadata": {
        "pycharm": {}
      },
      "source": [
        "As usual, the first step of training will be to try and **overfit** a large model (many parameters) to a tiny dataset.\n",
        "Again, this is to ensure the model and training code are implemented correctly, i.e. that the model can learn.\n",
        "\n",
        "For a generative model such as this, overfitting is slightly trickier than for for classification.\n",
        "What we\u0027ll aim to do is to get our model to **memorize** a specific sequence of chars, so that when given the first\n",
        "char in the sequence it will immediately spit out the rest of the sequence verbatim.\n",
        "\n",
        "Let\u0027s create a tiny dataset to memorize."
      ]
    },
    {
      "cell_type": "code",
      "execution_count": 22,
      "metadata": {
        "pycharm": {
          "is_executing": false
        }
      },
      "outputs": [
        {
          "name": "stdout",
          "text": [
            "Text to \"memorize\":\n\nBERTRAM. What would you have?\n  HELENA. Something; and scarce so much; nothing, indeed.\n    I would not tell you what I would, my lord.\n    Faith, yes:\n    Strangers and foes do sunder and not kiss.\n  BERTRAM. I pray you, stay not, but in haste to horse.\n ",
            "\n"
          ],
          "output_type": "stream"
        }
      ],
      "source": [
        "# Pick a tiny subset of the dataset\n",
        "subset_start, subset_end \u003d 1001, 1005\n",
        "ds_corpus_ss \u003d torch.utils.data.Subset(ds_corpus, range(subset_start, subset_end))\n",
        "dl_corpus_ss \u003d torch.utils.data.DataLoader(ds_corpus_ss, batch_size\u003d1, shuffle\u003dFalse)\n",
        "\n",
        "# Convert subset to text\n",
        "subset_text \u003d \u0027\u0027\n",
        "for i in range(subset_end - subset_start):\n",
        "    subset_text +\u003d unembed(ds_corpus_ss[i][0])\n",
        "print(f\u0027Text to \"memorize\":\\n\\n{subset_text}\u0027)"
      ]
    },
    {
      "cell_type": "markdown",
      "metadata": {
        "pycharm": {}
      },
      "source": [
        "Now let\u0027s implement the first part of our training code.\n",
        "\n",
        "**TODO**: Implement the `train_epoch()` and `train_batch()` methods of the `RNNTrainer` class in the `hw3/training.py` module. \n",
        "Note: Think about how to correctly handle the hidden state of the model between batches and epochs\n",
        "(for this specific task, i.e. text generation)."
      ]
    },
    {
      "cell_type": "code",
      "execution_count": 45,
      "metadata": {
        "pycharm": {
          "is_executing": false
        }
      },
      "outputs": [],
      "source": [
        "import torch.nn as nn\n",
        "import torch.optim as optim\n",
        "from hw3.training import RNNTrainer\n",
        "\n",
        "torch.manual_seed(42)\n",
        "\n",
        "lr \u003d 0.01\n",
        "num_epochs \u003d 500\n",
        "\n",
        "in_dim \u003d vocab_len\n",
        "h_dim \u003d 128\n",
        "n_layers \u003d 2\n",
        "loss_fn \u003d nn.CrossEntropyLoss()\n",
        "model \u003d charnn.MultilayerGRU(in_dim, h_dim, out_dim\u003din_dim, n_layers\u003dn_layers).to(device)\n",
        "optimizer \u003d optim.Adam(model.parameters(), lr\u003dlr)\n",
        "trainer \u003d RNNTrainer(model, loss_fn, optimizer, device)\n",
        "\n",
        "for epoch in range(num_epochs):\n",
        "    epoch_result \u003d trainer.train_epoch(dl_corpus_ss, verbose\u003dFalse)\n",
        "    \n",
        "    # Every X epochs, we\u0027ll generate a sequence starting from the first char in the first sequence\n",
        "    # to visualize how/if/what the model is learning.\n",
        "    if epoch \u003d\u003d 0 or (epoch+1) % 25 \u003d\u003d 0:\n",
        "        avg_loss \u003d np.mean(epoch_result.losses)\n",
        "        accuracy \u003d np.mean(epoch_result.accuracy)\n",
        "        print(f\u0027\\nEpoch #{epoch+1}: Avg. loss \u003d {avg_loss:.3f}, Accuracy \u003d {accuracy:.2f}%\u0027)\n",
        "        \n",
        "        generated_sequence \u003d charnn.generate_from_model(model, subset_text[0],\n",
        "                                                        seq_len*(subset_end-subset_start),\n",
        "                                                        (char_to_idx,idx_to_char), T\u003d0.1)\n",
        "        # Stop if we\u0027ve successfully memorized the small dataset.\n",
        "        print(generated_sequence)\n",
        "        if generated_sequence \u003d\u003d subset_text:\n",
        "            break\n",
        "\n",
        "# Test successful overfitting\n",
        "test.assertGreater(epoch_result.accuracy, 99)\n",
        "test.assertEqual(generated_sequence, subset_text)"
      ]
    },
    {
      "cell_type": "markdown",
      "metadata": {
        "pycharm": {}
      },
      "source": [
        "OK, so training works - we can memorize a short sequence. Next on the agenda is to split our full dataset into a training and test sets of batched sequences."
      ]
    },
    {
      "cell_type": "code",
      "execution_count": null,
      "metadata": {
        "pycharm": {}
      },
      "outputs": [],
      "source": [
        "# Full dataset definition\n",
        "vocab_len \u003d len(char_to_idx)\n",
        "seq_len \u003d 64\n",
        "batch_size \u003d 256\n",
        "train_test_ratio \u003d 0.9\n",
        "num_samples \u003d (len(corpus) - 1) // seq_len\n",
        "num_train \u003d int(train_test_ratio * num_samples)\n",
        "\n",
        "samples, labels \u003d charnn.chars_to_labelled_samples(corpus, char_to_idx, seq_len, device)\n",
        "\n",
        "ds_train \u003d torch.utils.data.TensorDataset(samples[:num_train], labels[:num_train])\n",
        "dl_train \u003d torch.utils.data.DataLoader(ds_train, batch_size\u003dbatch_size, shuffle\u003dFalse, drop_last\u003dTrue)\n",
        "\n",
        "ds_test \u003d torch.utils.data.TensorDataset(samples[num_train:], labels[num_train:])\n",
        "dl_test \u003d torch.utils.data.DataLoader(ds_test, batch_size\u003dbatch_size, shuffle\u003dFalse, drop_last\u003dTrue)\n",
        "\n",
        "print(f\u0027Train: {len(dl_train):3d} batches, {len(dl_train)*batch_size*seq_len:7d} chars\u0027)\n",
        "print(f\u0027Test:  {len(dl_test):3d} batches, {len(dl_test)*batch_size*seq_len:7d} chars\u0027)"
      ]
    },
    {
      "cell_type": "markdown",
      "metadata": {
        "pycharm": {}
      },
      "source": [
        "We\u0027ll now train a much larger model on our large dataset.\n",
        "You\u0027ll need a **GPU** for this part.\n",
        "\n",
        "The code blocks below will train the model and save checkpoints containing the training state and the best model parameters to a file. This allows you to stop training and resume it later from where you left.\n",
        "\n",
        "Note that you can use the `main.py` script provided within the assignment folder to run this notebook from the command line as if it were a python script by using the `run-nb` subcommand. This allows you to train your model using this notebook without starting jupyter. You can combine this with `srun` or `sbatch` to run the notebook with a GPU on the course servers."
      ]
    },
    {
      "cell_type": "code",
      "execution_count": null,
      "metadata": {
        "pycharm": {}
      },
      "outputs": [],
      "source": [
        "# Full training definition\n",
        "lr \u003d 0.001\n",
        "num_epochs \u003d 50\n",
        "\n",
        "in_dim \u003d out_dim \u003d vocab_len\n",
        "hidden_dim \u003d 512\n",
        "n_layers \u003d 3\n",
        "dropout \u003d 0.5\n",
        "checkpoint_file \u003d \u0027checkpoints/rnn\u0027\n",
        "max_batches \u003d 300\n",
        "early_stopping \u003d 5\n",
        "\n",
        "model \u003d charnn.MultilayerGRU(in_dim, hidden_dim, out_dim, n_layers, dropout)\n",
        "loss_fn \u003d nn.CrossEntropyLoss()\n",
        "optimizer \u003d optim.Adam(model.parameters(), lr\u003dlr)\n",
        "scheduler \u003d optim.lr_scheduler.ReduceLROnPlateau(optimizer, mode\u003d\u0027max\u0027, factor\u003d0.5, patience\u003d2, verbose\u003dTrue)\n",
        "trainer \u003d RNNTrainer(model, loss_fn, optimizer, device)"
      ]
    },
    {
      "cell_type": "markdown",
      "metadata": {
        "pycharm": {}
      },
      "source": [
        "**TODO**:\n",
        "- Implement the `fit()` method of the `Trainer` class. You can reuse the implementation from HW2, but make sure to implement early stopping and checkpoints.\n",
        "- Implement the `test_epoch()` and `test_batch()` methods of the `RNNTrainer` class in the `hw3/training.py` module.\n",
        "- Run the following block to train."
      ]
    },
    {
      "cell_type": "code",
      "execution_count": null,
      "metadata": {
        "pycharm": {}
      },
      "outputs": [],
      "source": [
        "from cs236605.plot import plot_fit\n",
        "\n",
        "def post_epoch_fn(epoch, test_res, train_res, verbose):\n",
        "    # Update learning rate\n",
        "    scheduler.step(test_res.accuracy)\n",
        "    # Sample from model to show progress\n",
        "    if verbose:\n",
        "        start_seq \u003d \"ACT I.\"\n",
        "        generated_sequence \u003d charnn.generate_from_model(\n",
        "            model, start_seq, 100, (char_to_idx,idx_to_char), T\u003d0.5\n",
        "        )\n",
        "        print(generated_sequence)\n",
        "\n",
        "# Train, unless final checkpoint is found\n",
        "checkpoint_file_final \u003d f\u0027{checkpoint_file}_final.pt\u0027\n",
        "if os.path.isfile(checkpoint_file_final):\n",
        "    print(f\u0027*** Loading final checkpoint file {checkpoint_file_final} instead of training\u0027)\n",
        "    saved_state \u003d torch.load(checkpoint_file_final, map_location\u003ddevice)\n",
        "    model.load_state_dict(saved_state[\u0027model_state\u0027])\n",
        "else:\n",
        "    try:\n",
        "        # Print pre-training sampling\n",
        "        print(charnn.generate_from_model(model, \"ACT I.\", 100, (char_to_idx,idx_to_char), T\u003d0.5))\n",
        "\n",
        "        fit_res \u003d trainer.fit(dl_train, dl_test, num_epochs, max_batches\u003dmax_batches,\n",
        "                              post_epoch_fn\u003dpost_epoch_fn, early_stopping\u003dearly_stopping,\n",
        "                              checkpoints\u003dcheckpoint_file, print_every\u003d1)\n",
        "        \n",
        "        fig, axes \u003d plot_fit(fit_res)\n",
        "    except KeyboardInterrupt as e:\n",
        "        print(\u0027\\n *** Training interrupted by user\u0027)"
      ]
    },
    {
      "cell_type": "markdown",
      "metadata": {
        "pycharm": {}
      },
      "source": [
        "### Generating a work of art\n",
        "\u003ca id\u003dpart1_8\u003e\u003c/a\u003e"
      ]
    },
    {
      "cell_type": "markdown",
      "metadata": {
        "pycharm": {}
      },
      "source": [
        "Armed with our fully trained model, let\u0027s generate the next Hamlet! You should experiment with modifying the sampling temperature and see what happens.\n",
        "\n",
        "**TODO**: Specify the generation parameters in the `part1_generation_params()` function within the `hw3/answers.py` module."
      ]
    },
    {
      "cell_type": "code",
      "execution_count": null,
      "metadata": {
        "pycharm": {}
      },
      "outputs": [],
      "source": [
        "import hw3.answers\n",
        "\n",
        "start_seq, temperature \u003d hw3.answers.part1_generation_params()\n",
        "\n",
        "generated_sequence \u003d charnn.generate_from_model(\n",
        "    model, start_seq, 10000, (char_to_idx,idx_to_char), T\u003dtemperature\n",
        ")\n",
        "\n",
        "print(generated_sequence)"
      ]
    },
    {
      "cell_type": "markdown",
      "metadata": {
        "pycharm": {}
      },
      "source": [
        "## Questions\n",
        "\u003ca id\u003dpart1_9\u003e\u003c/a\u003e"
      ]
    },
    {
      "cell_type": "markdown",
      "metadata": {
        "pycharm": {}
      },
      "source": [
        "**TODO** Answer the following questions. Write your answers in the appropriate variables in the module `hw3/answers.py`."
      ]
    },
    {
      "cell_type": "code",
      "execution_count": null,
      "metadata": {
        "pycharm": {}
      },
      "outputs": [],
      "source": [
        "from cs236605.answers import display_answer\n",
        "import hw3.answers"
      ]
    },
    {
      "cell_type": "markdown",
      "metadata": {
        "pycharm": {}
      },
      "source": [
        "### Question 1\n",
        "Why do we split the corpus into sequences instead of training on the whole text?"
      ]
    },
    {
      "cell_type": "code",
      "execution_count": null,
      "metadata": {
        "pycharm": {}
      },
      "outputs": [],
      "source": [
        "display_answer(hw3.answers.part1_q1)"
      ]
    },
    {
      "cell_type": "markdown",
      "metadata": {
        "pycharm": {}
      },
      "source": [
        "### Question 2\n",
        "How is it possible that the generated text clearly shows memory longer than the sequence length?"
      ]
    },
    {
      "cell_type": "code",
      "execution_count": null,
      "metadata": {
        "pycharm": {}
      },
      "outputs": [],
      "source": [
        "display_answer(hw3.answers.part1_q2)"
      ]
    },
    {
      "cell_type": "markdown",
      "metadata": {
        "pycharm": {}
      },
      "source": [
        "### Question 3\n",
        "Why are we not shuffling the order of batches when training?"
      ]
    },
    {
      "cell_type": "code",
      "execution_count": null,
      "metadata": {
        "pycharm": {}
      },
      "outputs": [],
      "source": [
        "display_answer(hw3.answers.part1_q3)"
      ]
    },
    {
      "cell_type": "markdown",
      "metadata": {
        "pycharm": {}
      },
      "source": [
        "### Question 4\n",
        "1. Why do we lower the temperature for sampling (compared to the default of $1.0$ when training)?\n",
        "2. What happens when the temperature is very high and why?\n",
        "3. What happens when the temperature is very low and why?"
      ]
    },
    {
      "cell_type": "code",
      "execution_count": null,
      "metadata": {
        "pycharm": {}
      },
      "outputs": [],
      "source": [
        "display_answer(hw3.answers.part1_q4)"
      ]
    }
  ],
  "metadata": {
    "kernelspec": {
      "name": "pycharm-681a3bc0",
      "language": "python",
      "display_name": "PyCharm (DL3)"
    },
    "language_info": {
      "codemirror_mode": {
        "name": "ipython",
        "version": 3
      },
      "file_extension": ".py",
      "mimetype": "text/x-python",
      "name": "python",
      "nbconvert_exporter": "python",
      "pygments_lexer": "ipython3",
      "version": "3.7.2"
    },
    "pycharm": {
      "stem_cell": {
        "cell_type": "raw",
        "source": [],
        "metadata": {
          "collapsed": false
        }
      }
    }
  },
  "nbformat": 4,
  "nbformat_minor": 2
}